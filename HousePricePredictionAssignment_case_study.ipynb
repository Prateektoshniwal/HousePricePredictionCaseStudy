{
 "cells": [
  {
   "cell_type": "markdown",
   "metadata": {},
   "source": [
    "# Assignment 1: House Sales Prediction"
   ]
  },
  {
   "cell_type": "markdown",
   "metadata": {},
   "source": [
    "## 1. Importing Packages"
   ]
  },
  {
   "cell_type": "code",
   "execution_count": 1,
   "metadata": {},
   "outputs": [],
   "source": [
    "import numpy as np # linear algebra\n",
    "import pandas as pd # data processing, CSV file I/O (e.g. pd.read_csv)\n",
    "import os\n",
    "import matplotlib.pyplot as plt\n",
    "import seaborn as sns\n",
    "\n",
    "import statsmodels\n",
    "import statsmodels.api as sm\n",
    "from statsmodels.stats.outliers_influence import variance_inflation_factor\n",
    "\n",
    "from sklearn.feature_selection import RFE\n",
    "\n",
    "from sklearn.model_selection import train_test_split\n",
    "from sklearn.preprocessing import StandardScaler\n",
    "from sklearn import linear_model\n",
    "from sklearn.linear_model import LinearRegression\n",
    "from sklearn.linear_model import Ridge\n",
    "from sklearn.linear_model import Lasso\n",
    "from sklearn.model_selection import GridSearchCV\n",
    "from sklearn import metrics\n",
    "\n",
    "# hide warnings\n",
    "import warnings\n",
    "warnings.filterwarnings('ignore')"
   ]
  },
  {
   "cell_type": "markdown",
   "metadata": {},
   "source": [
    "## 2. Data Loading and Understanding"
   ]
  },
  {
   "cell_type": "code",
   "execution_count": 2,
   "metadata": {},
   "outputs": [
    {
     "data": {
      "text/html": [
       "<div>\n",
       "<style scoped>\n",
       "    .dataframe tbody tr th:only-of-type {\n",
       "        vertical-align: middle;\n",
       "    }\n",
       "\n",
       "    .dataframe tbody tr th {\n",
       "        vertical-align: top;\n",
       "    }\n",
       "\n",
       "    .dataframe thead th {\n",
       "        text-align: right;\n",
       "    }\n",
       "</style>\n",
       "<table border=\"1\" class=\"dataframe\">\n",
       "  <thead>\n",
       "    <tr style=\"text-align: right;\">\n",
       "      <th></th>\n",
       "      <th>Id</th>\n",
       "      <th>MSSubClass</th>\n",
       "      <th>MSZoning</th>\n",
       "      <th>LotFrontage</th>\n",
       "      <th>LotArea</th>\n",
       "      <th>Street</th>\n",
       "      <th>Alley</th>\n",
       "      <th>LotShape</th>\n",
       "      <th>LandContour</th>\n",
       "      <th>Utilities</th>\n",
       "      <th>...</th>\n",
       "      <th>PoolArea</th>\n",
       "      <th>PoolQC</th>\n",
       "      <th>Fence</th>\n",
       "      <th>MiscFeature</th>\n",
       "      <th>MiscVal</th>\n",
       "      <th>MoSold</th>\n",
       "      <th>YrSold</th>\n",
       "      <th>SaleType</th>\n",
       "      <th>SaleCondition</th>\n",
       "      <th>SalePrice</th>\n",
       "    </tr>\n",
       "  </thead>\n",
       "  <tbody>\n",
       "    <tr>\n",
       "      <th>0</th>\n",
       "      <td>1</td>\n",
       "      <td>60</td>\n",
       "      <td>RL</td>\n",
       "      <td>65.0</td>\n",
       "      <td>8450</td>\n",
       "      <td>Pave</td>\n",
       "      <td>NaN</td>\n",
       "      <td>Reg</td>\n",
       "      <td>Lvl</td>\n",
       "      <td>AllPub</td>\n",
       "      <td>...</td>\n",
       "      <td>0</td>\n",
       "      <td>NaN</td>\n",
       "      <td>NaN</td>\n",
       "      <td>NaN</td>\n",
       "      <td>0</td>\n",
       "      <td>2</td>\n",
       "      <td>2008</td>\n",
       "      <td>WD</td>\n",
       "      <td>Normal</td>\n",
       "      <td>208500</td>\n",
       "    </tr>\n",
       "    <tr>\n",
       "      <th>1</th>\n",
       "      <td>2</td>\n",
       "      <td>20</td>\n",
       "      <td>RL</td>\n",
       "      <td>80.0</td>\n",
       "      <td>9600</td>\n",
       "      <td>Pave</td>\n",
       "      <td>NaN</td>\n",
       "      <td>Reg</td>\n",
       "      <td>Lvl</td>\n",
       "      <td>AllPub</td>\n",
       "      <td>...</td>\n",
       "      <td>0</td>\n",
       "      <td>NaN</td>\n",
       "      <td>NaN</td>\n",
       "      <td>NaN</td>\n",
       "      <td>0</td>\n",
       "      <td>5</td>\n",
       "      <td>2007</td>\n",
       "      <td>WD</td>\n",
       "      <td>Normal</td>\n",
       "      <td>181500</td>\n",
       "    </tr>\n",
       "    <tr>\n",
       "      <th>2</th>\n",
       "      <td>3</td>\n",
       "      <td>60</td>\n",
       "      <td>RL</td>\n",
       "      <td>68.0</td>\n",
       "      <td>11250</td>\n",
       "      <td>Pave</td>\n",
       "      <td>NaN</td>\n",
       "      <td>IR1</td>\n",
       "      <td>Lvl</td>\n",
       "      <td>AllPub</td>\n",
       "      <td>...</td>\n",
       "      <td>0</td>\n",
       "      <td>NaN</td>\n",
       "      <td>NaN</td>\n",
       "      <td>NaN</td>\n",
       "      <td>0</td>\n",
       "      <td>9</td>\n",
       "      <td>2008</td>\n",
       "      <td>WD</td>\n",
       "      <td>Normal</td>\n",
       "      <td>223500</td>\n",
       "    </tr>\n",
       "    <tr>\n",
       "      <th>3</th>\n",
       "      <td>4</td>\n",
       "      <td>70</td>\n",
       "      <td>RL</td>\n",
       "      <td>60.0</td>\n",
       "      <td>9550</td>\n",
       "      <td>Pave</td>\n",
       "      <td>NaN</td>\n",
       "      <td>IR1</td>\n",
       "      <td>Lvl</td>\n",
       "      <td>AllPub</td>\n",
       "      <td>...</td>\n",
       "      <td>0</td>\n",
       "      <td>NaN</td>\n",
       "      <td>NaN</td>\n",
       "      <td>NaN</td>\n",
       "      <td>0</td>\n",
       "      <td>2</td>\n",
       "      <td>2006</td>\n",
       "      <td>WD</td>\n",
       "      <td>Abnorml</td>\n",
       "      <td>140000</td>\n",
       "    </tr>\n",
       "    <tr>\n",
       "      <th>4</th>\n",
       "      <td>5</td>\n",
       "      <td>60</td>\n",
       "      <td>RL</td>\n",
       "      <td>84.0</td>\n",
       "      <td>14260</td>\n",
       "      <td>Pave</td>\n",
       "      <td>NaN</td>\n",
       "      <td>IR1</td>\n",
       "      <td>Lvl</td>\n",
       "      <td>AllPub</td>\n",
       "      <td>...</td>\n",
       "      <td>0</td>\n",
       "      <td>NaN</td>\n",
       "      <td>NaN</td>\n",
       "      <td>NaN</td>\n",
       "      <td>0</td>\n",
       "      <td>12</td>\n",
       "      <td>2008</td>\n",
       "      <td>WD</td>\n",
       "      <td>Normal</td>\n",
       "      <td>250000</td>\n",
       "    </tr>\n",
       "  </tbody>\n",
       "</table>\n",
       "<p>5 rows × 81 columns</p>\n",
       "</div>"
      ],
      "text/plain": [
       "   Id  MSSubClass MSZoning  LotFrontage  LotArea Street Alley LotShape  \\\n",
       "0   1          60       RL         65.0     8450   Pave   NaN      Reg   \n",
       "1   2          20       RL         80.0     9600   Pave   NaN      Reg   \n",
       "2   3          60       RL         68.0    11250   Pave   NaN      IR1   \n",
       "3   4          70       RL         60.0     9550   Pave   NaN      IR1   \n",
       "4   5          60       RL         84.0    14260   Pave   NaN      IR1   \n",
       "\n",
       "  LandContour Utilities  ... PoolArea PoolQC Fence MiscFeature MiscVal MoSold  \\\n",
       "0         Lvl    AllPub  ...        0    NaN   NaN         NaN       0      2   \n",
       "1         Lvl    AllPub  ...        0    NaN   NaN         NaN       0      5   \n",
       "2         Lvl    AllPub  ...        0    NaN   NaN         NaN       0      9   \n",
       "3         Lvl    AllPub  ...        0    NaN   NaN         NaN       0      2   \n",
       "4         Lvl    AllPub  ...        0    NaN   NaN         NaN       0     12   \n",
       "\n",
       "  YrSold  SaleType  SaleCondition  SalePrice  \n",
       "0   2008        WD         Normal     208500  \n",
       "1   2007        WD         Normal     181500  \n",
       "2   2008        WD         Normal     223500  \n",
       "3   2006        WD        Abnorml     140000  \n",
       "4   2008        WD         Normal     250000  \n",
       "\n",
       "[5 rows x 81 columns]"
      ]
     },
     "execution_count": 2,
     "metadata": {},
     "output_type": "execute_result"
    }
   ],
   "source": [
    "house_df=pd.read_csv(\"train.csv\")\n",
    "\n",
    "#- Reading the initial rows\n",
    "house_df.head()\n"
   ]
  },
  {
   "cell_type": "code",
   "execution_count": 3,
   "metadata": {},
   "outputs": [
    {
     "data": {
      "text/plain": [
       "(1460, 81)"
      ]
     },
     "execution_count": 3,
     "metadata": {},
     "output_type": "execute_result"
    }
   ],
   "source": [
    "#checking shape of dataset\n",
    "house_df.shape"
   ]
  },
  {
   "cell_type": "code",
   "execution_count": 4,
   "metadata": {},
   "outputs": [
    {
     "name": "stdout",
     "output_type": "stream",
     "text": [
      "<class 'pandas.core.frame.DataFrame'>\n",
      "RangeIndex: 1460 entries, 0 to 1459\n",
      "Data columns (total 81 columns):\n",
      " #   Column         Non-Null Count  Dtype  \n",
      "---  ------         --------------  -----  \n",
      " 0   Id             1460 non-null   int64  \n",
      " 1   MSSubClass     1460 non-null   int64  \n",
      " 2   MSZoning       1460 non-null   object \n",
      " 3   LotFrontage    1201 non-null   float64\n",
      " 4   LotArea        1460 non-null   int64  \n",
      " 5   Street         1460 non-null   object \n",
      " 6   Alley          91 non-null     object \n",
      " 7   LotShape       1460 non-null   object \n",
      " 8   LandContour    1460 non-null   object \n",
      " 9   Utilities      1460 non-null   object \n",
      " 10  LotConfig      1460 non-null   object \n",
      " 11  LandSlope      1460 non-null   object \n",
      " 12  Neighborhood   1460 non-null   object \n",
      " 13  Condition1     1460 non-null   object \n",
      " 14  Condition2     1460 non-null   object \n",
      " 15  BldgType       1460 non-null   object \n",
      " 16  HouseStyle     1460 non-null   object \n",
      " 17  OverallQual    1460 non-null   int64  \n",
      " 18  OverallCond    1460 non-null   int64  \n",
      " 19  YearBuilt      1460 non-null   int64  \n",
      " 20  YearRemodAdd   1460 non-null   int64  \n",
      " 21  RoofStyle      1460 non-null   object \n",
      " 22  RoofMatl       1460 non-null   object \n",
      " 23  Exterior1st    1460 non-null   object \n",
      " 24  Exterior2nd    1460 non-null   object \n",
      " 25  MasVnrType     1452 non-null   object \n",
      " 26  MasVnrArea     1452 non-null   float64\n",
      " 27  ExterQual      1460 non-null   object \n",
      " 28  ExterCond      1460 non-null   object \n",
      " 29  Foundation     1460 non-null   object \n",
      " 30  BsmtQual       1423 non-null   object \n",
      " 31  BsmtCond       1423 non-null   object \n",
      " 32  BsmtExposure   1422 non-null   object \n",
      " 33  BsmtFinType1   1423 non-null   object \n",
      " 34  BsmtFinSF1     1460 non-null   int64  \n",
      " 35  BsmtFinType2   1422 non-null   object \n",
      " 36  BsmtFinSF2     1460 non-null   int64  \n",
      " 37  BsmtUnfSF      1460 non-null   int64  \n",
      " 38  TotalBsmtSF    1460 non-null   int64  \n",
      " 39  Heating        1460 non-null   object \n",
      " 40  HeatingQC      1460 non-null   object \n",
      " 41  CentralAir     1460 non-null   object \n",
      " 42  Electrical     1459 non-null   object \n",
      " 43  1stFlrSF       1460 non-null   int64  \n",
      " 44  2ndFlrSF       1460 non-null   int64  \n",
      " 45  LowQualFinSF   1460 non-null   int64  \n",
      " 46  GrLivArea      1460 non-null   int64  \n",
      " 47  BsmtFullBath   1460 non-null   int64  \n",
      " 48  BsmtHalfBath   1460 non-null   int64  \n",
      " 49  FullBath       1460 non-null   int64  \n",
      " 50  HalfBath       1460 non-null   int64  \n",
      " 51  BedroomAbvGr   1460 non-null   int64  \n",
      " 52  KitchenAbvGr   1460 non-null   int64  \n",
      " 53  KitchenQual    1460 non-null   object \n",
      " 54  TotRmsAbvGrd   1460 non-null   int64  \n",
      " 55  Functional     1460 non-null   object \n",
      " 56  Fireplaces     1460 non-null   int64  \n",
      " 57  FireplaceQu    770 non-null    object \n",
      " 58  GarageType     1379 non-null   object \n",
      " 59  GarageYrBlt    1379 non-null   float64\n",
      " 60  GarageFinish   1379 non-null   object \n",
      " 61  GarageCars     1460 non-null   int64  \n",
      " 62  GarageArea     1460 non-null   int64  \n",
      " 63  GarageQual     1379 non-null   object \n",
      " 64  GarageCond     1379 non-null   object \n",
      " 65  PavedDrive     1460 non-null   object \n",
      " 66  WoodDeckSF     1460 non-null   int64  \n",
      " 67  OpenPorchSF    1460 non-null   int64  \n",
      " 68  EnclosedPorch  1460 non-null   int64  \n",
      " 69  3SsnPorch      1460 non-null   int64  \n",
      " 70  ScreenPorch    1460 non-null   int64  \n",
      " 71  PoolArea       1460 non-null   int64  \n",
      " 72  PoolQC         7 non-null      object \n",
      " 73  Fence          281 non-null    object \n",
      " 74  MiscFeature    54 non-null     object \n",
      " 75  MiscVal        1460 non-null   int64  \n",
      " 76  MoSold         1460 non-null   int64  \n",
      " 77  YrSold         1460 non-null   int64  \n",
      " 78  SaleType       1460 non-null   object \n",
      " 79  SaleCondition  1460 non-null   object \n",
      " 80  SalePrice      1460 non-null   int64  \n",
      "dtypes: float64(3), int64(35), object(43)\n",
      "memory usage: 924.0+ KB\n"
     ]
    }
   ],
   "source": [
    "#checking info of dataset\n",
    "house_df.info()"
   ]
  },
  {
   "cell_type": "code",
   "execution_count": 5,
   "metadata": {},
   "outputs": [
    {
     "data": {
      "text/html": [
       "<div>\n",
       "<style scoped>\n",
       "    .dataframe tbody tr th:only-of-type {\n",
       "        vertical-align: middle;\n",
       "    }\n",
       "\n",
       "    .dataframe tbody tr th {\n",
       "        vertical-align: top;\n",
       "    }\n",
       "\n",
       "    .dataframe thead th {\n",
       "        text-align: right;\n",
       "    }\n",
       "</style>\n",
       "<table border=\"1\" class=\"dataframe\">\n",
       "  <thead>\n",
       "    <tr style=\"text-align: right;\">\n",
       "      <th></th>\n",
       "      <th>Id</th>\n",
       "      <th>MSSubClass</th>\n",
       "      <th>LotFrontage</th>\n",
       "      <th>LotArea</th>\n",
       "      <th>OverallQual</th>\n",
       "      <th>OverallCond</th>\n",
       "      <th>YearBuilt</th>\n",
       "      <th>YearRemodAdd</th>\n",
       "      <th>MasVnrArea</th>\n",
       "      <th>BsmtFinSF1</th>\n",
       "      <th>...</th>\n",
       "      <th>WoodDeckSF</th>\n",
       "      <th>OpenPorchSF</th>\n",
       "      <th>EnclosedPorch</th>\n",
       "      <th>3SsnPorch</th>\n",
       "      <th>ScreenPorch</th>\n",
       "      <th>PoolArea</th>\n",
       "      <th>MiscVal</th>\n",
       "      <th>MoSold</th>\n",
       "      <th>YrSold</th>\n",
       "      <th>SalePrice</th>\n",
       "    </tr>\n",
       "  </thead>\n",
       "  <tbody>\n",
       "    <tr>\n",
       "      <th>count</th>\n",
       "      <td>1460.000000</td>\n",
       "      <td>1460.000000</td>\n",
       "      <td>1201.000000</td>\n",
       "      <td>1460.000000</td>\n",
       "      <td>1460.000000</td>\n",
       "      <td>1460.000000</td>\n",
       "      <td>1460.000000</td>\n",
       "      <td>1460.000000</td>\n",
       "      <td>1452.000000</td>\n",
       "      <td>1460.000000</td>\n",
       "      <td>...</td>\n",
       "      <td>1460.000000</td>\n",
       "      <td>1460.000000</td>\n",
       "      <td>1460.000000</td>\n",
       "      <td>1460.000000</td>\n",
       "      <td>1460.000000</td>\n",
       "      <td>1460.000000</td>\n",
       "      <td>1460.000000</td>\n",
       "      <td>1460.000000</td>\n",
       "      <td>1460.000000</td>\n",
       "      <td>1460.000000</td>\n",
       "    </tr>\n",
       "    <tr>\n",
       "      <th>mean</th>\n",
       "      <td>730.500000</td>\n",
       "      <td>56.897260</td>\n",
       "      <td>70.049958</td>\n",
       "      <td>10516.828082</td>\n",
       "      <td>6.099315</td>\n",
       "      <td>5.575342</td>\n",
       "      <td>1971.267808</td>\n",
       "      <td>1984.865753</td>\n",
       "      <td>103.685262</td>\n",
       "      <td>443.639726</td>\n",
       "      <td>...</td>\n",
       "      <td>94.244521</td>\n",
       "      <td>46.660274</td>\n",
       "      <td>21.954110</td>\n",
       "      <td>3.409589</td>\n",
       "      <td>15.060959</td>\n",
       "      <td>2.758904</td>\n",
       "      <td>43.489041</td>\n",
       "      <td>6.321918</td>\n",
       "      <td>2007.815753</td>\n",
       "      <td>180921.195890</td>\n",
       "    </tr>\n",
       "    <tr>\n",
       "      <th>std</th>\n",
       "      <td>421.610009</td>\n",
       "      <td>42.300571</td>\n",
       "      <td>24.284752</td>\n",
       "      <td>9981.264932</td>\n",
       "      <td>1.382997</td>\n",
       "      <td>1.112799</td>\n",
       "      <td>30.202904</td>\n",
       "      <td>20.645407</td>\n",
       "      <td>181.066207</td>\n",
       "      <td>456.098091</td>\n",
       "      <td>...</td>\n",
       "      <td>125.338794</td>\n",
       "      <td>66.256028</td>\n",
       "      <td>61.119149</td>\n",
       "      <td>29.317331</td>\n",
       "      <td>55.757415</td>\n",
       "      <td>40.177307</td>\n",
       "      <td>496.123024</td>\n",
       "      <td>2.703626</td>\n",
       "      <td>1.328095</td>\n",
       "      <td>79442.502883</td>\n",
       "    </tr>\n",
       "    <tr>\n",
       "      <th>min</th>\n",
       "      <td>1.000000</td>\n",
       "      <td>20.000000</td>\n",
       "      <td>21.000000</td>\n",
       "      <td>1300.000000</td>\n",
       "      <td>1.000000</td>\n",
       "      <td>1.000000</td>\n",
       "      <td>1872.000000</td>\n",
       "      <td>1950.000000</td>\n",
       "      <td>0.000000</td>\n",
       "      <td>0.000000</td>\n",
       "      <td>...</td>\n",
       "      <td>0.000000</td>\n",
       "      <td>0.000000</td>\n",
       "      <td>0.000000</td>\n",
       "      <td>0.000000</td>\n",
       "      <td>0.000000</td>\n",
       "      <td>0.000000</td>\n",
       "      <td>0.000000</td>\n",
       "      <td>1.000000</td>\n",
       "      <td>2006.000000</td>\n",
       "      <td>34900.000000</td>\n",
       "    </tr>\n",
       "    <tr>\n",
       "      <th>25%</th>\n",
       "      <td>365.750000</td>\n",
       "      <td>20.000000</td>\n",
       "      <td>59.000000</td>\n",
       "      <td>7553.500000</td>\n",
       "      <td>5.000000</td>\n",
       "      <td>5.000000</td>\n",
       "      <td>1954.000000</td>\n",
       "      <td>1967.000000</td>\n",
       "      <td>0.000000</td>\n",
       "      <td>0.000000</td>\n",
       "      <td>...</td>\n",
       "      <td>0.000000</td>\n",
       "      <td>0.000000</td>\n",
       "      <td>0.000000</td>\n",
       "      <td>0.000000</td>\n",
       "      <td>0.000000</td>\n",
       "      <td>0.000000</td>\n",
       "      <td>0.000000</td>\n",
       "      <td>5.000000</td>\n",
       "      <td>2007.000000</td>\n",
       "      <td>129975.000000</td>\n",
       "    </tr>\n",
       "    <tr>\n",
       "      <th>50%</th>\n",
       "      <td>730.500000</td>\n",
       "      <td>50.000000</td>\n",
       "      <td>69.000000</td>\n",
       "      <td>9478.500000</td>\n",
       "      <td>6.000000</td>\n",
       "      <td>5.000000</td>\n",
       "      <td>1973.000000</td>\n",
       "      <td>1994.000000</td>\n",
       "      <td>0.000000</td>\n",
       "      <td>383.500000</td>\n",
       "      <td>...</td>\n",
       "      <td>0.000000</td>\n",
       "      <td>25.000000</td>\n",
       "      <td>0.000000</td>\n",
       "      <td>0.000000</td>\n",
       "      <td>0.000000</td>\n",
       "      <td>0.000000</td>\n",
       "      <td>0.000000</td>\n",
       "      <td>6.000000</td>\n",
       "      <td>2008.000000</td>\n",
       "      <td>163000.000000</td>\n",
       "    </tr>\n",
       "    <tr>\n",
       "      <th>75%</th>\n",
       "      <td>1095.250000</td>\n",
       "      <td>70.000000</td>\n",
       "      <td>80.000000</td>\n",
       "      <td>11601.500000</td>\n",
       "      <td>7.000000</td>\n",
       "      <td>6.000000</td>\n",
       "      <td>2000.000000</td>\n",
       "      <td>2004.000000</td>\n",
       "      <td>166.000000</td>\n",
       "      <td>712.250000</td>\n",
       "      <td>...</td>\n",
       "      <td>168.000000</td>\n",
       "      <td>68.000000</td>\n",
       "      <td>0.000000</td>\n",
       "      <td>0.000000</td>\n",
       "      <td>0.000000</td>\n",
       "      <td>0.000000</td>\n",
       "      <td>0.000000</td>\n",
       "      <td>8.000000</td>\n",
       "      <td>2009.000000</td>\n",
       "      <td>214000.000000</td>\n",
       "    </tr>\n",
       "    <tr>\n",
       "      <th>max</th>\n",
       "      <td>1460.000000</td>\n",
       "      <td>190.000000</td>\n",
       "      <td>313.000000</td>\n",
       "      <td>215245.000000</td>\n",
       "      <td>10.000000</td>\n",
       "      <td>9.000000</td>\n",
       "      <td>2010.000000</td>\n",
       "      <td>2010.000000</td>\n",
       "      <td>1600.000000</td>\n",
       "      <td>5644.000000</td>\n",
       "      <td>...</td>\n",
       "      <td>857.000000</td>\n",
       "      <td>547.000000</td>\n",
       "      <td>552.000000</td>\n",
       "      <td>508.000000</td>\n",
       "      <td>480.000000</td>\n",
       "      <td>738.000000</td>\n",
       "      <td>15500.000000</td>\n",
       "      <td>12.000000</td>\n",
       "      <td>2010.000000</td>\n",
       "      <td>755000.000000</td>\n",
       "    </tr>\n",
       "  </tbody>\n",
       "</table>\n",
       "<p>8 rows × 38 columns</p>\n",
       "</div>"
      ],
      "text/plain": [
       "                Id   MSSubClass  LotFrontage        LotArea  OverallQual  \\\n",
       "count  1460.000000  1460.000000  1201.000000    1460.000000  1460.000000   \n",
       "mean    730.500000    56.897260    70.049958   10516.828082     6.099315   \n",
       "std     421.610009    42.300571    24.284752    9981.264932     1.382997   \n",
       "min       1.000000    20.000000    21.000000    1300.000000     1.000000   \n",
       "25%     365.750000    20.000000    59.000000    7553.500000     5.000000   \n",
       "50%     730.500000    50.000000    69.000000    9478.500000     6.000000   \n",
       "75%    1095.250000    70.000000    80.000000   11601.500000     7.000000   \n",
       "max    1460.000000   190.000000   313.000000  215245.000000    10.000000   \n",
       "\n",
       "       OverallCond    YearBuilt  YearRemodAdd   MasVnrArea   BsmtFinSF1  ...  \\\n",
       "count  1460.000000  1460.000000   1460.000000  1452.000000  1460.000000  ...   \n",
       "mean      5.575342  1971.267808   1984.865753   103.685262   443.639726  ...   \n",
       "std       1.112799    30.202904     20.645407   181.066207   456.098091  ...   \n",
       "min       1.000000  1872.000000   1950.000000     0.000000     0.000000  ...   \n",
       "25%       5.000000  1954.000000   1967.000000     0.000000     0.000000  ...   \n",
       "50%       5.000000  1973.000000   1994.000000     0.000000   383.500000  ...   \n",
       "75%       6.000000  2000.000000   2004.000000   166.000000   712.250000  ...   \n",
       "max       9.000000  2010.000000   2010.000000  1600.000000  5644.000000  ...   \n",
       "\n",
       "        WoodDeckSF  OpenPorchSF  EnclosedPorch    3SsnPorch  ScreenPorch  \\\n",
       "count  1460.000000  1460.000000    1460.000000  1460.000000  1460.000000   \n",
       "mean     94.244521    46.660274      21.954110     3.409589    15.060959   \n",
       "std     125.338794    66.256028      61.119149    29.317331    55.757415   \n",
       "min       0.000000     0.000000       0.000000     0.000000     0.000000   \n",
       "25%       0.000000     0.000000       0.000000     0.000000     0.000000   \n",
       "50%       0.000000    25.000000       0.000000     0.000000     0.000000   \n",
       "75%     168.000000    68.000000       0.000000     0.000000     0.000000   \n",
       "max     857.000000   547.000000     552.000000   508.000000   480.000000   \n",
       "\n",
       "          PoolArea       MiscVal       MoSold       YrSold      SalePrice  \n",
       "count  1460.000000   1460.000000  1460.000000  1460.000000    1460.000000  \n",
       "mean      2.758904     43.489041     6.321918  2007.815753  180921.195890  \n",
       "std      40.177307    496.123024     2.703626     1.328095   79442.502883  \n",
       "min       0.000000      0.000000     1.000000  2006.000000   34900.000000  \n",
       "25%       0.000000      0.000000     5.000000  2007.000000  129975.000000  \n",
       "50%       0.000000      0.000000     6.000000  2008.000000  163000.000000  \n",
       "75%       0.000000      0.000000     8.000000  2009.000000  214000.000000  \n",
       "max     738.000000  15500.000000    12.000000  2010.000000  755000.000000  \n",
       "\n",
       "[8 rows x 38 columns]"
      ]
     },
     "execution_count": 5,
     "metadata": {},
     "output_type": "execute_result"
    }
   ],
   "source": [
    "# Reading the parameters of numerical data.\n",
    "house_df.describe()"
   ]
  },
  {
   "cell_type": "markdown",
   "metadata": {},
   "source": [
    "#  Cleaning and visualizing the data"
   ]
  },
  {
   "cell_type": "code",
   "execution_count": 6,
   "metadata": {},
   "outputs": [
    {
     "data": {
      "text/plain": [
       "Id                0.00\n",
       "MSSubClass        0.00\n",
       "MSZoning          0.00\n",
       "LotFrontage      17.74\n",
       "LotArea           0.00\n",
       "                 ...  \n",
       "MoSold            0.00\n",
       "YrSold            0.00\n",
       "SaleType          0.00\n",
       "SaleCondition     0.00\n",
       "SalePrice         0.00\n",
       "Length: 81, dtype: float64"
      ]
     },
     "execution_count": 6,
     "metadata": {},
     "output_type": "execute_result"
    }
   ],
   "source": [
    "# Finding out the null value percentage of all the columns.\n",
    "round(100*(house_df.isnull().sum()/len(house_df.index)), 2)"
   ]
  },
  {
   "cell_type": "code",
   "execution_count": 7,
   "metadata": {},
   "outputs": [],
   "source": [
    "# Replacing null value with meaningful name in some columns which have specific meaning.\n",
    "house_df['BsmtQual'] = house_df['BsmtQual'].replace(np.nan, 'NoBasementQual')\n",
    "house_df['BsmtCond'] = house_df['BsmtCond'].replace(np.nan, 'NoBasementCond')\n",
    "house_df['BsmtExposure'] = house_df['BsmtExposure'].replace(np.nan, 'NoBasementExposer')\n",
    "house_df['BsmtFinType1'] = house_df['BsmtFinType1'].replace(np.nan, 'NoBasementFinType1')\n",
    "house_df['BsmtFinType2'] = house_df['BsmtFinType2'].replace(np.nan, 'NoBasementFinType2')\n",
    "house_df['FireplaceQu'] = house_df['FireplaceQu'].replace(np.nan, 'NoFireplaceQu')\n",
    "house_df['GarageType'] = house_df['GarageType'].replace(np.nan, 'NoGarageType')\n",
    "house_df['GarageFinish'] = house_df['GarageFinish'].replace(np.nan, 'NoGarageFinish')\n",
    "house_df['GarageQual'] = house_df['GarageQual'].replace(np.nan, 'NoGarageQual')\n",
    "house_df['GarageCond'] = house_df['GarageCond'].replace(np.nan, 'NoGarageCond')\n",
    "house_df['PoolQC'] = house_df['PoolQC'].replace(np.nan, 'NoPoolQC')\n",
    "house_df['Fence'] = house_df['Fence'].replace(np.nan, 'NoFence')\n",
    "house_df['MiscFeature'] = house_df['MiscFeature'].replace(np.nan, 'NoMiscFeature')\n",
    "house_df['Alley'] = house_df['Alley'].replace(np.nan, 'NoAlley')"
   ]
  },
  {
   "cell_type": "code",
   "execution_count": 8,
   "metadata": {},
   "outputs": [],
   "source": [
    "# Removing the columns having more than 40% of null values.cols = df.columns\n",
    "cols = house_df.columns\n",
    "for i in cols:\n",
    "    if((100*(house_df[i].isnull().sum()/len(house_df.index))) >= 40):\n",
    "        print(i)\n",
    "        house_df.drop(i, 1, inplace = True)"
   ]
  },
  {
   "cell_type": "code",
   "execution_count": 9,
   "metadata": {},
   "outputs": [
    {
     "data": {
      "text/plain": [
       "(1460, 81)"
      ]
     },
     "execution_count": 9,
     "metadata": {},
     "output_type": "execute_result"
    }
   ],
   "source": [
    "# After removing checking shape of dataframe.\n",
    "house_df.shape"
   ]
  },
  {
   "cell_type": "markdown",
   "metadata": {},
   "source": [
    "\n",
    "- No rows have null values greater than 40%.\n",
    "- Observing first 5 rows of dataframe\n",
    "\n"
   ]
  },
  {
   "cell_type": "code",
   "execution_count": 10,
   "metadata": {},
   "outputs": [
    {
     "data": {
      "text/html": [
       "<div>\n",
       "<style scoped>\n",
       "    .dataframe tbody tr th:only-of-type {\n",
       "        vertical-align: middle;\n",
       "    }\n",
       "\n",
       "    .dataframe tbody tr th {\n",
       "        vertical-align: top;\n",
       "    }\n",
       "\n",
       "    .dataframe thead th {\n",
       "        text-align: right;\n",
       "    }\n",
       "</style>\n",
       "<table border=\"1\" class=\"dataframe\">\n",
       "  <thead>\n",
       "    <tr style=\"text-align: right;\">\n",
       "      <th></th>\n",
       "      <th>Id</th>\n",
       "      <th>MSSubClass</th>\n",
       "      <th>MSZoning</th>\n",
       "      <th>LotFrontage</th>\n",
       "      <th>LotArea</th>\n",
       "      <th>Street</th>\n",
       "      <th>Alley</th>\n",
       "      <th>LotShape</th>\n",
       "      <th>LandContour</th>\n",
       "      <th>Utilities</th>\n",
       "      <th>...</th>\n",
       "      <th>PoolArea</th>\n",
       "      <th>PoolQC</th>\n",
       "      <th>Fence</th>\n",
       "      <th>MiscFeature</th>\n",
       "      <th>MiscVal</th>\n",
       "      <th>MoSold</th>\n",
       "      <th>YrSold</th>\n",
       "      <th>SaleType</th>\n",
       "      <th>SaleCondition</th>\n",
       "      <th>SalePrice</th>\n",
       "    </tr>\n",
       "  </thead>\n",
       "  <tbody>\n",
       "    <tr>\n",
       "      <th>0</th>\n",
       "      <td>1</td>\n",
       "      <td>60</td>\n",
       "      <td>RL</td>\n",
       "      <td>65.0</td>\n",
       "      <td>8450</td>\n",
       "      <td>Pave</td>\n",
       "      <td>NoAlley</td>\n",
       "      <td>Reg</td>\n",
       "      <td>Lvl</td>\n",
       "      <td>AllPub</td>\n",
       "      <td>...</td>\n",
       "      <td>0</td>\n",
       "      <td>NoPoolQC</td>\n",
       "      <td>NoFence</td>\n",
       "      <td>NoMiscFeature</td>\n",
       "      <td>0</td>\n",
       "      <td>2</td>\n",
       "      <td>2008</td>\n",
       "      <td>WD</td>\n",
       "      <td>Normal</td>\n",
       "      <td>208500</td>\n",
       "    </tr>\n",
       "    <tr>\n",
       "      <th>1</th>\n",
       "      <td>2</td>\n",
       "      <td>20</td>\n",
       "      <td>RL</td>\n",
       "      <td>80.0</td>\n",
       "      <td>9600</td>\n",
       "      <td>Pave</td>\n",
       "      <td>NoAlley</td>\n",
       "      <td>Reg</td>\n",
       "      <td>Lvl</td>\n",
       "      <td>AllPub</td>\n",
       "      <td>...</td>\n",
       "      <td>0</td>\n",
       "      <td>NoPoolQC</td>\n",
       "      <td>NoFence</td>\n",
       "      <td>NoMiscFeature</td>\n",
       "      <td>0</td>\n",
       "      <td>5</td>\n",
       "      <td>2007</td>\n",
       "      <td>WD</td>\n",
       "      <td>Normal</td>\n",
       "      <td>181500</td>\n",
       "    </tr>\n",
       "    <tr>\n",
       "      <th>2</th>\n",
       "      <td>3</td>\n",
       "      <td>60</td>\n",
       "      <td>RL</td>\n",
       "      <td>68.0</td>\n",
       "      <td>11250</td>\n",
       "      <td>Pave</td>\n",
       "      <td>NoAlley</td>\n",
       "      <td>IR1</td>\n",
       "      <td>Lvl</td>\n",
       "      <td>AllPub</td>\n",
       "      <td>...</td>\n",
       "      <td>0</td>\n",
       "      <td>NoPoolQC</td>\n",
       "      <td>NoFence</td>\n",
       "      <td>NoMiscFeature</td>\n",
       "      <td>0</td>\n",
       "      <td>9</td>\n",
       "      <td>2008</td>\n",
       "      <td>WD</td>\n",
       "      <td>Normal</td>\n",
       "      <td>223500</td>\n",
       "    </tr>\n",
       "    <tr>\n",
       "      <th>3</th>\n",
       "      <td>4</td>\n",
       "      <td>70</td>\n",
       "      <td>RL</td>\n",
       "      <td>60.0</td>\n",
       "      <td>9550</td>\n",
       "      <td>Pave</td>\n",
       "      <td>NoAlley</td>\n",
       "      <td>IR1</td>\n",
       "      <td>Lvl</td>\n",
       "      <td>AllPub</td>\n",
       "      <td>...</td>\n",
       "      <td>0</td>\n",
       "      <td>NoPoolQC</td>\n",
       "      <td>NoFence</td>\n",
       "      <td>NoMiscFeature</td>\n",
       "      <td>0</td>\n",
       "      <td>2</td>\n",
       "      <td>2006</td>\n",
       "      <td>WD</td>\n",
       "      <td>Abnorml</td>\n",
       "      <td>140000</td>\n",
       "    </tr>\n",
       "    <tr>\n",
       "      <th>4</th>\n",
       "      <td>5</td>\n",
       "      <td>60</td>\n",
       "      <td>RL</td>\n",
       "      <td>84.0</td>\n",
       "      <td>14260</td>\n",
       "      <td>Pave</td>\n",
       "      <td>NoAlley</td>\n",
       "      <td>IR1</td>\n",
       "      <td>Lvl</td>\n",
       "      <td>AllPub</td>\n",
       "      <td>...</td>\n",
       "      <td>0</td>\n",
       "      <td>NoPoolQC</td>\n",
       "      <td>NoFence</td>\n",
       "      <td>NoMiscFeature</td>\n",
       "      <td>0</td>\n",
       "      <td>12</td>\n",
       "      <td>2008</td>\n",
       "      <td>WD</td>\n",
       "      <td>Normal</td>\n",
       "      <td>250000</td>\n",
       "    </tr>\n",
       "  </tbody>\n",
       "</table>\n",
       "<p>5 rows × 81 columns</p>\n",
       "</div>"
      ],
      "text/plain": [
       "   Id  MSSubClass MSZoning  LotFrontage  LotArea Street    Alley LotShape  \\\n",
       "0   1          60       RL         65.0     8450   Pave  NoAlley      Reg   \n",
       "1   2          20       RL         80.0     9600   Pave  NoAlley      Reg   \n",
       "2   3          60       RL         68.0    11250   Pave  NoAlley      IR1   \n",
       "3   4          70       RL         60.0     9550   Pave  NoAlley      IR1   \n",
       "4   5          60       RL         84.0    14260   Pave  NoAlley      IR1   \n",
       "\n",
       "  LandContour Utilities  ... PoolArea    PoolQC    Fence    MiscFeature  \\\n",
       "0         Lvl    AllPub  ...        0  NoPoolQC  NoFence  NoMiscFeature   \n",
       "1         Lvl    AllPub  ...        0  NoPoolQC  NoFence  NoMiscFeature   \n",
       "2         Lvl    AllPub  ...        0  NoPoolQC  NoFence  NoMiscFeature   \n",
       "3         Lvl    AllPub  ...        0  NoPoolQC  NoFence  NoMiscFeature   \n",
       "4         Lvl    AllPub  ...        0  NoPoolQC  NoFence  NoMiscFeature   \n",
       "\n",
       "  MiscVal MoSold YrSold  SaleType  SaleCondition  SalePrice  \n",
       "0       0      2   2008        WD         Normal     208500  \n",
       "1       0      5   2007        WD         Normal     181500  \n",
       "2       0      9   2008        WD         Normal     223500  \n",
       "3       0      2   2006        WD        Abnorml     140000  \n",
       "4       0     12   2008        WD         Normal     250000  \n",
       "\n",
       "[5 rows x 81 columns]"
      ]
     },
     "execution_count": 10,
     "metadata": {},
     "output_type": "execute_result"
    }
   ],
   "source": [
    "house_df.head()"
   ]
  },
  {
   "cell_type": "markdown",
   "metadata": {},
   "source": [
    "- Categorising Yes/No type columns to 0/1 type columns for numerical analysis."
   ]
  },
  {
   "cell_type": "code",
   "execution_count": 11,
   "metadata": {},
   "outputs": [],
   "source": [
    "house_df['CentralAir'] = house_df['CentralAir'].map({'Y': 1, 'N': 0})"
   ]
  },
  {
   "cell_type": "markdown",
   "metadata": {},
   "source": [
    "- Finding out the unique count of all the columns. We can remove the columns having only one unique value."
   ]
  },
  {
   "cell_type": "code",
   "execution_count": 12,
   "metadata": {},
   "outputs": [
    {
     "data": {
      "text/plain": [
       "Id               1460\n",
       "MSSubClass         15\n",
       "MSZoning            5\n",
       "LotFrontage       110\n",
       "LotArea          1073\n",
       "                 ... \n",
       "MoSold             12\n",
       "YrSold              5\n",
       "SaleType            9\n",
       "SaleCondition       6\n",
       "SalePrice         663\n",
       "Length: 81, dtype: int64"
      ]
     },
     "execution_count": 12,
     "metadata": {},
     "output_type": "execute_result"
    }
   ],
   "source": [
    "house_df.nunique()"
   ]
  },
  {
   "cell_type": "markdown",
   "metadata": {},
   "source": [
    "- Checking for columns having 1 values only."
   ]
  },
  {
   "cell_type": "code",
   "execution_count": 13,
   "metadata": {},
   "outputs": [
    {
     "data": {
      "text/plain": [
       "0"
      ]
     },
     "execution_count": 13,
     "metadata": {},
     "output_type": "execute_result"
    }
   ],
   "source": [
    "(house_df.nunique()==1).sum()"
   ]
  },
  {
   "cell_type": "markdown",
   "metadata": {},
   "source": [
    "- Creating another dataframe which will contain all numerical columns "
   ]
  },
  {
   "cell_type": "code",
   "execution_count": 14,
   "metadata": {},
   "outputs": [],
   "source": [
    "num_df = house_df.select_dtypes(include=['int64','float64'])"
   ]
  },
  {
   "cell_type": "markdown",
   "metadata": {},
   "source": [
    "- Checking null values count in numerical columns."
   ]
  },
  {
   "cell_type": "code",
   "execution_count": 15,
   "metadata": {},
   "outputs": [
    {
     "data": {
      "text/plain": [
       "Id                 0\n",
       "MSSubClass         0\n",
       "LotFrontage      259\n",
       "LotArea            0\n",
       "OverallQual        0\n",
       "OverallCond        0\n",
       "YearBuilt          0\n",
       "YearRemodAdd       0\n",
       "MasVnrArea         8\n",
       "BsmtFinSF1         0\n",
       "BsmtFinSF2         0\n",
       "BsmtUnfSF          0\n",
       "TotalBsmtSF        0\n",
       "CentralAir         0\n",
       "1stFlrSF           0\n",
       "2ndFlrSF           0\n",
       "LowQualFinSF       0\n",
       "GrLivArea          0\n",
       "BsmtFullBath       0\n",
       "BsmtHalfBath       0\n",
       "FullBath           0\n",
       "HalfBath           0\n",
       "BedroomAbvGr       0\n",
       "KitchenAbvGr       0\n",
       "TotRmsAbvGrd       0\n",
       "Fireplaces         0\n",
       "GarageYrBlt       81\n",
       "GarageCars         0\n",
       "GarageArea         0\n",
       "WoodDeckSF         0\n",
       "OpenPorchSF        0\n",
       "EnclosedPorch      0\n",
       "3SsnPorch          0\n",
       "ScreenPorch        0\n",
       "PoolArea           0\n",
       "MiscVal            0\n",
       "MoSold             0\n",
       "YrSold             0\n",
       "SalePrice          0\n",
       "dtype: int64"
      ]
     },
     "execution_count": 15,
     "metadata": {},
     "output_type": "execute_result"
    }
   ],
   "source": [
    "num_df.isnull().sum()"
   ]
  },
  {
   "cell_type": "markdown",
   "metadata": {},
   "source": [
    "### Imputing null values for all missing values columns."
   ]
  },
  {
   "cell_type": "markdown",
   "metadata": {},
   "source": [
    "- Viewing LotFrontage column to find out which is best way to impute null values in this column."
   ]
  },
  {
   "cell_type": "code",
   "execution_count": 16,
   "metadata": {},
   "outputs": [
    {
     "data": {
      "text/plain": [
       "count    1201.000000\n",
       "mean       70.049958\n",
       "std        24.284752\n",
       "min        21.000000\n",
       "25%        59.000000\n",
       "50%        69.000000\n",
       "75%        80.000000\n",
       "90%        96.000000\n",
       "95%       107.000000\n",
       "99%       141.000000\n",
       "max       313.000000\n",
       "Name: LotFrontage, dtype: float64"
      ]
     },
     "execution_count": 16,
     "metadata": {},
     "output_type": "execute_result"
    }
   ],
   "source": [
    "num_df['LotFrontage'].describe(percentiles=[0.25,0.5,0.75,0.9,0.95,0.99])"
   ]
  },
  {
   "cell_type": "markdown",
   "metadata": {},
   "source": [
    "- Plotting BoxPlot for LotFrontage column."
   ]
  },
  {
   "cell_type": "code",
   "execution_count": 17,
   "metadata": {},
   "outputs": [
    {
     "data": {
      "image/png": "[encoded data removed]",
      "text/plain": [
       "<Figure size 432x288 with 1 Axes>"
      ]
     },
     "metadata": {
      "needs_background": "light"
     },
     "output_type": "display_data"
    }
   ],
   "source": [
    "sns.boxplot(y=house_df.LotFrontage, data=house_df)\n",
    "plt.show()"
   ]
  },
  {
   "cell_type": "markdown",
   "metadata": {},
   "source": [
    "- Since data have lot of outliers, it will be best to replace null vallues with median."
   ]
  },
  {
   "cell_type": "code",
   "execution_count": 18,
   "metadata": {},
   "outputs": [],
   "source": [
    "house_df['LotFrontage'].replace(np.NaN,num_df['LotFrontage'].median(),inplace=True)"
   ]
  },
  {
   "cell_type": "markdown",
   "metadata": {},
   "source": [
    "- Viewing MasVnrArea column to find out which is best way to impute null values in this column."
   ]
  },
  {
   "cell_type": "code",
   "execution_count": 19,
   "metadata": {},
   "outputs": [
    {
     "data": {
      "text/plain": [
       "count    1452.000000\n",
       "mean      103.685262\n",
       "std       181.066207\n",
       "min         0.000000\n",
       "25%         0.000000\n",
       "50%         0.000000\n",
       "75%       166.000000\n",
       "90%       335.000000\n",
       "95%       456.000000\n",
       "99%       791.920000\n",
       "max      1600.000000\n",
       "Name: MasVnrArea, dtype: float64"
      ]
     },
     "execution_count": 19,
     "metadata": {},
     "output_type": "execute_result"
    }
   ],
   "source": [
    "num_df['MasVnrArea'].describe(percentiles=[0.25,0.5,0.75,0.9,0.95,0.99])"
   ]
  },
  {
   "cell_type": "markdown",
   "metadata": {},
   "source": [
    "- Plotting BoxPlot for MasVnrArea column."
   ]
  },
  {
   "cell_type": "code",
   "execution_count": 20,
   "metadata": {},
   "outputs": [
    {
     "data": {
      "image/png": "[encoded data removed]",
      "text/plain": [
       "<Figure size 432x288 with 1 Axes>"
      ]
     },
     "metadata": {
      "needs_background": "light"
     },
     "output_type": "display_data"
    }
   ],
   "source": [
    "sns.boxplot(y=house_df.MasVnrArea, data=house_df)\n",
    "plt.show()"
   ]
  },
  {
   "cell_type": "markdown",
   "metadata": {},
   "source": [
    "- Since data have lot of outliers, it will be best to replace null vallues with median."
   ]
  },
  {
   "cell_type": "code",
   "execution_count": 21,
   "metadata": {},
   "outputs": [],
   "source": [
    "house_df['MasVnrArea'].replace(np.NaN,num_df['MasVnrArea'].median(),inplace=True)"
   ]
  },
  {
   "cell_type": "markdown",
   "metadata": {},
   "source": [
    "- Viewing GarageYrBlt column to find out which is best way to impute null values in this column."
   ]
  },
  {
   "cell_type": "code",
   "execution_count": 22,
   "metadata": {},
   "outputs": [
    {
     "data": {
      "text/plain": [
       "count    1379.000000\n",
       "mean     1978.506164\n",
       "std        24.689725\n",
       "min      1900.000000\n",
       "25%      1961.000000\n",
       "50%      1980.000000\n",
       "75%      2002.000000\n",
       "90%      2006.000000\n",
       "95%      2007.000000\n",
       "99%      2009.000000\n",
       "max      2010.000000\n",
       "Name: GarageYrBlt, dtype: float64"
      ]
     },
     "execution_count": 22,
     "metadata": {},
     "output_type": "execute_result"
    }
   ],
   "source": [
    "num_df['GarageYrBlt'].describe(percentiles=[0.25,0.5,0.75,0.9,0.95,0.99])"
   ]
  },
  {
   "cell_type": "markdown",
   "metadata": {},
   "source": [
    "- Since data do not have outliers, it will be best to replace null vallues with mean."
   ]
  },
  {
   "cell_type": "code",
   "execution_count": 23,
   "metadata": {},
   "outputs": [],
   "source": [
    "house_df['GarageYrBlt'].replace(np.NaN,num_df['GarageYrBlt'].mean(),inplace=True)"
   ]
  },
  {
   "cell_type": "markdown",
   "metadata": {},
   "source": [
    "### Checking the spread of data, i.e. the value counts in the categorical columns."
   ]
  },
  {
   "cell_type": "code",
   "execution_count": 24,
   "metadata": {},
   "outputs": [
    {
     "name": "stdout",
     "output_type": "stream",
     "text": [
      "RL         0.788356\n",
      "RM         0.149315\n",
      "FV         0.044521\n",
      "RH         0.010959\n",
      "C (all)    0.006849\n",
      "Name: MSZoning, dtype: float64\n",
      "Pave    0.99589\n",
      "Grvl    0.00411\n",
      "Name: Street, dtype: float64\n",
      "NoAlley    0.937671\n",
      "Grvl       0.034247\n",
      "Pave       0.028082\n",
      "Name: Alley, dtype: float64\n",
      "Reg    0.633562\n",
      "IR1    0.331507\n",
      "IR2    0.028082\n",
      "IR3    0.006849\n",
      "Name: LotShape, dtype: float64\n",
      "Lvl    0.897945\n",
      "Bnk    0.043151\n",
      "HLS    0.034247\n",
      "Low    0.024658\n",
      "Name: LandContour, dtype: float64\n",
      "AllPub    0.999315\n",
      "NoSeWa    0.000685\n",
      "Name: Utilities, dtype: float64\n",
      "Inside     0.720548\n",
      "Corner     0.180137\n",
      "CulDSac    0.064384\n",
      "FR2        0.032192\n",
      "FR3        0.002740\n",
      "Name: LotConfig, dtype: float64\n",
      "Gtl    0.946575\n",
      "Mod    0.044521\n",
      "Sev    0.008904\n",
      "Name: LandSlope, dtype: float64\n",
      "NAmes      0.154110\n",
      "CollgCr    0.102740\n",
      "OldTown    0.077397\n",
      "Edwards    0.068493\n",
      "Somerst    0.058904\n",
      "Gilbert    0.054110\n",
      "NridgHt    0.052740\n",
      "Sawyer     0.050685\n",
      "NWAmes     0.050000\n",
      "SawyerW    0.040411\n",
      "BrkSide    0.039726\n",
      "Crawfor    0.034932\n",
      "Mitchel    0.033562\n",
      "NoRidge    0.028082\n",
      "Timber     0.026027\n",
      "IDOTRR     0.025342\n",
      "ClearCr    0.019178\n",
      "SWISU      0.017123\n",
      "StoneBr    0.017123\n",
      "MeadowV    0.011644\n",
      "Blmngtn    0.011644\n",
      "BrDale     0.010959\n",
      "Veenker    0.007534\n",
      "NPkVill    0.006164\n",
      "Blueste    0.001370\n",
      "Name: Neighborhood, dtype: float64\n",
      "Norm      0.863014\n",
      "Feedr     0.055479\n",
      "Artery    0.032877\n",
      "RRAn      0.017808\n",
      "PosN      0.013014\n",
      "RRAe      0.007534\n",
      "PosA      0.005479\n",
      "RRNn      0.003425\n",
      "RRNe      0.001370\n",
      "Name: Condition1, dtype: float64\n",
      "Norm      0.989726\n",
      "Feedr     0.004110\n",
      "PosN      0.001370\n",
      "RRNn      0.001370\n",
      "Artery    0.001370\n",
      "PosA      0.000685\n",
      "RRAn      0.000685\n",
      "RRAe      0.000685\n",
      "Name: Condition2, dtype: float64\n",
      "1Fam      0.835616\n",
      "TwnhsE    0.078082\n",
      "Duplex    0.035616\n",
      "Twnhs     0.029452\n",
      "2fmCon    0.021233\n",
      "Name: BldgType, dtype: float64\n",
      "1Story    0.497260\n",
      "2Story    0.304795\n",
      "1.5Fin    0.105479\n",
      "SLvl      0.044521\n",
      "SFoyer    0.025342\n",
      "1.5Unf    0.009589\n",
      "2.5Unf    0.007534\n",
      "2.5Fin    0.005479\n",
      "Name: HouseStyle, dtype: float64\n",
      "Gable      0.781507\n",
      "Hip        0.195890\n",
      "Flat       0.008904\n",
      "Gambrel    0.007534\n",
      "Mansard    0.004795\n",
      "Shed       0.001370\n",
      "Name: RoofStyle, dtype: float64\n",
      "CompShg    0.982192\n",
      "Tar&Grv    0.007534\n",
      "WdShngl    0.004110\n",
      "WdShake    0.003425\n",
      "Membran    0.000685\n",
      "ClyTile    0.000685\n",
      "Roll       0.000685\n",
      "Metal      0.000685\n",
      "Name: RoofMatl, dtype: float64\n",
      "VinylSd    0.352740\n",
      "HdBoard    0.152055\n",
      "MetalSd    0.150685\n",
      "Wd Sdng    0.141096\n",
      "Plywood    0.073973\n",
      "CemntBd    0.041781\n",
      "BrkFace    0.034247\n",
      "WdShing    0.017808\n",
      "Stucco     0.017123\n",
      "AsbShng    0.013699\n",
      "Stone      0.001370\n",
      "BrkComm    0.001370\n",
      "CBlock     0.000685\n",
      "AsphShn    0.000685\n",
      "ImStucc    0.000685\n",
      "Name: Exterior1st, dtype: float64\n",
      "VinylSd    0.345205\n",
      "MetalSd    0.146575\n",
      "HdBoard    0.141781\n",
      "Wd Sdng    0.134932\n",
      "Plywood    0.097260\n",
      "CmentBd    0.041096\n",
      "Wd Shng    0.026027\n",
      "Stucco     0.017808\n",
      "BrkFace    0.017123\n",
      "AsbShng    0.013699\n",
      "ImStucc    0.006849\n",
      "Brk Cmn    0.004795\n",
      "Stone      0.003425\n",
      "AsphShn    0.002055\n",
      "Other      0.000685\n",
      "CBlock     0.000685\n",
      "Name: Exterior2nd, dtype: float64\n",
      "None       0.595041\n",
      "BrkFace    0.306474\n",
      "Stone      0.088154\n",
      "BrkCmn     0.010331\n",
      "Name: MasVnrType, dtype: float64\n",
      "TA    0.620548\n",
      "Gd    0.334247\n",
      "Ex    0.035616\n",
      "Fa    0.009589\n",
      "Name: ExterQual, dtype: float64\n",
      "TA    0.878082\n",
      "Gd    0.100000\n",
      "Fa    0.019178\n",
      "Ex    0.002055\n",
      "Po    0.000685\n",
      "Name: ExterCond, dtype: float64\n",
      "PConc     0.443151\n",
      "CBlock    0.434247\n",
      "BrkTil    0.100000\n",
      "Slab      0.016438\n",
      "Stone     0.004110\n",
      "Wood      0.002055\n",
      "Name: Foundation, dtype: float64\n",
      "TA                0.444521\n",
      "Gd                0.423288\n",
      "Ex                0.082877\n",
      "NoBasementQual    0.025342\n",
      "Fa                0.023973\n",
      "Name: BsmtQual, dtype: float64\n",
      "TA                0.897945\n",
      "Gd                0.044521\n",
      "Fa                0.030822\n",
      "NoBasementCond    0.025342\n",
      "Po                0.001370\n",
      "Name: BsmtCond, dtype: float64\n",
      "No                   0.652740\n",
      "Av                   0.151370\n",
      "Gd                   0.091781\n",
      "Mn                   0.078082\n",
      "NoBasementExposer    0.026027\n",
      "Name: BsmtExposure, dtype: float64\n",
      "Unf                   0.294521\n",
      "GLQ                   0.286301\n",
      "ALQ                   0.150685\n",
      "BLQ                   0.101370\n",
      "Rec                   0.091096\n",
      "LwQ                   0.050685\n",
      "NoBasementFinType1    0.025342\n",
      "Name: BsmtFinType1, dtype: float64\n",
      "Unf                   0.860274\n",
      "Rec                   0.036986\n",
      "LwQ                   0.031507\n",
      "NoBasementFinType2    0.026027\n",
      "BLQ                   0.022603\n",
      "ALQ                   0.013014\n",
      "GLQ                   0.009589\n",
      "Name: BsmtFinType2, dtype: float64\n",
      "GasA     0.978082\n",
      "GasW     0.012329\n",
      "Grav     0.004795\n",
      "Wall     0.002740\n",
      "OthW     0.001370\n",
      "Floor    0.000685\n",
      "Name: Heating, dtype: float64\n",
      "Ex    0.507534\n",
      "TA    0.293151\n",
      "Gd    0.165068\n",
      "Fa    0.033562\n",
      "Po    0.000685\n",
      "Name: HeatingQC, dtype: float64\n",
      "SBrkr    0.914325\n",
      "FuseA    0.064428\n",
      "FuseF    0.018506\n",
      "FuseP    0.002056\n",
      "Mix      0.000685\n",
      "Name: Electrical, dtype: float64\n",
      "TA    0.503425\n",
      "Gd    0.401370\n",
      "Ex    0.068493\n",
      "Fa    0.026712\n",
      "Name: KitchenQual, dtype: float64\n",
      "Typ     0.931507\n",
      "Min2    0.023288\n",
      "Min1    0.021233\n",
      "Mod     0.010274\n",
      "Maj1    0.009589\n",
      "Maj2    0.003425\n",
      "Sev     0.000685\n",
      "Name: Functional, dtype: float64\n",
      "NoFireplaceQu    0.472603\n",
      "Gd               0.260274\n",
      "TA               0.214384\n",
      "Fa               0.022603\n",
      "Ex               0.016438\n",
      "Po               0.013699\n",
      "Name: FireplaceQu, dtype: float64\n",
      "Attchd          0.595890\n",
      "Detchd          0.265068\n",
      "BuiltIn         0.060274\n",
      "NoGarageType    0.055479\n",
      "Basment         0.013014\n",
      "CarPort         0.006164\n",
      "2Types          0.004110\n",
      "Name: GarageType, dtype: float64\n",
      "Unf               0.414384\n",
      "RFn               0.289041\n",
      "Fin               0.241096\n",
      "NoGarageFinish    0.055479\n",
      "Name: GarageFinish, dtype: float64\n",
      "TA              0.897945\n",
      "NoGarageQual    0.055479\n",
      "Fa              0.032877\n",
      "Gd              0.009589\n",
      "Po              0.002055\n",
      "Ex              0.002055\n",
      "Name: GarageQual, dtype: float64\n",
      "TA              0.908219\n",
      "NoGarageCond    0.055479\n",
      "Fa              0.023973\n",
      "Gd              0.006164\n",
      "Po              0.004795\n",
      "Ex              0.001370\n",
      "Name: GarageCond, dtype: float64\n",
      "Y    0.917808\n",
      "N    0.061644\n",
      "P    0.020548\n",
      "Name: PavedDrive, dtype: float64\n",
      "NoPoolQC    0.995205\n",
      "Gd          0.002055\n",
      "Fa          0.001370\n",
      "Ex          0.001370\n",
      "Name: PoolQC, dtype: float64\n",
      "NoFence    0.807534\n",
      "MnPrv      0.107534\n",
      "GdPrv      0.040411\n",
      "GdWo       0.036986\n",
      "MnWw       0.007534\n",
      "Name: Fence, dtype: float64\n",
      "NoMiscFeature    0.963014\n",
      "Shed             0.033562\n",
      "Gar2             0.001370\n",
      "Othr             0.001370\n",
      "TenC             0.000685\n",
      "Name: MiscFeature, dtype: float64\n",
      "WD       0.867808\n",
      "New      0.083562\n",
      "COD      0.029452\n",
      "ConLD    0.006164\n",
      "ConLI    0.003425\n",
      "ConLw    0.003425\n",
      "CWD      0.002740\n",
      "Oth      0.002055\n",
      "Con      0.001370\n",
      "Name: SaleType, dtype: float64\n",
      "Normal     0.820548\n",
      "Partial    0.085616\n",
      "Abnorml    0.069178\n",
      "Family     0.013699\n",
      "Alloca     0.008219\n",
      "AdjLand    0.002740\n",
      "Name: SaleCondition, dtype: float64\n"
     ]
    }
   ],
   "source": [
    "catog_df = house_df.select_dtypes(include=['object'])\n",
    "for i in catog_df:\n",
    "    print(house_df[i].value_counts(normalize=True))"
   ]
  },
  {
   "cell_type": "markdown",
   "metadata": {},
   "source": [
    "- Creating columns list which are highly skewed i.e. having one value more than 90%."
   ]
  },
  {
   "cell_type": "code",
   "execution_count": 25,
   "metadata": {},
   "outputs": [],
   "source": [
    "dropcol=['Street','Utilities','LandSlope','Condition2','RoofMatl','Heating','PoolQC','MiscFeature','Alley','Electrical','Functional','GarageCond','PavedDrive']"
   ]
  },
  {
   "cell_type": "markdown",
   "metadata": {},
   "source": [
    "- Droping columns which are highly skewed i.e. having one value more than 90%."
   ]
  },
  {
   "cell_type": "code",
   "execution_count": 26,
   "metadata": {},
   "outputs": [],
   "source": [
    "house_df.drop(dropcol, 1, inplace = True)"
   ]
  },
  {
   "cell_type": "code",
   "execution_count": 27,
   "metadata": {},
   "outputs": [],
   "source": [
    "house_df['ExterQual'] = house_df['ExterQual'].map({'Ex': 5, 'Gd': 4, 'TA':3, 'Fa': 2, 'Po':1})\n",
    "house_df['ExterCond'] = house_df['ExterCond'].map({'Ex': 5, 'Gd': 4, 'TA':3, 'Fa': 2, 'Po':1})\n",
    "house_df['BsmtQual'] = house_df['BsmtQual'].map({'Ex': 5, 'Gd': 4, 'TA':3, 'Fa': 2, 'Po':1,'NoBasementQual':0})\n",
    "house_df['BsmtCond'] = house_df['BsmtCond'].map({'Ex': 5, 'Gd': 4, 'TA':3, 'Fa': 2, 'Po':1,'NoBasementCond':0})\n",
    "house_df['BsmtExposure'] = house_df['BsmtExposure'].map({'Gd': 4, 'Av': 3, 'Mn':2, 'No': 1, 'NoBasementExposer':0})\n",
    "house_df['HeatingQC'] = house_df['HeatingQC'].map({'Ex': 5, 'Gd': 4, 'TA':3, 'Fa': 2, 'Po':1})\n",
    "house_df['KitchenQual'] = house_df['KitchenQual'].map({'Ex': 5, 'Gd': 4, 'TA':3, 'Fa': 2, 'Po':1})\n",
    "house_df['FireplaceQu'] = house_df['FireplaceQu'].map({'Ex': 5, 'Gd': 4, 'TA':3, 'Fa': 2, 'Po':1,'NoFireplaceQu':0})\n",
    "house_df['GarageQual'] = house_df['GarageQual'].map({'Ex': 5, 'Gd': 4, 'TA':3, 'Fa': 2, 'Po':1, 'NoGarageQual':0})"
   ]
  },
  {
   "cell_type": "markdown",
   "metadata": {},
   "source": [
    "- Taking care of ordered categorical columns so that higher weight value get higher importance. for this assigning integer values to all ordered columns. "
   ]
  },
  {
   "cell_type": "code",
   "execution_count": 28,
   "metadata": {},
   "outputs": [],
   "source": [
    "house_df['Neighborhood'] = house_df['Neighborhood'].replace(['Blueste','NPkVill','Veenker', 'BrDale','MeadowV','Blmngtn','StoneBr','SWISU'],\n",
    "                                              'OthersNeighborhood')  \n",
    "house_df['ExterCond'] = house_df['ExterCond'].replace(['Po','Ex','Fa'],\n",
    "                                              'OthersExterCond')\n",
    "house_df['Foundation'] = house_df['Foundation'].replace(['Wood','Stone','Slab'],\n",
    "                                              'OthersFoundation')\n",
    "house_df['Condition1'] = house_df['Condition1'].replace(['RRNe','RRNn','PosA', 'RRAe','PosN','RRAn'],\n",
    "                                              'OthersCondition1')\n",
    "house_df['HouseStyle'] = house_df['HouseStyle'].replace(['2.5Fin','2.5Unf','1.5Unf','RRAn'],\n",
    "                                              'OthersHouseStyle')\n",
    "house_df['GarageType'] = house_df['GarageType'].replace(['2Types','CarPort','Basment'],\n",
    "                                              'OthersGarageType')\n",
    "house_df['RoofStyle'] = house_df['RoofStyle'].replace(['Shed','Mansard','Gambrel','Flat'],\n",
    "                                              'OthersRoofStyle')\n",
    "\n",
    "house_df['SaleType'] = house_df['SaleType'].replace(['Con','Oth','CWD', 'ConLI','ConLW','ConLD'],\n",
    "                                              'OthersSaleType')\n",
    "house_df['Exterior1st'] = house_df['Exterior1st'].replace(['AsphShn','ImStucc','CBlock','Stone','BrkComm','AsbShng','Stucco','WdShing'],\n",
    "                                              'OthersExterior1st')\n",
    "house_df['Exterior2nd'] = house_df['Exterior2nd'].replace(['Other','CBlock','CBlock','AsphShn','Stone','Brk Cmn','ImStucc','AsbShng','BrkFace','Stucco'],\n",
    "                                              'OthersExterior2nd')\n",
    "house_df['SaleCondition'] = house_df['SaleCondition'].replace(['AdjLand','Alloca','Family'],\n",
    "                                              'OthersSaleCondition')"
   ]
  },
  {
   "cell_type": "markdown",
   "metadata": {},
   "source": [
    "- Dropping few variables which are of no use like YrSold, Id, GarageYrBlt, YearRemodAdd and MoSold which will not have any impact on target variable"
   ]
  },
  {
   "cell_type": "code",
   "execution_count": 29,
   "metadata": {},
   "outputs": [],
   "source": [
    "house_df.drop(['YrSold','MoSold','GarageYrBlt','YearRemodAdd','Id'], 1, inplace = True)"
   ]
  },
  {
   "cell_type": "markdown",
   "metadata": {},
   "source": [
    "- After removing checking shape of dataframe."
   ]
  },
  {
   "cell_type": "code",
   "execution_count": 30,
   "metadata": {},
   "outputs": [
    {
     "data": {
      "text/plain": [
       "(1460, 63)"
      ]
     },
     "execution_count": 30,
     "metadata": {},
     "output_type": "execute_result"
    }
   ],
   "source": [
    "house_df.shape"
   ]
  },
  {
   "cell_type": "markdown",
   "metadata": {},
   "source": [
    "- Listing out the data types involved and other details."
   ]
  },
  {
   "cell_type": "code",
   "execution_count": 31,
   "metadata": {},
   "outputs": [
    {
     "name": "stdout",
     "output_type": "stream",
     "text": [
      "<class 'pandas.core.frame.DataFrame'>\n",
      "RangeIndex: 1460 entries, 0 to 1459\n",
      "Data columns (total 63 columns):\n",
      " #   Column         Non-Null Count  Dtype  \n",
      "---  ------         --------------  -----  \n",
      " 0   MSSubClass     1460 non-null   int64  \n",
      " 1   MSZoning       1460 non-null   object \n",
      " 2   LotFrontage    1460 non-null   float64\n",
      " 3   LotArea        1460 non-null   int64  \n",
      " 4   LotShape       1460 non-null   object \n",
      " 5   LandContour    1460 non-null   object \n",
      " 6   LotConfig      1460 non-null   object \n",
      " 7   Neighborhood   1460 non-null   object \n",
      " 8   Condition1     1460 non-null   object \n",
      " 9   BldgType       1460 non-null   object \n",
      " 10  HouseStyle     1460 non-null   object \n",
      " 11  OverallQual    1460 non-null   int64  \n",
      " 12  OverallCond    1460 non-null   int64  \n",
      " 13  YearBuilt      1460 non-null   int64  \n",
      " 14  RoofStyle      1460 non-null   object \n",
      " 15  Exterior1st    1460 non-null   object \n",
      " 16  Exterior2nd    1460 non-null   object \n",
      " 17  MasVnrType     1452 non-null   object \n",
      " 18  MasVnrArea     1460 non-null   float64\n",
      " 19  ExterQual      1460 non-null   int64  \n",
      " 20  ExterCond      1460 non-null   int64  \n",
      " 21  Foundation     1460 non-null   object \n",
      " 22  BsmtQual       1460 non-null   int64  \n",
      " 23  BsmtCond       1460 non-null   int64  \n",
      " 24  BsmtExposure   1460 non-null   int64  \n",
      " 25  BsmtFinType1   1460 non-null   object \n",
      " 26  BsmtFinSF1     1460 non-null   int64  \n",
      " 27  BsmtFinType2   1460 non-null   object \n",
      " 28  BsmtFinSF2     1460 non-null   int64  \n",
      " 29  BsmtUnfSF      1460 non-null   int64  \n",
      " 30  TotalBsmtSF    1460 non-null   int64  \n",
      " 31  HeatingQC      1460 non-null   int64  \n",
      " 32  CentralAir     1460 non-null   int64  \n",
      " 33  1stFlrSF       1460 non-null   int64  \n",
      " 34  2ndFlrSF       1460 non-null   int64  \n",
      " 35  LowQualFinSF   1460 non-null   int64  \n",
      " 36  GrLivArea      1460 non-null   int64  \n",
      " 37  BsmtFullBath   1460 non-null   int64  \n",
      " 38  BsmtHalfBath   1460 non-null   int64  \n",
      " 39  FullBath       1460 non-null   int64  \n",
      " 40  HalfBath       1460 non-null   int64  \n",
      " 41  BedroomAbvGr   1460 non-null   int64  \n",
      " 42  KitchenAbvGr   1460 non-null   int64  \n",
      " 43  KitchenQual    1460 non-null   int64  \n",
      " 44  TotRmsAbvGrd   1460 non-null   int64  \n",
      " 45  Fireplaces     1460 non-null   int64  \n",
      " 46  FireplaceQu    1460 non-null   int64  \n",
      " 47  GarageType     1460 non-null   object \n",
      " 48  GarageFinish   1460 non-null   object \n",
      " 49  GarageCars     1460 non-null   int64  \n",
      " 50  GarageArea     1460 non-null   int64  \n",
      " 51  GarageQual     1460 non-null   int64  \n",
      " 52  WoodDeckSF     1460 non-null   int64  \n",
      " 53  OpenPorchSF    1460 non-null   int64  \n",
      " 54  EnclosedPorch  1460 non-null   int64  \n",
      " 55  3SsnPorch      1460 non-null   int64  \n",
      " 56  ScreenPorch    1460 non-null   int64  \n",
      " 57  PoolArea       1460 non-null   int64  \n",
      " 58  Fence          1460 non-null   object \n",
      " 59  MiscVal        1460 non-null   int64  \n",
      " 60  SaleType       1460 non-null   object \n",
      " 61  SaleCondition  1460 non-null   object \n",
      " 62  SalePrice      1460 non-null   int64  \n",
      "dtypes: float64(2), int64(41), object(20)\n",
      "memory usage: 718.7+ KB\n"
     ]
    }
   ],
   "source": [
    "house_df.info()"
   ]
  },
  {
   "cell_type": "markdown",
   "metadata": {},
   "source": [
    "- Calculating age of house and creating age column for same"
   ]
  },
  {
   "cell_type": "code",
   "execution_count": 32,
   "metadata": {},
   "outputs": [],
   "source": [
    "house_df['Age']=2021- house_df.YearBuilt"
   ]
  },
  {
   "cell_type": "markdown",
   "metadata": {},
   "source": [
    "- looking at top 5 rows of age column"
   ]
  },
  {
   "cell_type": "code",
   "execution_count": 33,
   "metadata": {},
   "outputs": [
    {
     "data": {
      "text/plain": [
       "0     18\n",
       "1     45\n",
       "2     20\n",
       "3    106\n",
       "4     21\n",
       "Name: Age, dtype: int64"
      ]
     },
     "execution_count": 33,
     "metadata": {},
     "output_type": "execute_result"
    }
   ],
   "source": [
    "house_df.Age.head()"
   ]
  },
  {
   "cell_type": "markdown",
   "metadata": {},
   "source": [
    "- dropping YearBuilt as it is of no use we can use Age instead of YearBuilt"
   ]
  },
  {
   "cell_type": "code",
   "execution_count": 34,
   "metadata": {},
   "outputs": [],
   "source": [
    "house_df.drop('YearBuilt',1,inplace=True)"
   ]
  },
  {
   "cell_type": "markdown",
   "metadata": {},
   "source": [
    "- Checking for Null values present in our remaining dataset"
   ]
  },
  {
   "cell_type": "code",
   "execution_count": 35,
   "metadata": {},
   "outputs": [
    {
     "data": {
      "text/plain": [
       "MSSubClass       0\n",
       "MSZoning         0\n",
       "LotFrontage      0\n",
       "LotArea          0\n",
       "LotShape         0\n",
       "                ..\n",
       "MiscVal          0\n",
       "SaleType         0\n",
       "SaleCondition    0\n",
       "SalePrice        0\n",
       "Age              0\n",
       "Length: 63, dtype: int64"
      ]
     },
     "execution_count": 35,
     "metadata": {},
     "output_type": "execute_result"
    }
   ],
   "source": [
    "house_df.isnull().sum()"
   ]
  },
  {
   "cell_type": "markdown",
   "metadata": {},
   "source": [
    "- MasVnrType column contain null values lets handle them first.\n",
    "- Since it was a categorical column we will replace null values with mode of column."
   ]
  },
  {
   "cell_type": "code",
   "execution_count": 36,
   "metadata": {},
   "outputs": [
    {
     "data": {
      "text/plain": [
       "0    None\n",
       "dtype: object"
      ]
     },
     "execution_count": 36,
     "metadata": {},
     "output_type": "execute_result"
    }
   ],
   "source": [
    "house_df.MasVnrType.mode()"
   ]
  },
  {
   "cell_type": "code",
   "execution_count": 37,
   "metadata": {},
   "outputs": [
    {
     "data": {
      "text/plain": [
       "0    BrkFace\n",
       "1       None\n",
       "2    BrkFace\n",
       "3       None\n",
       "4    BrkFace\n",
       "Name: MasVnrType, dtype: object"
      ]
     },
     "execution_count": 37,
     "metadata": {},
     "output_type": "execute_result"
    }
   ],
   "source": [
    "house_df.MasVnrType.replace(np.NaN,'None')\n",
    "house_df.MasVnrType.head()"
   ]
  },
  {
   "cell_type": "markdown",
   "metadata": {},
   "source": [
    "- Checking MasVnrType column value counts for skewness."
   ]
  },
  {
   "cell_type": "code",
   "execution_count": 38,
   "metadata": {},
   "outputs": [
    {
     "data": {
      "text/plain": [
       "None       0.595041\n",
       "BrkFace    0.306474\n",
       "Stone      0.088154\n",
       "BrkCmn     0.010331\n",
       "Name: MasVnrType, dtype: float64"
      ]
     },
     "execution_count": 38,
     "metadata": {},
     "output_type": "execute_result"
    }
   ],
   "source": [
    "house_df.MasVnrType.value_counts(normalize=True)"
   ]
  },
  {
   "cell_type": "markdown",
   "metadata": {},
   "source": [
    "## Numerical Variable Analysis :"
   ]
  },
  {
   "cell_type": "markdown",
   "metadata": {},
   "source": [
    "* Let's start with a heatmap to find out the correlation between variables."
   ]
  },
  {
   "cell_type": "code",
   "execution_count": 39,
   "metadata": {},
   "outputs": [
    {
     "data": {
      "image/png": "[encoded data removed]",
      "text/plain": [
       "<Figure size 1080x720 with 2 Axes>"
      ]
     },
     "metadata": {
      "needs_background": "light"
     },
     "output_type": "display_data"
    }
   ],
   "source": [
    "plt.figure(figsize=[15,10])\n",
    "sns.heatmap(house_df.corr(), cmap='Greens')\n",
    "plt.show()"
   ]
  },
  {
   "cell_type": "markdown",
   "metadata": {},
   "source": [
    "- From above heat map we can infer that not much variables are corelated with each other."
   ]
  },
  {
   "cell_type": "markdown",
   "metadata": {},
   "source": [
    "- Checking distribution of target varaible"
   ]
  },
  {
   "cell_type": "code",
   "execution_count": 40,
   "metadata": {},
   "outputs": [
    {
     "data": {
      "text/plain": [
       "count      1460.000000\n",
       "mean     180921.195890\n",
       "std       79442.502883\n",
       "min       34900.000000\n",
       "25%      129975.000000\n",
       "50%      163000.000000\n",
       "75%      214000.000000\n",
       "90%      278000.000000\n",
       "95%      326100.000000\n",
       "99%      442567.010000\n",
       "max      755000.000000\n",
       "Name: SalePrice, dtype: float64"
      ]
     },
     "execution_count": 40,
     "metadata": {},
     "output_type": "execute_result"
    }
   ],
   "source": [
    "house_df['SalePrice'].describe(percentiles=[0.25,0.5,0.75,0.9,0.95,0.99])"
   ]
  },
  {
   "cell_type": "markdown",
   "metadata": {},
   "source": [
    "- Plotting target varaible."
   ]
  },
  {
   "cell_type": "code",
   "execution_count": 41,
   "metadata": {},
   "outputs": [
    {
     "data": {
      "image/png": "[encoded data removed]",
      "text/plain": [
       "<Figure size 432x288 with 1 Axes>"
      ]
     },
     "metadata": {
      "needs_background": "light"
     },
     "output_type": "display_data"
    }
   ],
   "source": [
    "sns.boxplot(y=house_df.SalePrice, data=house_df)\n",
    "plt.show()"
   ]
  },
  {
   "cell_type": "markdown",
   "metadata": {},
   "source": [
    "- since our target varaible contains outliers, we have to transform our data, in this case we will be using Log transform."
   ]
  },
  {
   "cell_type": "code",
   "execution_count": 42,
   "metadata": {},
   "outputs": [],
   "source": [
    "house_df['SalePrice']=np.log(house_df['SalePrice'])"
   ]
  },
  {
   "cell_type": "markdown",
   "metadata": {},
   "source": [
    "- After transforming looking at plot of target variable."
   ]
  },
  {
   "cell_type": "code",
   "execution_count": 43,
   "metadata": {},
   "outputs": [
    {
     "data": {
      "image/png": "[encoded data removed]",
      "text/plain": [
       "<Figure size 432x288 with 1 Axes>"
      ]
     },
     "metadata": {
      "needs_background": "light"
     },
     "output_type": "display_data"
    }
   ],
   "source": [
    "sns.boxplot(y=house_df.SalePrice, data=house_df)\n",
    "plt.show()"
   ]
  },
  {
   "cell_type": "markdown",
   "metadata": {},
   "source": [
    "- Now it seems better than earlier."
   ]
  },
  {
   "cell_type": "markdown",
   "metadata": {},
   "source": [
    "## Dummy Variable Creation -"
   ]
  },
  {
   "cell_type": "markdown",
   "metadata": {},
   "source": [
    "- Creating list of columns which are categorical in nature and required dummies."
   ]
  },
  {
   "cell_type": "code",
   "execution_count": 44,
   "metadata": {},
   "outputs": [],
   "source": [
    "catog_df = house_df.select_dtypes(include=['object'])"
   ]
  },
  {
   "cell_type": "markdown",
   "metadata": {},
   "source": [
    "- Let's start with first running the pd.get_dummies() function on our categorical variables of 'Object' type"
   ]
  },
  {
   "cell_type": "code",
   "execution_count": 45,
   "metadata": {},
   "outputs": [
    {
     "data": {
      "text/html": [
       "<div>\n",
       "<style scoped>\n",
       "    .dataframe tbody tr th:only-of-type {\n",
       "        vertical-align: middle;\n",
       "    }\n",
       "\n",
       "    .dataframe tbody tr th {\n",
       "        vertical-align: top;\n",
       "    }\n",
       "\n",
       "    .dataframe thead th {\n",
       "        text-align: right;\n",
       "    }\n",
       "</style>\n",
       "<table border=\"1\" class=\"dataframe\">\n",
       "  <thead>\n",
       "    <tr style=\"text-align: right;\">\n",
       "      <th></th>\n",
       "      <th>MSZoning_FV</th>\n",
       "      <th>MSZoning_RH</th>\n",
       "      <th>MSZoning_RL</th>\n",
       "      <th>MSZoning_RM</th>\n",
       "      <th>LotShape_IR2</th>\n",
       "      <th>LotShape_IR3</th>\n",
       "      <th>LotShape_Reg</th>\n",
       "      <th>LandContour_HLS</th>\n",
       "      <th>LandContour_Low</th>\n",
       "      <th>LandContour_Lvl</th>\n",
       "      <th>...</th>\n",
       "      <th>Fence_MnPrv</th>\n",
       "      <th>Fence_MnWw</th>\n",
       "      <th>Fence_NoFence</th>\n",
       "      <th>SaleType_ConLw</th>\n",
       "      <th>SaleType_New</th>\n",
       "      <th>SaleType_OthersSaleType</th>\n",
       "      <th>SaleType_WD</th>\n",
       "      <th>SaleCondition_Normal</th>\n",
       "      <th>SaleCondition_OthersSaleCondition</th>\n",
       "      <th>SaleCondition_Partial</th>\n",
       "    </tr>\n",
       "  </thead>\n",
       "  <tbody>\n",
       "    <tr>\n",
       "      <th>0</th>\n",
       "      <td>0</td>\n",
       "      <td>0</td>\n",
       "      <td>1</td>\n",
       "      <td>0</td>\n",
       "      <td>0</td>\n",
       "      <td>0</td>\n",
       "      <td>1</td>\n",
       "      <td>0</td>\n",
       "      <td>0</td>\n",
       "      <td>1</td>\n",
       "      <td>...</td>\n",
       "      <td>0</td>\n",
       "      <td>0</td>\n",
       "      <td>1</td>\n",
       "      <td>0</td>\n",
       "      <td>0</td>\n",
       "      <td>0</td>\n",
       "      <td>1</td>\n",
       "      <td>1</td>\n",
       "      <td>0</td>\n",
       "      <td>0</td>\n",
       "    </tr>\n",
       "    <tr>\n",
       "      <th>1</th>\n",
       "      <td>0</td>\n",
       "      <td>0</td>\n",
       "      <td>1</td>\n",
       "      <td>0</td>\n",
       "      <td>0</td>\n",
       "      <td>0</td>\n",
       "      <td>1</td>\n",
       "      <td>0</td>\n",
       "      <td>0</td>\n",
       "      <td>1</td>\n",
       "      <td>...</td>\n",
       "      <td>0</td>\n",
       "      <td>0</td>\n",
       "      <td>1</td>\n",
       "      <td>0</td>\n",
       "      <td>0</td>\n",
       "      <td>0</td>\n",
       "      <td>1</td>\n",
       "      <td>1</td>\n",
       "      <td>0</td>\n",
       "      <td>0</td>\n",
       "    </tr>\n",
       "    <tr>\n",
       "      <th>2</th>\n",
       "      <td>0</td>\n",
       "      <td>0</td>\n",
       "      <td>1</td>\n",
       "      <td>0</td>\n",
       "      <td>0</td>\n",
       "      <td>0</td>\n",
       "      <td>0</td>\n",
       "      <td>0</td>\n",
       "      <td>0</td>\n",
       "      <td>1</td>\n",
       "      <td>...</td>\n",
       "      <td>0</td>\n",
       "      <td>0</td>\n",
       "      <td>1</td>\n",
       "      <td>0</td>\n",
       "      <td>0</td>\n",
       "      <td>0</td>\n",
       "      <td>1</td>\n",
       "      <td>1</td>\n",
       "      <td>0</td>\n",
       "      <td>0</td>\n",
       "    </tr>\n",
       "    <tr>\n",
       "      <th>3</th>\n",
       "      <td>0</td>\n",
       "      <td>0</td>\n",
       "      <td>1</td>\n",
       "      <td>0</td>\n",
       "      <td>0</td>\n",
       "      <td>0</td>\n",
       "      <td>0</td>\n",
       "      <td>0</td>\n",
       "      <td>0</td>\n",
       "      <td>1</td>\n",
       "      <td>...</td>\n",
       "      <td>0</td>\n",
       "      <td>0</td>\n",
       "      <td>1</td>\n",
       "      <td>0</td>\n",
       "      <td>0</td>\n",
       "      <td>0</td>\n",
       "      <td>1</td>\n",
       "      <td>0</td>\n",
       "      <td>0</td>\n",
       "      <td>0</td>\n",
       "    </tr>\n",
       "    <tr>\n",
       "      <th>4</th>\n",
       "      <td>0</td>\n",
       "      <td>0</td>\n",
       "      <td>1</td>\n",
       "      <td>0</td>\n",
       "      <td>0</td>\n",
       "      <td>0</td>\n",
       "      <td>0</td>\n",
       "      <td>0</td>\n",
       "      <td>0</td>\n",
       "      <td>1</td>\n",
       "      <td>...</td>\n",
       "      <td>0</td>\n",
       "      <td>0</td>\n",
       "      <td>1</td>\n",
       "      <td>0</td>\n",
       "      <td>0</td>\n",
       "      <td>0</td>\n",
       "      <td>1</td>\n",
       "      <td>1</td>\n",
       "      <td>0</td>\n",
       "      <td>0</td>\n",
       "    </tr>\n",
       "  </tbody>\n",
       "</table>\n",
       "<p>5 rows × 95 columns</p>\n",
       "</div>"
      ],
      "text/plain": [
       "   MSZoning_FV  MSZoning_RH  MSZoning_RL  MSZoning_RM  LotShape_IR2  \\\n",
       "0            0            0            1            0             0   \n",
       "1            0            0            1            0             0   \n",
       "2            0            0            1            0             0   \n",
       "3            0            0            1            0             0   \n",
       "4            0            0            1            0             0   \n",
       "\n",
       "   LotShape_IR3  LotShape_Reg  LandContour_HLS  LandContour_Low  \\\n",
       "0             0             1                0                0   \n",
       "1             0             1                0                0   \n",
       "2             0             0                0                0   \n",
       "3             0             0                0                0   \n",
       "4             0             0                0                0   \n",
       "\n",
       "   LandContour_Lvl  ...  Fence_MnPrv  Fence_MnWw  Fence_NoFence  \\\n",
       "0                1  ...            0           0              1   \n",
       "1                1  ...            0           0              1   \n",
       "2                1  ...            0           0              1   \n",
       "3                1  ...            0           0              1   \n",
       "4                1  ...            0           0              1   \n",
       "\n",
       "   SaleType_ConLw  SaleType_New  SaleType_OthersSaleType  SaleType_WD  \\\n",
       "0               0             0                        0            1   \n",
       "1               0             0                        0            1   \n",
       "2               0             0                        0            1   \n",
       "3               0             0                        0            1   \n",
       "4               0             0                        0            1   \n",
       "\n",
       "   SaleCondition_Normal  SaleCondition_OthersSaleCondition  \\\n",
       "0                     1                                  0   \n",
       "1                     1                                  0   \n",
       "2                     1                                  0   \n",
       "3                     0                                  0   \n",
       "4                     1                                  0   \n",
       "\n",
       "   SaleCondition_Partial  \n",
       "0                      0  \n",
       "1                      0  \n",
       "2                      0  \n",
       "3                      0  \n",
       "4                      0  \n",
       "\n",
       "[5 rows x 95 columns]"
      ]
     },
     "execution_count": 45,
     "metadata": {},
     "output_type": "execute_result"
    }
   ],
   "source": [
    "dummy = pd.get_dummies(house_df[catog_df.columns], drop_first=True)\n",
    "dummy.head()"
   ]
  },
  {
   "cell_type": "markdown",
   "metadata": {},
   "source": [
    "- We will now drop the original columns used for creating dummy variables"
   ]
  },
  {
   "cell_type": "code",
   "execution_count": 46,
   "metadata": {},
   "outputs": [],
   "source": [
    "house_df = house_df.drop(house_df[catog_df.columns], axis =1)"
   ]
  },
  {
   "cell_type": "markdown",
   "metadata": {},
   "source": [
    "- All good. Let's join the dummy dataframe with our origial dataframe"
   ]
  },
  {
   "cell_type": "code",
   "execution_count": 47,
   "metadata": {},
   "outputs": [],
   "source": [
    "house_df = pd.concat([house_df, dummy], axis=1)"
   ]
  },
  {
   "cell_type": "markdown",
   "metadata": {},
   "source": [
    "- Verifying the data types and columns in our dataframe after the dummy variable setup"
   ]
  },
  {
   "cell_type": "code",
   "execution_count": 48,
   "metadata": {},
   "outputs": [
    {
     "name": "stdout",
     "output_type": "stream",
     "text": [
      "<class 'pandas.core.frame.DataFrame'>\n",
      "RangeIndex: 1460 entries, 0 to 1459\n",
      "Columns: 138 entries, MSSubClass to SaleCondition_Partial\n",
      "dtypes: float64(3), int64(40), uint8(95)\n",
      "memory usage: 626.0 KB\n"
     ]
    }
   ],
   "source": [
    "house_df.info()"
   ]
  },
  {
   "cell_type": "code",
   "execution_count": 49,
   "metadata": {},
   "outputs": [
    {
     "data": {
      "text/html": [
       "<div>\n",
       "<style scoped>\n",
       "    .dataframe tbody tr th:only-of-type {\n",
       "        vertical-align: middle;\n",
       "    }\n",
       "\n",
       "    .dataframe tbody tr th {\n",
       "        vertical-align: top;\n",
       "    }\n",
       "\n",
       "    .dataframe thead th {\n",
       "        text-align: right;\n",
       "    }\n",
       "</style>\n",
       "<table border=\"1\" class=\"dataframe\">\n",
       "  <thead>\n",
       "    <tr style=\"text-align: right;\">\n",
       "      <th></th>\n",
       "      <th>MSSubClass</th>\n",
       "      <th>LotFrontage</th>\n",
       "      <th>LotArea</th>\n",
       "      <th>OverallQual</th>\n",
       "      <th>OverallCond</th>\n",
       "      <th>MasVnrArea</th>\n",
       "      <th>ExterQual</th>\n",
       "      <th>ExterCond</th>\n",
       "      <th>BsmtQual</th>\n",
       "      <th>BsmtCond</th>\n",
       "      <th>...</th>\n",
       "      <th>Fence_MnPrv</th>\n",
       "      <th>Fence_MnWw</th>\n",
       "      <th>Fence_NoFence</th>\n",
       "      <th>SaleType_ConLw</th>\n",
       "      <th>SaleType_New</th>\n",
       "      <th>SaleType_OthersSaleType</th>\n",
       "      <th>SaleType_WD</th>\n",
       "      <th>SaleCondition_Normal</th>\n",
       "      <th>SaleCondition_OthersSaleCondition</th>\n",
       "      <th>SaleCondition_Partial</th>\n",
       "    </tr>\n",
       "  </thead>\n",
       "  <tbody>\n",
       "    <tr>\n",
       "      <th>0</th>\n",
       "      <td>60</td>\n",
       "      <td>65.0</td>\n",
       "      <td>8450</td>\n",
       "      <td>7</td>\n",
       "      <td>5</td>\n",
       "      <td>196.0</td>\n",
       "      <td>4</td>\n",
       "      <td>3</td>\n",
       "      <td>4</td>\n",
       "      <td>3</td>\n",
       "      <td>...</td>\n",
       "      <td>0</td>\n",
       "      <td>0</td>\n",
       "      <td>1</td>\n",
       "      <td>0</td>\n",
       "      <td>0</td>\n",
       "      <td>0</td>\n",
       "      <td>1</td>\n",
       "      <td>1</td>\n",
       "      <td>0</td>\n",
       "      <td>0</td>\n",
       "    </tr>\n",
       "    <tr>\n",
       "      <th>1</th>\n",
       "      <td>20</td>\n",
       "      <td>80.0</td>\n",
       "      <td>9600</td>\n",
       "      <td>6</td>\n",
       "      <td>8</td>\n",
       "      <td>0.0</td>\n",
       "      <td>3</td>\n",
       "      <td>3</td>\n",
       "      <td>4</td>\n",
       "      <td>3</td>\n",
       "      <td>...</td>\n",
       "      <td>0</td>\n",
       "      <td>0</td>\n",
       "      <td>1</td>\n",
       "      <td>0</td>\n",
       "      <td>0</td>\n",
       "      <td>0</td>\n",
       "      <td>1</td>\n",
       "      <td>1</td>\n",
       "      <td>0</td>\n",
       "      <td>0</td>\n",
       "    </tr>\n",
       "    <tr>\n",
       "      <th>2</th>\n",
       "      <td>60</td>\n",
       "      <td>68.0</td>\n",
       "      <td>11250</td>\n",
       "      <td>7</td>\n",
       "      <td>5</td>\n",
       "      <td>162.0</td>\n",
       "      <td>4</td>\n",
       "      <td>3</td>\n",
       "      <td>4</td>\n",
       "      <td>3</td>\n",
       "      <td>...</td>\n",
       "      <td>0</td>\n",
       "      <td>0</td>\n",
       "      <td>1</td>\n",
       "      <td>0</td>\n",
       "      <td>0</td>\n",
       "      <td>0</td>\n",
       "      <td>1</td>\n",
       "      <td>1</td>\n",
       "      <td>0</td>\n",
       "      <td>0</td>\n",
       "    </tr>\n",
       "    <tr>\n",
       "      <th>3</th>\n",
       "      <td>70</td>\n",
       "      <td>60.0</td>\n",
       "      <td>9550</td>\n",
       "      <td>7</td>\n",
       "      <td>5</td>\n",
       "      <td>0.0</td>\n",
       "      <td>3</td>\n",
       "      <td>3</td>\n",
       "      <td>3</td>\n",
       "      <td>4</td>\n",
       "      <td>...</td>\n",
       "      <td>0</td>\n",
       "      <td>0</td>\n",
       "      <td>1</td>\n",
       "      <td>0</td>\n",
       "      <td>0</td>\n",
       "      <td>0</td>\n",
       "      <td>1</td>\n",
       "      <td>0</td>\n",
       "      <td>0</td>\n",
       "      <td>0</td>\n",
       "    </tr>\n",
       "    <tr>\n",
       "      <th>4</th>\n",
       "      <td>60</td>\n",
       "      <td>84.0</td>\n",
       "      <td>14260</td>\n",
       "      <td>8</td>\n",
       "      <td>5</td>\n",
       "      <td>350.0</td>\n",
       "      <td>4</td>\n",
       "      <td>3</td>\n",
       "      <td>4</td>\n",
       "      <td>3</td>\n",
       "      <td>...</td>\n",
       "      <td>0</td>\n",
       "      <td>0</td>\n",
       "      <td>1</td>\n",
       "      <td>0</td>\n",
       "      <td>0</td>\n",
       "      <td>0</td>\n",
       "      <td>1</td>\n",
       "      <td>1</td>\n",
       "      <td>0</td>\n",
       "      <td>0</td>\n",
       "    </tr>\n",
       "  </tbody>\n",
       "</table>\n",
       "<p>5 rows × 138 columns</p>\n",
       "</div>"
      ],
      "text/plain": [
       "   MSSubClass  LotFrontage  LotArea  OverallQual  OverallCond  MasVnrArea  \\\n",
       "0          60         65.0     8450            7            5       196.0   \n",
       "1          20         80.0     9600            6            8         0.0   \n",
       "2          60         68.0    11250            7            5       162.0   \n",
       "3          70         60.0     9550            7            5         0.0   \n",
       "4          60         84.0    14260            8            5       350.0   \n",
       "\n",
       "   ExterQual  ExterCond  BsmtQual  BsmtCond  ...  Fence_MnPrv  Fence_MnWw  \\\n",
       "0          4          3         4         3  ...            0           0   \n",
       "1          3          3         4         3  ...            0           0   \n",
       "2          4          3         4         3  ...            0           0   \n",
       "3          3          3         3         4  ...            0           0   \n",
       "4          4          3         4         3  ...            0           0   \n",
       "\n",
       "   Fence_NoFence  SaleType_ConLw  SaleType_New  SaleType_OthersSaleType  \\\n",
       "0              1               0             0                        0   \n",
       "1              1               0             0                        0   \n",
       "2              1               0             0                        0   \n",
       "3              1               0             0                        0   \n",
       "4              1               0             0                        0   \n",
       "\n",
       "   SaleType_WD  SaleCondition_Normal  SaleCondition_OthersSaleCondition  \\\n",
       "0            1                     1                                  0   \n",
       "1            1                     1                                  0   \n",
       "2            1                     1                                  0   \n",
       "3            1                     0                                  0   \n",
       "4            1                     1                                  0   \n",
       "\n",
       "   SaleCondition_Partial  \n",
       "0                      0  \n",
       "1                      0  \n",
       "2                      0  \n",
       "3                      0  \n",
       "4                      0  \n",
       "\n",
       "[5 rows x 138 columns]"
      ]
     },
     "execution_count": 49,
     "metadata": {},
     "output_type": "execute_result"
    }
   ],
   "source": [
    "house_df.head()"
   ]
  },
  {
   "cell_type": "markdown",
   "metadata": {},
   "source": [
    "## Train_Test Split"
   ]
  },
  {
   "cell_type": "markdown",
   "metadata": {},
   "source": [
    "- Importing the library to perform the train-test split for modelling"
   ]
  },
  {
   "cell_type": "code",
   "execution_count": 50,
   "metadata": {},
   "outputs": [],
   "source": [
    "import sklearn\n",
    "from sklearn.model_selection import train_test_split"
   ]
  },
  {
   "cell_type": "markdown",
   "metadata": {},
   "source": [
    "- Let's start with splitting the dataframe into df_train and df_test with 7:3 ratio"
   ]
  },
  {
   "cell_type": "code",
   "execution_count": 51,
   "metadata": {},
   "outputs": [],
   "source": [
    "df_train, df_test = train_test_split(house_df, train_size=0.7, random_state=100)"
   ]
  },
  {
   "cell_type": "markdown",
   "metadata": {},
   "source": [
    "- Verifying the shape for our new dataframes"
   ]
  },
  {
   "cell_type": "code",
   "execution_count": 52,
   "metadata": {},
   "outputs": [
    {
     "name": "stdout",
     "output_type": "stream",
     "text": [
      "(1021, 138)\n",
      "(439, 138)\n"
     ]
    }
   ],
   "source": [
    "print(df_train.shape)\n",
    "print(df_test.shape)"
   ]
  },
  {
   "cell_type": "markdown",
   "metadata": {},
   "source": [
    "- We will now import the target variable from our train set to 'y_train' and the rest of the dataframe to 'X_train'\n",
    "- And same will be applied to test set as well to get 'y_test' and 'X_test'. "
   ]
  },
  {
   "cell_type": "code",
   "execution_count": 53,
   "metadata": {},
   "outputs": [
    {
     "name": "stdout",
     "output_type": "stream",
     "text": [
      "(1021,)\n",
      "(1021, 137)\n",
      "(439,)\n",
      "(439, 137)\n"
     ]
    }
   ],
   "source": [
    "y_train = df_train.pop('SalePrice')\n",
    "X_train = df_train\n",
    "y_test = df_test.pop('SalePrice')\n",
    "X_test = df_test\n",
    "print(y_train.shape)\n",
    "print(X_train.shape)\n",
    "print(y_test.shape)\n",
    "print(X_test.shape)"
   ]
  },
  {
   "cell_type": "markdown",
   "metadata": {},
   "source": [
    "## Scaling the train set"
   ]
  },
  {
   "cell_type": "markdown",
   "metadata": {},
   "source": [
    "- Importing the library required for scaling and initializing our scaler function"
   ]
  },
  {
   "cell_type": "code",
   "execution_count": 54,
   "metadata": {},
   "outputs": [],
   "source": [
    "from sklearn.preprocessing import StandardScaler\n",
    "scaler = StandardScaler()"
   ]
  },
  {
   "cell_type": "markdown",
   "metadata": {},
   "source": [
    "- We will now obtain the numerical columns from our 'X_train' dataframe and scale them using Standard scaling"
   ]
  },
  {
   "cell_type": "code",
   "execution_count": 55,
   "metadata": {},
   "outputs": [],
   "source": [
    "nums = X_train.select_dtypes(include=['int64','float64']).columns\n",
    "X_train[nums] = scaler.fit_transform(X_train[nums])"
   ]
  },
  {
   "cell_type": "markdown",
   "metadata": {},
   "source": [
    "- After fitting and transforming train data set lets transform test data as well for same scalar."
   ]
  },
  {
   "cell_type": "code",
   "execution_count": 56,
   "metadata": {},
   "outputs": [],
   "source": [
    "X_test[nums] = scaler.transform(X_test[nums])"
   ]
  },
  {
   "cell_type": "markdown",
   "metadata": {},
   "source": [
    "## Feature Selection using RFE"
   ]
  },
  {
   "cell_type": "markdown",
   "metadata": {},
   "source": [
    "- Importing the required libraries and obtaining the top 50 variables using RFE"
   ]
  },
  {
   "cell_type": "code",
   "execution_count": 57,
   "metadata": {},
   "outputs": [],
   "source": [
    "from sklearn.linear_model import LinearRegression\n",
    "from sklearn.feature_selection import RFE\n",
    "\n",
    "linreg = LinearRegression()\n",
    "\n",
    "rfe = RFE(linreg, 50)             # running RFE with 50 variables as output\n",
    "rfe = rfe.fit(X_train, y_train)"
   ]
  },
  {
   "cell_type": "markdown",
   "metadata": {},
   "source": [
    "- Let's see the rankings for all the columns we have obtained after RFE selection"
   ]
  },
  {
   "cell_type": "code",
   "execution_count": 58,
   "metadata": {},
   "outputs": [
    {
     "data": {
      "text/plain": [
       "[('MSSubClass', False, 19),\n",
       " ('LotFrontage', False, 53),\n",
       " ('LotArea', False, 52),\n",
       " ('OverallQual', True, 1),\n",
       " ('OverallCond', True, 1),\n",
       " ('MasVnrArea', False, 72),\n",
       " ('ExterQual', False, 87),\n",
       " ('ExterCond', False, 84),\n",
       " ('BsmtQual', False, 30),\n",
       " ('BsmtCond', False, 67),\n",
       " ('BsmtExposure', False, 26),\n",
       " ('BsmtFinSF1', True, 1),\n",
       " ('BsmtFinSF2', True, 1),\n",
       " ('BsmtUnfSF', True, 1),\n",
       " ('TotalBsmtSF', True, 1),\n",
       " ('HeatingQC', False, 43),\n",
       " ('CentralAir', False, 69),\n",
       " ('1stFlrSF', True, 1),\n",
       " ('2ndFlrSF', True, 1),\n",
       " ('LowQualFinSF', False, 4),\n",
       " ('GrLivArea', True, 1),\n",
       " ('BsmtFullBath', False, 12),\n",
       " ('BsmtHalfBath', False, 82),\n",
       " ('FullBath', False, 49),\n",
       " ('HalfBath', False, 56),\n",
       " ('BedroomAbvGr', False, 59),\n",
       " ('KitchenAbvGr', False, 35),\n",
       " ('KitchenQual', False, 55),\n",
       " ('TotRmsAbvGrd', False, 33),\n",
       " ('Fireplaces', False, 57),\n",
       " ('FireplaceQu', False, 16),\n",
       " ('GarageCars', True, 1),\n",
       " ('GarageArea', False, 85),\n",
       " ('GarageQual', False, 18),\n",
       " ('WoodDeckSF', False, 75),\n",
       " ('OpenPorchSF', False, 88),\n",
       " ('EnclosedPorch', False, 58),\n",
       " ('3SsnPorch', False, 71),\n",
       " ('ScreenPorch', False, 60),\n",
       " ('PoolArea', False, 76),\n",
       " ('MiscVal', False, 86),\n",
       " ('Age', True, 1),\n",
       " ('MSZoning_FV', True, 1),\n",
       " ('MSZoning_RH', True, 1),\n",
       " ('MSZoning_RL', True, 1),\n",
       " ('MSZoning_RM', True, 1),\n",
       " ('LotShape_IR2', False, 21),\n",
       " ('LotShape_IR3', True, 1),\n",
       " ('LotShape_Reg', False, 74),\n",
       " ('LandContour_HLS', True, 1),\n",
       " ('LandContour_Low', True, 1),\n",
       " ('LandContour_Lvl', True, 1),\n",
       " ('LotConfig_CulDSac', True, 1),\n",
       " ('LotConfig_FR2', False, 25),\n",
       " ('LotConfig_FR3', False, 48),\n",
       " ('LotConfig_Inside', False, 54),\n",
       " ('Neighborhood_ClearCr', True, 1),\n",
       " ('Neighborhood_CollgCr', False, 32),\n",
       " ('Neighborhood_Crawfor', True, 1),\n",
       " ('Neighborhood_Edwards', True, 1),\n",
       " ('Neighborhood_Gilbert', False, 22),\n",
       " ('Neighborhood_IDOTRR', False, 23),\n",
       " ('Neighborhood_Mitchel', False, 6),\n",
       " ('Neighborhood_NAmes', False, 11),\n",
       " ('Neighborhood_NWAmes', False, 13),\n",
       " ('Neighborhood_NoRidge', True, 1),\n",
       " ('Neighborhood_NridgHt', True, 1),\n",
       " ('Neighborhood_OldTown', False, 47),\n",
       " ('Neighborhood_OthersNeighborhood', False, 70),\n",
       " ('Neighborhood_Sawyer', False, 7),\n",
       " ('Neighborhood_SawyerW', False, 36),\n",
       " ('Neighborhood_Somerst', True, 1),\n",
       " ('Neighborhood_Timber', False, 44),\n",
       " ('Condition1_Feedr', False, 15),\n",
       " ('Condition1_Norm', True, 1),\n",
       " ('Condition1_OthersCondition1', False, 14),\n",
       " ('BldgType_2fmCon', False, 5),\n",
       " ('BldgType_Duplex', False, 34),\n",
       " ('BldgType_Twnhs', True, 1),\n",
       " ('BldgType_TwnhsE', False, 63),\n",
       " ('HouseStyle_1Story', False, 64),\n",
       " ('HouseStyle_2Story', True, 1),\n",
       " ('HouseStyle_OthersHouseStyle', False, 61),\n",
       " ('HouseStyle_SFoyer', False, 24),\n",
       " ('HouseStyle_SLvl', False, 81),\n",
       " ('RoofStyle_Hip', False, 68),\n",
       " ('RoofStyle_OthersRoofStyle', False, 62),\n",
       " ('Exterior1st_CemntBd', True, 1),\n",
       " ('Exterior1st_HdBoard', True, 1),\n",
       " ('Exterior1st_MetalSd', True, 1),\n",
       " ('Exterior1st_OthersExterior1st', True, 1),\n",
       " ('Exterior1st_Plywood', True, 1),\n",
       " ('Exterior1st_VinylSd', True, 1),\n",
       " ('Exterior1st_Wd Sdng', True, 1),\n",
       " ('Exterior2nd_HdBoard', False, 41),\n",
       " ('Exterior2nd_MetalSd', False, 42),\n",
       " ('Exterior2nd_OthersExterior2nd', True, 1),\n",
       " ('Exterior2nd_Plywood', False, 40),\n",
       " ('Exterior2nd_VinylSd', False, 51),\n",
       " ('Exterior2nd_Wd Sdng', False, 45),\n",
       " ('Exterior2nd_Wd Shng', True, 1),\n",
       " ('MasVnrType_BrkFace', False, 37),\n",
       " ('MasVnrType_None', False, 38),\n",
       " ('MasVnrType_Stone', False, 78),\n",
       " ('Foundation_CBlock', False, 8),\n",
       " ('Foundation_OthersFoundation', False, 10),\n",
       " ('Foundation_PConc', True, 1),\n",
       " ('BsmtFinType1_BLQ', False, 73),\n",
       " ('BsmtFinType1_GLQ', False, 50),\n",
       " ('BsmtFinType1_LwQ', True, 1),\n",
       " ('BsmtFinType1_NoBasementFinType1', False, 65),\n",
       " ('BsmtFinType1_Rec', False, 80),\n",
       " ('BsmtFinType1_Unf', True, 1),\n",
       " ('BsmtFinType2_BLQ', True, 1),\n",
       " ('BsmtFinType2_GLQ', False, 28),\n",
       " ('BsmtFinType2_LwQ', False, 27),\n",
       " ('BsmtFinType2_NoBasementFinType2', True, 1),\n",
       " ('BsmtFinType2_Rec', False, 39),\n",
       " ('BsmtFinType2_Unf', False, 83),\n",
       " ('GarageType_BuiltIn', False, 17),\n",
       " ('GarageType_Detchd', False, 31),\n",
       " ('GarageType_NoGarageType', False, 2),\n",
       " ('GarageType_OthersGarageType', False, 29),\n",
       " ('GarageFinish_NoGarageFinish', False, 3),\n",
       " ('GarageFinish_RFn', False, 46),\n",
       " ('GarageFinish_Unf', True, 1),\n",
       " ('Fence_GdWo', True, 1),\n",
       " ('Fence_MnPrv', False, 77),\n",
       " ('Fence_MnWw', False, 20),\n",
       " ('Fence_NoFence', False, 79),\n",
       " ('SaleType_ConLw', False, 66),\n",
       " ('SaleType_New', True, 1),\n",
       " ('SaleType_OthersSaleType', True, 1),\n",
       " ('SaleType_WD', False, 9),\n",
       " ('SaleCondition_Normal', True, 1),\n",
       " ('SaleCondition_OthersSaleCondition', True, 1),\n",
       " ('SaleCondition_Partial', True, 1)]"
      ]
     },
     "execution_count": 58,
     "metadata": {},
     "output_type": "execute_result"
    }
   ],
   "source": [
    "list(zip(X_train.columns, rfe.support_, rfe.ranking_))"
   ]
  },
  {
   "cell_type": "markdown",
   "metadata": {},
   "source": [
    "- Separating all the supported columns into 'col' list"
   ]
  },
  {
   "cell_type": "code",
   "execution_count": 59,
   "metadata": {},
   "outputs": [],
   "source": [
    "col = X_train.columns[rfe.support_]"
   ]
  },
  {
   "cell_type": "markdown",
   "metadata": {},
   "source": [
    "- Listing out all the columns which were eliminated by RFE"
   ]
  },
  {
   "cell_type": "code",
   "execution_count": 60,
   "metadata": {},
   "outputs": [
    {
     "data": {
      "text/plain": [
       "Index(['MSSubClass', 'LotFrontage', 'LotArea', 'MasVnrArea', 'ExterQual',\n",
       "       'ExterCond', 'BsmtQual', 'BsmtCond', 'BsmtExposure', 'HeatingQC',\n",
       "       'CentralAir', 'LowQualFinSF', 'BsmtFullBath', 'BsmtHalfBath',\n",
       "       'FullBath', 'HalfBath', 'BedroomAbvGr', 'KitchenAbvGr', 'KitchenQual',\n",
       "       'TotRmsAbvGrd', 'Fireplaces', 'FireplaceQu', 'GarageArea', 'GarageQual',\n",
       "       'WoodDeckSF', 'OpenPorchSF', 'EnclosedPorch', '3SsnPorch',\n",
       "       'ScreenPorch', 'PoolArea', 'MiscVal', 'LotShape_IR2', 'LotShape_Reg',\n",
       "       'LotConfig_FR2', 'LotConfig_FR3', 'LotConfig_Inside',\n",
       "       'Neighborhood_CollgCr', 'Neighborhood_Gilbert', 'Neighborhood_IDOTRR',\n",
       "       'Neighborhood_Mitchel', 'Neighborhood_NAmes', 'Neighborhood_NWAmes',\n",
       "       'Neighborhood_OldTown', 'Neighborhood_OthersNeighborhood',\n",
       "       'Neighborhood_Sawyer', 'Neighborhood_SawyerW', 'Neighborhood_Timber',\n",
       "       'Condition1_Feedr', 'Condition1_OthersCondition1', 'BldgType_2fmCon',\n",
       "       'BldgType_Duplex', 'BldgType_TwnhsE', 'HouseStyle_1Story',\n",
       "       'HouseStyle_OthersHouseStyle', 'HouseStyle_SFoyer', 'HouseStyle_SLvl',\n",
       "       'RoofStyle_Hip', 'RoofStyle_OthersRoofStyle', 'Exterior2nd_HdBoard',\n",
       "       'Exterior2nd_MetalSd', 'Exterior2nd_Plywood', 'Exterior2nd_VinylSd',\n",
       "       'Exterior2nd_Wd Sdng', 'MasVnrType_BrkFace', 'MasVnrType_None',\n",
       "       'MasVnrType_Stone', 'Foundation_CBlock', 'Foundation_OthersFoundation',\n",
       "       'BsmtFinType1_BLQ', 'BsmtFinType1_GLQ',\n",
       "       'BsmtFinType1_NoBasementFinType1', 'BsmtFinType1_Rec',\n",
       "       'BsmtFinType2_GLQ', 'BsmtFinType2_LwQ', 'BsmtFinType2_Rec',\n",
       "       'BsmtFinType2_Unf', 'GarageType_BuiltIn', 'GarageType_Detchd',\n",
       "       'GarageType_NoGarageType', 'GarageType_OthersGarageType',\n",
       "       'GarageFinish_NoGarageFinish', 'GarageFinish_RFn', 'Fence_MnPrv',\n",
       "       'Fence_MnWw', 'Fence_NoFence', 'SaleType_ConLw', 'SaleType_WD'],\n",
       "      dtype='object')"
      ]
     },
     "execution_count": 60,
     "metadata": {},
     "output_type": "execute_result"
    }
   ],
   "source": [
    "X_train.columns[~rfe.support_]"
   ]
  },
  {
   "cell_type": "markdown",
   "metadata": {},
   "source": [
    "- taking only top 50 columns in train data"
   ]
  },
  {
   "cell_type": "code",
   "execution_count": 61,
   "metadata": {},
   "outputs": [
    {
     "data": {
      "text/plain": [
       "(1021, 50)"
      ]
     },
     "execution_count": 61,
     "metadata": {},
     "output_type": "execute_result"
    }
   ],
   "source": [
    "X_train=X_train[col]\n",
    "X_train.shape"
   ]
  },
  {
   "cell_type": "markdown",
   "metadata": {},
   "source": [
    "- Taking top 50 features of test data"
   ]
  },
  {
   "cell_type": "code",
   "execution_count": 62,
   "metadata": {},
   "outputs": [],
   "source": [
    "X_test=X_test[col]"
   ]
  },
  {
   "cell_type": "code",
   "execution_count": 63,
   "metadata": {},
   "outputs": [
    {
     "data": {
      "text/plain": [
       "Index(['OverallQual', 'OverallCond', 'BsmtFinSF1', 'BsmtFinSF2', 'BsmtUnfSF',\n",
       "       'TotalBsmtSF', '1stFlrSF', '2ndFlrSF', 'GrLivArea', 'GarageCars', 'Age',\n",
       "       'MSZoning_FV', 'MSZoning_RH', 'MSZoning_RL', 'MSZoning_RM',\n",
       "       'LotShape_IR3', 'LandContour_HLS', 'LandContour_Low', 'LandContour_Lvl',\n",
       "       'LotConfig_CulDSac', 'Neighborhood_ClearCr', 'Neighborhood_Crawfor',\n",
       "       'Neighborhood_Edwards', 'Neighborhood_NoRidge', 'Neighborhood_NridgHt',\n",
       "       'Neighborhood_Somerst', 'Condition1_Norm', 'BldgType_Twnhs',\n",
       "       'HouseStyle_2Story', 'Exterior1st_CemntBd', 'Exterior1st_HdBoard',\n",
       "       'Exterior1st_MetalSd', 'Exterior1st_OthersExterior1st',\n",
       "       'Exterior1st_Plywood', 'Exterior1st_VinylSd', 'Exterior1st_Wd Sdng',\n",
       "       'Exterior2nd_OthersExterior2nd', 'Exterior2nd_Wd Shng',\n",
       "       'Foundation_PConc', 'BsmtFinType1_LwQ', 'BsmtFinType1_Unf',\n",
       "       'BsmtFinType2_BLQ', 'BsmtFinType2_NoBasementFinType2',\n",
       "       'GarageFinish_Unf', 'Fence_GdWo', 'SaleType_New',\n",
       "       'SaleType_OthersSaleType', 'SaleCondition_Normal',\n",
       "       'SaleCondition_OthersSaleCondition', 'SaleCondition_Partial'],\n",
       "      dtype='object')"
      ]
     },
     "execution_count": 63,
     "metadata": {},
     "output_type": "execute_result"
    }
   ],
   "source": [
    "# scaling the features - necessary before using Ridge or Lasso\n",
    "from sklearn.preprocessing import scale\n",
    "\n",
    "# storing column names in cols, since column names are (annoyingly) lost after \n",
    "# scaling (the df is converted to a numpy array)\n",
    "cols = X_train.columns\n",
    "X_train = pd.DataFrame(scale(X_train))\n",
    "X_train.columns = cols\n",
    "X_train.columns"
   ]
  },
  {
   "cell_type": "markdown",
   "metadata": {},
   "source": [
    "## Ridge and Lasso Regression\n",
    "\n",
    "Let's now try predicting SalePrice, a dataset used in simple linear regression, to perform ridge and lasso regression."
   ]
  },
  {
   "cell_type": "markdown",
   "metadata": {},
   "source": [
    "## Ridge Regression"
   ]
  },
  {
   "cell_type": "code",
   "execution_count": 64,
   "metadata": {},
   "outputs": [
    {
     "name": "stdout",
     "output_type": "stream",
     "text": [
      "Fitting 5 folds for each of 29 candidates, totalling 145 fits\n"
     ]
    },
    {
     "data": {
      "text/plain": [
       "GridSearchCV(cv=5, estimator=Ridge(),\n",
       "             param_grid={'alpha': [1e-05, 0.0001, 0.001, 0.01, 0.05, 0.1, 0.2,\n",
       "                                   0.3, 0.4, 0.5, 0.6, 0.7, 0.8, 0.9, 1.0, 2.0,\n",
       "                                   3.0, 4.0, 5.0, 6.0, 7.0, 8.0, 9.0, 10.0, 20,\n",
       "                                   50, 100, 500, 1000]},\n",
       "             return_train_score=True, scoring='neg_mean_absolute_error',\n",
       "             verbose=1)"
      ]
     },
     "execution_count": 64,
     "metadata": {},
     "output_type": "execute_result"
    }
   ],
   "source": [
    "# list of alphas to tune - if value too high it will lead to underfitting, if it is too low, \n",
    "# it will not handle the overfitting\n",
    "params = {'alpha': [0.00001,0.0001, 0.001, 0.01, 0.05, 0.1, \n",
    " 0.2, 0.3, 0.4, 0.5, 0.6, 0.7, 0.8, 0.9, 1.0, 2.0, 3.0, \n",
    " 4.0, 5.0, 6.0, 7.0, 8.0, 9.0, 10.0, 20, 50, 100, 500, 1000 ]}\n",
    "\n",
    "ridge = Ridge()\n",
    "\n",
    "# cross validation\n",
    "folds = 5\n",
    "model_cv = GridSearchCV(estimator = ridge, \n",
    "                        param_grid = params, \n",
    "                        scoring= 'neg_mean_absolute_error',  \n",
    "                        cv = folds, \n",
    "                        return_train_score=True,\n",
    "                        verbose = 1)            \n",
    "model_cv.fit(X_train, y_train) \n",
    "#https://scikit-learn.org/stable/modules/model_evaluation.html"
   ]
  },
  {
   "cell_type": "code",
   "execution_count": 65,
   "metadata": {},
   "outputs": [
    {
     "name": "stdout",
     "output_type": "stream",
     "text": [
      "{'alpha': 2.0}\n"
     ]
    }
   ],
   "source": [
    "# Printing the best hyperparameter alpha\n",
    "print(model_cv.best_params_)"
   ]
  },
  {
   "cell_type": "code",
   "execution_count": 66,
   "metadata": {},
   "outputs": [
    {
     "name": "stdout",
     "output_type": "stream",
     "text": [
      "[ 0.0979436   0.05201365  0.00921471  0.0104444  -0.00615694  0.00720422\n",
      "  0.0478604   0.04819682  0.0890163   0.05912039 -0.05222185  0.06645388\n",
      "  0.04306258  0.16120219  0.1076053  -0.00768257  0.02126211  0.02863373\n",
      "  0.02758085  0.01325264  0.01873862  0.02670137 -0.02134759  0.01724539\n",
      "  0.03229614  0.02960514  0.02533363 -0.02285997 -0.02205144 -0.02024118\n",
      " -0.05010128 -0.04160815 -0.0293935  -0.02629768 -0.04255498 -0.04528309\n",
      " -0.01540535 -0.00669046  0.01768    -0.01053983 -0.02618108 -0.00701367\n",
      " -0.02724721 -0.0214891  -0.00851105  0.01508508  0.0118722   0.02953349\n",
      "  0.00920237  0.01508508]\n"
     ]
    }
   ],
   "source": [
    "#Fitting Ridge model for alpha = 20 and printing coefficients which have been penalised\n",
    "alpha_ridge = (model_cv.best_params_)[\"alpha\"]\n",
    "ridge = Ridge(alpha=alpha_ridge)\n",
    "\n",
    "ridge.fit(X_train, y_train)\n",
    "print(ridge.coef_)"
   ]
  },
  {
   "cell_type": "code",
   "execution_count": 67,
   "metadata": {},
   "outputs": [
    {
     "name": "stdout",
     "output_type": "stream",
     "text": [
      "R2 Score Train :  0.89\n",
      "R2 Score Test :  0.69\n",
      "RSS of Train :  16.86\n",
      "RSS of Test :  22.4\n",
      "MSE of Train :  0.02\n",
      "MSE of Test :  0.05\n"
     ]
    }
   ],
   "source": [
    "from sklearn.metrics import r2_score, mean_squared_error\n",
    "# Lets calculate some metrics such as R2 score, RSS and RMSE\n",
    "y_pred_train = ridge.predict(X_train)\n",
    "y_pred_test = ridge.predict(X_test)\n",
    "\n",
    "metric2 = []\n",
    "r2_train = r2_score(y_train, y_pred_train)\n",
    "print(\"R2 Score Train : \",round(r2_train,2))\n",
    "metric2.append(r2_train)\n",
    "\n",
    "r2_test = r2_score(y_test, y_pred_test)\n",
    "print(\"R2 Score Test : \",round(r2_test,2))\n",
    "metric2.append(r2_test)\n",
    "\n",
    "rss1 = np.sum(np.square(y_train - y_pred_train))\n",
    "print(\"RSS of Train : \",round(rss1,2))\n",
    "metric2.append(rss1)\n",
    "\n",
    "rss2 = np.sum(np.square(y_test - y_pred_test))\n",
    "print(\"RSS of Test : \",round(rss2,2))\n",
    "metric2.append(rss2)\n",
    "\n",
    "mse_train = mean_squared_error(y_train, y_pred_train)\n",
    "print(\"MSE of Train : \",round(mse_train,2))\n",
    "metric2.append(mse_train**0.5)\n",
    "\n",
    "mse_test = mean_squared_error(y_test, y_pred_test)\n",
    "print(\"MSE of Test : \",round(mse_test,2))\n",
    "metric2.append(mse_test**0.5)"
   ]
  },
  {
   "cell_type": "markdown",
   "metadata": {},
   "source": [
    "## Lasso Regression"
   ]
  },
  {
   "cell_type": "markdown",
   "metadata": {},
   "source": [
    "- Hyperparameter tunning lasso model on alpha values used in  hyperparameter tunning ridge model to get best value of Alpha"
   ]
  },
  {
   "cell_type": "code",
   "execution_count": 68,
   "metadata": {},
   "outputs": [
    {
     "name": "stdout",
     "output_type": "stream",
     "text": [
      "Fitting 5 folds for each of 29 candidates, totalling 145 fits\n"
     ]
    },
    {
     "data": {
      "text/plain": [
       "GridSearchCV(cv=5, estimator=Lasso(),\n",
       "             param_grid={'alpha': [1e-05, 0.0001, 0.001, 0.01, 0.05, 0.1, 0.2,\n",
       "                                   0.3, 0.4, 0.5, 0.6, 0.7, 0.8, 0.9, 1.0, 2.0,\n",
       "                                   3.0, 4.0, 5.0, 6.0, 7.0, 8.0, 9.0, 10.0, 20,\n",
       "                                   50, 100, 500, 1000]},\n",
       "             return_train_score=True, scoring='neg_mean_absolute_error',\n",
       "             verbose=1)"
      ]
     },
     "execution_count": 68,
     "metadata": {},
     "output_type": "execute_result"
    }
   ],
   "source": [
    "lasso = Lasso()\n",
    "\n",
    "# cross validation\n",
    "model_cv = GridSearchCV(estimator = lasso, \n",
    "                        param_grid = params, \n",
    "                        scoring= 'neg_mean_absolute_error', \n",
    "                        cv = folds, \n",
    "                        return_train_score=True,\n",
    "                        verbose = 1)            \n",
    "\n",
    "model_cv.fit(X_train, y_train) "
   ]
  },
  {
   "cell_type": "code",
   "execution_count": 69,
   "metadata": {},
   "outputs": [
    {
     "name": "stdout",
     "output_type": "stream",
     "text": [
      "{'alpha': 0.0001}\n"
     ]
    }
   ],
   "source": [
    "# Printing the best hyperparameter alpha\n",
    "print(model_cv.best_params_)"
   ]
  },
  {
   "cell_type": "code",
   "execution_count": 70,
   "metadata": {},
   "outputs": [
    {
     "data": {
      "text/plain": [
       "Lasso(alpha=0.0001)"
      ]
     },
     "execution_count": 70,
     "metadata": {},
     "output_type": "execute_result"
    }
   ],
   "source": [
    "#Fitting Lasso model for alpha = 0.0001 and printing coefficients which have been penalised\n",
    "\n",
    "alpha_lasso = (model_cv.best_params_)[\"alpha\"]\n",
    "\n",
    "lasso = Lasso(alpha=alpha_lasso)\n",
    "        \n",
    "lasso.fit(X_train, y_train) "
   ]
  },
  {
   "cell_type": "markdown",
   "metadata": {},
   "source": [
    "- Looking at coefficient we get from lasso model"
   ]
  },
  {
   "cell_type": "code",
   "execution_count": 71,
   "metadata": {},
   "outputs": [
    {
     "data": {
      "text/plain": [
       "array([ 0.09822201,  0.05184447,  0.01552805,  0.01261485, -0.        ,\n",
       "        0.00035169,  0.04045332,  0.03937994,  0.09935118,  0.05928005,\n",
       "       -0.05221941,  0.07120779,  0.04534685,  0.17025922,  0.11543212,\n",
       "       -0.00758074,  0.02116406,  0.02868976,  0.02740501,  0.01320801,\n",
       "        0.01857282,  0.02657459, -0.02130353,  0.01718683,  0.03221935,\n",
       "        0.02929462,  0.02529433, -0.02286439, -0.02184837, -0.01954838,\n",
       "       -0.0490643 , -0.04042272, -0.02894673, -0.02552318, -0.04106577,\n",
       "       -0.04424958, -0.01495541, -0.00653005,  0.01740252, -0.01052944,\n",
       "       -0.02620433, -0.00695974, -0.02737328, -0.0215048 , -0.00833621,\n",
       "        0.0106671 ,  0.01183935,  0.02894639,  0.00899456,  0.01903213])"
      ]
     },
     "execution_count": 71,
     "metadata": {},
     "output_type": "execute_result"
    }
   ],
   "source": [
    "lasso.coef_"
   ]
  },
  {
   "cell_type": "code",
   "execution_count": 72,
   "metadata": {},
   "outputs": [
    {
     "name": "stdout",
     "output_type": "stream",
     "text": [
      "R2 Score Train :  0.89\n",
      "R2 Score Test :  0.67\n",
      "RSS of Train :  16.85\n",
      "RSS of Test :  23.69\n",
      "MSE of Train :  0.02\n",
      "MSE of Test :  0.05\n"
     ]
    }
   ],
   "source": [
    "# Lets calculate some metrics such as R2 score, RSS and RMSE\n",
    "\n",
    "y_pred_train = lasso.predict(X_train)\n",
    "y_pred_test = lasso.predict(X_test)\n",
    "\n",
    "metric3 = []\n",
    "r2_train = r2_score(y_train, y_pred_train)\n",
    "print(\"R2 Score Train : \",round(r2_train,2))\n",
    "metric3.append(r2_train)\n",
    "\n",
    "r2_test = r2_score(y_test, y_pred_test)\n",
    "print(\"R2 Score Test : \",round(r2_test,2))\n",
    "metric3.append(r2_test)\n",
    "\n",
    "rss1 = np.sum(np.square(y_train - y_pred_train))\n",
    "print(\"RSS of Train : \",round(rss1,2))\n",
    "metric3.append(rss1)\n",
    "\n",
    "rss2 = np.sum(np.square(y_test - y_pred_test))\n",
    "print(\"RSS of Test : \",round(rss2,2))\n",
    "metric3.append(rss2)\n",
    "\n",
    "mse_train = mean_squared_error(y_train, y_pred_train)\n",
    "print(\"MSE of Train : \",round(mse_train,2))\n",
    "metric3.append(mse_train**0.5)\n",
    "\n",
    "mse_test = mean_squared_error(y_test, y_pred_test)\n",
    "print(\"MSE of Test : \",round(mse_test,2))\n",
    "metric3.append(mse_test**0.5)"
   ]
  },
  {
   "cell_type": "code",
   "execution_count": 73,
   "metadata": {},
   "outputs": [
    {
     "data": {
      "text/html": [
       "<div>\n",
       "<style scoped>\n",
       "    .dataframe tbody tr th:only-of-type {\n",
       "        vertical-align: middle;\n",
       "    }\n",
       "\n",
       "    .dataframe tbody tr th {\n",
       "        vertical-align: top;\n",
       "    }\n",
       "\n",
       "    .dataframe thead th {\n",
       "        text-align: right;\n",
       "    }\n",
       "</style>\n",
       "<table border=\"1\" class=\"dataframe\">\n",
       "  <thead>\n",
       "    <tr style=\"text-align: right;\">\n",
       "      <th></th>\n",
       "      <th>Metric</th>\n",
       "      <th>Ridge Regression</th>\n",
       "      <th>Lasso Regression</th>\n",
       "    </tr>\n",
       "  </thead>\n",
       "  <tbody>\n",
       "    <tr>\n",
       "      <th>0</th>\n",
       "      <td>R2 Score (Train)</td>\n",
       "      <td>0.894927</td>\n",
       "      <td>0.894965</td>\n",
       "    </tr>\n",
       "    <tr>\n",
       "      <th>1</th>\n",
       "      <td>R2 Score (Test)</td>\n",
       "      <td>0.690404</td>\n",
       "      <td>0.672607</td>\n",
       "    </tr>\n",
       "    <tr>\n",
       "      <th>2</th>\n",
       "      <td>RSS (Train)</td>\n",
       "      <td>16.858315</td>\n",
       "      <td>16.852275</td>\n",
       "    </tr>\n",
       "    <tr>\n",
       "      <th>3</th>\n",
       "      <td>RSS (Test)</td>\n",
       "      <td>22.400382</td>\n",
       "      <td>23.688126</td>\n",
       "    </tr>\n",
       "    <tr>\n",
       "      <th>4</th>\n",
       "      <td>MSE (Train)</td>\n",
       "      <td>0.128497</td>\n",
       "      <td>0.128474</td>\n",
       "    </tr>\n",
       "    <tr>\n",
       "      <th>5</th>\n",
       "      <td>MSE (Test)</td>\n",
       "      <td>0.225889</td>\n",
       "      <td>0.232291</td>\n",
       "    </tr>\n",
       "  </tbody>\n",
       "</table>\n",
       "</div>"
      ],
      "text/plain": [
       "             Metric  Ridge Regression  Lasso Regression\n",
       "0  R2 Score (Train)          0.894927          0.894965\n",
       "1   R2 Score (Test)          0.690404          0.672607\n",
       "2       RSS (Train)         16.858315         16.852275\n",
       "3        RSS (Test)         22.400382         23.688126\n",
       "4       MSE (Train)          0.128497          0.128474\n",
       "5        MSE (Test)          0.225889          0.232291"
      ]
     },
     "execution_count": 73,
     "metadata": {},
     "output_type": "execute_result"
    }
   ],
   "source": [
    "# Creating a table which contain all the metrics\n",
    "\n",
    "score_table = {'Metric': ['R2 Score (Train)','R2 Score (Test)','RSS (Train)','RSS (Test)',\n",
    "                       'MSE (Train)','MSE (Test)']\n",
    "        }\n",
    "\n",
    "metric = pd.DataFrame(score_table ,columns = ['Metric'] )\n",
    "\n",
    "rg_metric = pd.Series(metric2, name = 'Ridge Regression')\n",
    "ls_metric = pd.Series(metric3, name = 'Lasso Regression')\n",
    "\n",
    "final_metric = pd.concat([ metric,rg_metric, ls_metric], axis = 1)\n",
    "\n",
    "final_metric"
   ]
  },
  {
   "cell_type": "markdown",
   "metadata": {},
   "source": [
    "## Lets observe the changes in the coefficients after regularization"
   ]
  },
  {
   "cell_type": "code",
   "execution_count": 74,
   "metadata": {},
   "outputs": [
    {
     "data": {
      "text/html": [
       "<div>\n",
       "<style scoped>\n",
       "    .dataframe tbody tr th:only-of-type {\n",
       "        vertical-align: middle;\n",
       "    }\n",
       "\n",
       "    .dataframe tbody tr th {\n",
       "        vertical-align: top;\n",
       "    }\n",
       "\n",
       "    .dataframe thead th {\n",
       "        text-align: right;\n",
       "    }\n",
       "</style>\n",
       "<table border=\"1\" class=\"dataframe\">\n",
       "  <thead>\n",
       "    <tr style=\"text-align: right;\">\n",
       "      <th></th>\n",
       "      <th>Ridge</th>\n",
       "      <th>Lasso</th>\n",
       "    </tr>\n",
       "  </thead>\n",
       "  <tbody>\n",
       "    <tr>\n",
       "      <th>OverallQual</th>\n",
       "      <td>0.097944</td>\n",
       "      <td>0.098222</td>\n",
       "    </tr>\n",
       "    <tr>\n",
       "      <th>OverallCond</th>\n",
       "      <td>0.052014</td>\n",
       "      <td>0.051844</td>\n",
       "    </tr>\n",
       "    <tr>\n",
       "      <th>BsmtFinSF1</th>\n",
       "      <td>0.009215</td>\n",
       "      <td>0.015528</td>\n",
       "    </tr>\n",
       "    <tr>\n",
       "      <th>BsmtFinSF2</th>\n",
       "      <td>0.010444</td>\n",
       "      <td>0.012615</td>\n",
       "    </tr>\n",
       "    <tr>\n",
       "      <th>BsmtUnfSF</th>\n",
       "      <td>-0.006157</td>\n",
       "      <td>-0.000000</td>\n",
       "    </tr>\n",
       "    <tr>\n",
       "      <th>TotalBsmtSF</th>\n",
       "      <td>0.007204</td>\n",
       "      <td>0.000352</td>\n",
       "    </tr>\n",
       "    <tr>\n",
       "      <th>1stFlrSF</th>\n",
       "      <td>0.047860</td>\n",
       "      <td>0.040453</td>\n",
       "    </tr>\n",
       "    <tr>\n",
       "      <th>2ndFlrSF</th>\n",
       "      <td>0.048197</td>\n",
       "      <td>0.039380</td>\n",
       "    </tr>\n",
       "    <tr>\n",
       "      <th>GrLivArea</th>\n",
       "      <td>0.089016</td>\n",
       "      <td>0.099351</td>\n",
       "    </tr>\n",
       "    <tr>\n",
       "      <th>GarageCars</th>\n",
       "      <td>0.059120</td>\n",
       "      <td>0.059280</td>\n",
       "    </tr>\n",
       "    <tr>\n",
       "      <th>Age</th>\n",
       "      <td>-0.052222</td>\n",
       "      <td>-0.052219</td>\n",
       "    </tr>\n",
       "    <tr>\n",
       "      <th>MSZoning_FV</th>\n",
       "      <td>0.066454</td>\n",
       "      <td>0.071208</td>\n",
       "    </tr>\n",
       "    <tr>\n",
       "      <th>MSZoning_RH</th>\n",
       "      <td>0.043063</td>\n",
       "      <td>0.045347</td>\n",
       "    </tr>\n",
       "    <tr>\n",
       "      <th>MSZoning_RL</th>\n",
       "      <td>0.161202</td>\n",
       "      <td>0.170259</td>\n",
       "    </tr>\n",
       "    <tr>\n",
       "      <th>MSZoning_RM</th>\n",
       "      <td>0.107605</td>\n",
       "      <td>0.115432</td>\n",
       "    </tr>\n",
       "    <tr>\n",
       "      <th>LotShape_IR3</th>\n",
       "      <td>-0.007683</td>\n",
       "      <td>-0.007581</td>\n",
       "    </tr>\n",
       "    <tr>\n",
       "      <th>LandContour_HLS</th>\n",
       "      <td>0.021262</td>\n",
       "      <td>0.021164</td>\n",
       "    </tr>\n",
       "    <tr>\n",
       "      <th>LandContour_Low</th>\n",
       "      <td>0.028634</td>\n",
       "      <td>0.028690</td>\n",
       "    </tr>\n",
       "    <tr>\n",
       "      <th>LandContour_Lvl</th>\n",
       "      <td>0.027581</td>\n",
       "      <td>0.027405</td>\n",
       "    </tr>\n",
       "    <tr>\n",
       "      <th>LotConfig_CulDSac</th>\n",
       "      <td>0.013253</td>\n",
       "      <td>0.013208</td>\n",
       "    </tr>\n",
       "    <tr>\n",
       "      <th>Neighborhood_ClearCr</th>\n",
       "      <td>0.018739</td>\n",
       "      <td>0.018573</td>\n",
       "    </tr>\n",
       "    <tr>\n",
       "      <th>Neighborhood_Crawfor</th>\n",
       "      <td>0.026701</td>\n",
       "      <td>0.026575</td>\n",
       "    </tr>\n",
       "    <tr>\n",
       "      <th>Neighborhood_Edwards</th>\n",
       "      <td>-0.021348</td>\n",
       "      <td>-0.021304</td>\n",
       "    </tr>\n",
       "    <tr>\n",
       "      <th>Neighborhood_NoRidge</th>\n",
       "      <td>0.017245</td>\n",
       "      <td>0.017187</td>\n",
       "    </tr>\n",
       "    <tr>\n",
       "      <th>Neighborhood_NridgHt</th>\n",
       "      <td>0.032296</td>\n",
       "      <td>0.032219</td>\n",
       "    </tr>\n",
       "    <tr>\n",
       "      <th>Neighborhood_Somerst</th>\n",
       "      <td>0.029605</td>\n",
       "      <td>0.029295</td>\n",
       "    </tr>\n",
       "    <tr>\n",
       "      <th>Condition1_Norm</th>\n",
       "      <td>0.025334</td>\n",
       "      <td>0.025294</td>\n",
       "    </tr>\n",
       "    <tr>\n",
       "      <th>BldgType_Twnhs</th>\n",
       "      <td>-0.022860</td>\n",
       "      <td>-0.022864</td>\n",
       "    </tr>\n",
       "    <tr>\n",
       "      <th>HouseStyle_2Story</th>\n",
       "      <td>-0.022051</td>\n",
       "      <td>-0.021848</td>\n",
       "    </tr>\n",
       "    <tr>\n",
       "      <th>Exterior1st_CemntBd</th>\n",
       "      <td>-0.020241</td>\n",
       "      <td>-0.019548</td>\n",
       "    </tr>\n",
       "    <tr>\n",
       "      <th>Exterior1st_HdBoard</th>\n",
       "      <td>-0.050101</td>\n",
       "      <td>-0.049064</td>\n",
       "    </tr>\n",
       "    <tr>\n",
       "      <th>Exterior1st_MetalSd</th>\n",
       "      <td>-0.041608</td>\n",
       "      <td>-0.040423</td>\n",
       "    </tr>\n",
       "    <tr>\n",
       "      <th>Exterior1st_OthersExterior1st</th>\n",
       "      <td>-0.029394</td>\n",
       "      <td>-0.028947</td>\n",
       "    </tr>\n",
       "    <tr>\n",
       "      <th>Exterior1st_Plywood</th>\n",
       "      <td>-0.026298</td>\n",
       "      <td>-0.025523</td>\n",
       "    </tr>\n",
       "    <tr>\n",
       "      <th>Exterior1st_VinylSd</th>\n",
       "      <td>-0.042555</td>\n",
       "      <td>-0.041066</td>\n",
       "    </tr>\n",
       "    <tr>\n",
       "      <th>Exterior1st_Wd Sdng</th>\n",
       "      <td>-0.045283</td>\n",
       "      <td>-0.044250</td>\n",
       "    </tr>\n",
       "    <tr>\n",
       "      <th>Exterior2nd_OthersExterior2nd</th>\n",
       "      <td>-0.015405</td>\n",
       "      <td>-0.014955</td>\n",
       "    </tr>\n",
       "    <tr>\n",
       "      <th>Exterior2nd_Wd Shng</th>\n",
       "      <td>-0.006690</td>\n",
       "      <td>-0.006530</td>\n",
       "    </tr>\n",
       "    <tr>\n",
       "      <th>Foundation_PConc</th>\n",
       "      <td>0.017680</td>\n",
       "      <td>0.017403</td>\n",
       "    </tr>\n",
       "    <tr>\n",
       "      <th>BsmtFinType1_LwQ</th>\n",
       "      <td>-0.010540</td>\n",
       "      <td>-0.010529</td>\n",
       "    </tr>\n",
       "    <tr>\n",
       "      <th>BsmtFinType1_Unf</th>\n",
       "      <td>-0.026181</td>\n",
       "      <td>-0.026204</td>\n",
       "    </tr>\n",
       "    <tr>\n",
       "      <th>BsmtFinType2_BLQ</th>\n",
       "      <td>-0.007014</td>\n",
       "      <td>-0.006960</td>\n",
       "    </tr>\n",
       "    <tr>\n",
       "      <th>BsmtFinType2_NoBasementFinType2</th>\n",
       "      <td>-0.027247</td>\n",
       "      <td>-0.027373</td>\n",
       "    </tr>\n",
       "    <tr>\n",
       "      <th>GarageFinish_Unf</th>\n",
       "      <td>-0.021489</td>\n",
       "      <td>-0.021505</td>\n",
       "    </tr>\n",
       "    <tr>\n",
       "      <th>Fence_GdWo</th>\n",
       "      <td>-0.008511</td>\n",
       "      <td>-0.008336</td>\n",
       "    </tr>\n",
       "    <tr>\n",
       "      <th>SaleType_New</th>\n",
       "      <td>0.015085</td>\n",
       "      <td>0.010667</td>\n",
       "    </tr>\n",
       "    <tr>\n",
       "      <th>SaleType_OthersSaleType</th>\n",
       "      <td>0.011872</td>\n",
       "      <td>0.011839</td>\n",
       "    </tr>\n",
       "    <tr>\n",
       "      <th>SaleCondition_Normal</th>\n",
       "      <td>0.029533</td>\n",
       "      <td>0.028946</td>\n",
       "    </tr>\n",
       "    <tr>\n",
       "      <th>SaleCondition_OthersSaleCondition</th>\n",
       "      <td>0.009202</td>\n",
       "      <td>0.008995</td>\n",
       "    </tr>\n",
       "    <tr>\n",
       "      <th>SaleCondition_Partial</th>\n",
       "      <td>0.015085</td>\n",
       "      <td>0.019032</td>\n",
       "    </tr>\n",
       "  </tbody>\n",
       "</table>\n",
       "</div>"
      ],
      "text/plain": [
       "                                      Ridge     Lasso\n",
       "OverallQual                        0.097944  0.098222\n",
       "OverallCond                        0.052014  0.051844\n",
       "BsmtFinSF1                         0.009215  0.015528\n",
       "BsmtFinSF2                         0.010444  0.012615\n",
       "BsmtUnfSF                         -0.006157 -0.000000\n",
       "TotalBsmtSF                        0.007204  0.000352\n",
       "1stFlrSF                           0.047860  0.040453\n",
       "2ndFlrSF                           0.048197  0.039380\n",
       "GrLivArea                          0.089016  0.099351\n",
       "GarageCars                         0.059120  0.059280\n",
       "Age                               -0.052222 -0.052219\n",
       "MSZoning_FV                        0.066454  0.071208\n",
       "MSZoning_RH                        0.043063  0.045347\n",
       "MSZoning_RL                        0.161202  0.170259\n",
       "MSZoning_RM                        0.107605  0.115432\n",
       "LotShape_IR3                      -0.007683 -0.007581\n",
       "LandContour_HLS                    0.021262  0.021164\n",
       "LandContour_Low                    0.028634  0.028690\n",
       "LandContour_Lvl                    0.027581  0.027405\n",
       "LotConfig_CulDSac                  0.013253  0.013208\n",
       "Neighborhood_ClearCr               0.018739  0.018573\n",
       "Neighborhood_Crawfor               0.026701  0.026575\n",
       "Neighborhood_Edwards              -0.021348 -0.021304\n",
       "Neighborhood_NoRidge               0.017245  0.017187\n",
       "Neighborhood_NridgHt               0.032296  0.032219\n",
       "Neighborhood_Somerst               0.029605  0.029295\n",
       "Condition1_Norm                    0.025334  0.025294\n",
       "BldgType_Twnhs                    -0.022860 -0.022864\n",
       "HouseStyle_2Story                 -0.022051 -0.021848\n",
       "Exterior1st_CemntBd               -0.020241 -0.019548\n",
       "Exterior1st_HdBoard               -0.050101 -0.049064\n",
       "Exterior1st_MetalSd               -0.041608 -0.040423\n",
       "Exterior1st_OthersExterior1st     -0.029394 -0.028947\n",
       "Exterior1st_Plywood               -0.026298 -0.025523\n",
       "Exterior1st_VinylSd               -0.042555 -0.041066\n",
       "Exterior1st_Wd Sdng               -0.045283 -0.044250\n",
       "Exterior2nd_OthersExterior2nd     -0.015405 -0.014955\n",
       "Exterior2nd_Wd Shng               -0.006690 -0.006530\n",
       "Foundation_PConc                   0.017680  0.017403\n",
       "BsmtFinType1_LwQ                  -0.010540 -0.010529\n",
       "BsmtFinType1_Unf                  -0.026181 -0.026204\n",
       "BsmtFinType2_BLQ                  -0.007014 -0.006960\n",
       "BsmtFinType2_NoBasementFinType2   -0.027247 -0.027373\n",
       "GarageFinish_Unf                  -0.021489 -0.021505\n",
       "Fence_GdWo                        -0.008511 -0.008336\n",
       "SaleType_New                       0.015085  0.010667\n",
       "SaleType_OthersSaleType            0.011872  0.011839\n",
       "SaleCondition_Normal               0.029533  0.028946\n",
       "SaleCondition_OthersSaleCondition  0.009202  0.008995\n",
       "SaleCondition_Partial              0.015085  0.019032"
      ]
     },
     "execution_count": 74,
     "metadata": {},
     "output_type": "execute_result"
    }
   ],
   "source": [
    "betas = pd.DataFrame(index=X_train.columns)\n",
    "betas.rows = X_train.columns\n",
    "\n",
    "betas['Ridge'] = ridge.coef_\n",
    "betas['Lasso'] = lasso.coef_\n",
    "\n",
    "betas.head(50)"
   ]
  },
  {
   "cell_type": "markdown",
   "metadata": {},
   "source": [
    "- Getting top 5 features based on lasso model"
   ]
  },
  {
   "cell_type": "code",
   "execution_count": 75,
   "metadata": {},
   "outputs": [
    {
     "data": {
      "text/html": [
       "<div>\n",
       "<style scoped>\n",
       "    .dataframe tbody tr th:only-of-type {\n",
       "        vertical-align: middle;\n",
       "    }\n",
       "\n",
       "    .dataframe tbody tr th {\n",
       "        vertical-align: top;\n",
       "    }\n",
       "\n",
       "    .dataframe thead th {\n",
       "        text-align: right;\n",
       "    }\n",
       "</style>\n",
       "<table border=\"1\" class=\"dataframe\">\n",
       "  <thead>\n",
       "    <tr style=\"text-align: right;\">\n",
       "      <th></th>\n",
       "      <th>Ridge</th>\n",
       "      <th>Lasso</th>\n",
       "    </tr>\n",
       "  </thead>\n",
       "  <tbody>\n",
       "    <tr>\n",
       "      <th>MSZoning_RL</th>\n",
       "      <td>0.161202</td>\n",
       "      <td>0.170259</td>\n",
       "    </tr>\n",
       "    <tr>\n",
       "      <th>MSZoning_RM</th>\n",
       "      <td>0.107605</td>\n",
       "      <td>0.115432</td>\n",
       "    </tr>\n",
       "    <tr>\n",
       "      <th>GrLivArea</th>\n",
       "      <td>0.089016</td>\n",
       "      <td>0.099351</td>\n",
       "    </tr>\n",
       "    <tr>\n",
       "      <th>OverallQual</th>\n",
       "      <td>0.097944</td>\n",
       "      <td>0.098222</td>\n",
       "    </tr>\n",
       "    <tr>\n",
       "      <th>MSZoning_FV</th>\n",
       "      <td>0.066454</td>\n",
       "      <td>0.071208</td>\n",
       "    </tr>\n",
       "  </tbody>\n",
       "</table>\n",
       "</div>"
      ],
      "text/plain": [
       "                Ridge     Lasso\n",
       "MSZoning_RL  0.161202  0.170259\n",
       "MSZoning_RM  0.107605  0.115432\n",
       "GrLivArea    0.089016  0.099351\n",
       "OverallQual  0.097944  0.098222\n",
       "MSZoning_FV  0.066454  0.071208"
      ]
     },
     "execution_count": 75,
     "metadata": {},
     "output_type": "execute_result"
    }
   ],
   "source": [
    "betas.sort_values(ascending=False,by=['Lasso']).head(5)"
   ]
  },
  {
   "cell_type": "markdown",
   "metadata": {},
   "source": [
    "- Getting top 5 features based on ridge model"
   ]
  },
  {
   "cell_type": "code",
   "execution_count": 76,
   "metadata": {},
   "outputs": [
    {
     "data": {
      "text/html": [
       "<div>\n",
       "<style scoped>\n",
       "    .dataframe tbody tr th:only-of-type {\n",
       "        vertical-align: middle;\n",
       "    }\n",
       "\n",
       "    .dataframe tbody tr th {\n",
       "        vertical-align: top;\n",
       "    }\n",
       "\n",
       "    .dataframe thead th {\n",
       "        text-align: right;\n",
       "    }\n",
       "</style>\n",
       "<table border=\"1\" class=\"dataframe\">\n",
       "  <thead>\n",
       "    <tr style=\"text-align: right;\">\n",
       "      <th></th>\n",
       "      <th>Ridge</th>\n",
       "      <th>Lasso</th>\n",
       "    </tr>\n",
       "  </thead>\n",
       "  <tbody>\n",
       "    <tr>\n",
       "      <th>MSZoning_RL</th>\n",
       "      <td>0.161202</td>\n",
       "      <td>0.170259</td>\n",
       "    </tr>\n",
       "    <tr>\n",
       "      <th>MSZoning_RM</th>\n",
       "      <td>0.107605</td>\n",
       "      <td>0.115432</td>\n",
       "    </tr>\n",
       "    <tr>\n",
       "      <th>OverallQual</th>\n",
       "      <td>0.097944</td>\n",
       "      <td>0.098222</td>\n",
       "    </tr>\n",
       "    <tr>\n",
       "      <th>GrLivArea</th>\n",
       "      <td>0.089016</td>\n",
       "      <td>0.099351</td>\n",
       "    </tr>\n",
       "    <tr>\n",
       "      <th>MSZoning_FV</th>\n",
       "      <td>0.066454</td>\n",
       "      <td>0.071208</td>\n",
       "    </tr>\n",
       "  </tbody>\n",
       "</table>\n",
       "</div>"
      ],
      "text/plain": [
       "                Ridge     Lasso\n",
       "MSZoning_RL  0.161202  0.170259\n",
       "MSZoning_RM  0.107605  0.115432\n",
       "OverallQual  0.097944  0.098222\n",
       "GrLivArea    0.089016  0.099351\n",
       "MSZoning_FV  0.066454  0.071208"
      ]
     },
     "execution_count": 76,
     "metadata": {},
     "output_type": "execute_result"
    }
   ],
   "source": [
    "betas.sort_values(ascending=False,by=['Ridge']).head(5)"
   ]
  },
  {
   "cell_type": "markdown",
   "metadata": {},
   "source": [
    "# Summary"
   ]
  },
  {
   "cell_type": "markdown",
   "metadata": {},
   "source": [
    "### Evaluation of Ridge model\n",
    "- R2 Score Train :  0.895\n",
    "- R2 Score Test :  0.69\n",
    "- RSS of Train :  16.85\n",
    "- RSS of Test :  24.09\n",
    "- MSE of Train :  0.13\n",
    "- MSE of Test :  0.23\n",
    "\n",
    "\n",
    "### Evaluation of Lasso model\n",
    "- R2 Score Train :  0.894\n",
    "- R2 Score Test :  0.67\n",
    "- RSS of Train :  16.85\n",
    "- RSS of Test :  23.69\n",
    "- MSE of Train :  0.13\n",
    "- MSE of Test :  0.23\n"
   ]
  },
  {
   "cell_type": "markdown",
   "metadata": {},
   "source": [
    "### Based on above evaluation Ridge model is little better than Lasso model.\n",
    "- for further use will be using Ridge model for evaluation."
   ]
  },
  {
   "cell_type": "markdown",
   "metadata": {},
   "source": [
    "- Arranging variables in descending order on the basis of Ridge coefficient"
   ]
  },
  {
   "cell_type": "code",
   "execution_count": 99,
   "metadata": {},
   "outputs": [],
   "source": [
    "features=betas.Ridge.sort_values(ascending = False)"
   ]
  },
  {
   "cell_type": "markdown",
   "metadata": {},
   "source": [
    "- Removing varaibles with 0 coefficient and looking at the shape of Important features i.e. used in Ridge model."
   ]
  },
  {
   "cell_type": "code",
   "execution_count": 100,
   "metadata": {},
   "outputs": [
    {
     "data": {
      "text/plain": [
       "(50, 4)"
      ]
     },
     "execution_count": 100,
     "metadata": {},
     "output_type": "execute_result"
    }
   ],
   "source": [
    "Impfeature=betas[(betas.Ridge!=0)]\n",
    "Impfeature.shape"
   ]
  },
  {
   "cell_type": "markdown",
   "metadata": {},
   "source": [
    "## Significant variables which play role in predicting the price of a house"
   ]
  },
  {
   "cell_type": "code",
   "execution_count": 101,
   "metadata": {},
   "outputs": [
    {
     "data": {
      "text/plain": [
       "OverallQual                          0.097944\n",
       "OverallCond                          0.052014\n",
       "BsmtFinSF1                           0.009215\n",
       "BsmtFinSF2                           0.010444\n",
       "BsmtUnfSF                           -0.006157\n",
       "TotalBsmtSF                          0.007204\n",
       "1stFlrSF                             0.047860\n",
       "2ndFlrSF                             0.048197\n",
       "GrLivArea                            0.089016\n",
       "GarageCars                           0.059120\n",
       "Age                                 -0.052222\n",
       "MSZoning_FV                          0.066454\n",
       "MSZoning_RH                          0.043063\n",
       "MSZoning_RL                          0.161202\n",
       "MSZoning_RM                          0.107605\n",
       "LotShape_IR3                        -0.007683\n",
       "LandContour_HLS                      0.021262\n",
       "LandContour_Low                      0.028634\n",
       "LandContour_Lvl                      0.027581\n",
       "LotConfig_CulDSac                    0.013253\n",
       "Neighborhood_ClearCr                 0.018739\n",
       "Neighborhood_Crawfor                 0.026701\n",
       "Neighborhood_Edwards                -0.021348\n",
       "Neighborhood_NoRidge                 0.017245\n",
       "Neighborhood_NridgHt                 0.032296\n",
       "Neighborhood_Somerst                 0.029605\n",
       "Condition1_Norm                      0.025334\n",
       "BldgType_Twnhs                      -0.022860\n",
       "HouseStyle_2Story                   -0.022051\n",
       "Exterior1st_CemntBd                 -0.020241\n",
       "Exterior1st_HdBoard                 -0.050101\n",
       "Exterior1st_MetalSd                 -0.041608\n",
       "Exterior1st_OthersExterior1st       -0.029394\n",
       "Exterior1st_Plywood                 -0.026298\n",
       "Exterior1st_VinylSd                 -0.042555\n",
       "Exterior1st_Wd Sdng                 -0.045283\n",
       "Exterior2nd_OthersExterior2nd       -0.015405\n",
       "Exterior2nd_Wd Shng                 -0.006690\n",
       "Foundation_PConc                     0.017680\n",
       "BsmtFinType1_LwQ                    -0.010540\n",
       "BsmtFinType1_Unf                    -0.026181\n",
       "BsmtFinType2_BLQ                    -0.007014\n",
       "BsmtFinType2_NoBasementFinType2     -0.027247\n",
       "GarageFinish_Unf                    -0.021489\n",
       "Fence_GdWo                          -0.008511\n",
       "SaleType_New                         0.015085\n",
       "SaleType_OthersSaleType              0.011872\n",
       "SaleCondition_Normal                 0.029533\n",
       "SaleCondition_OthersSaleCondition    0.009202\n",
       "SaleCondition_Partial                0.015085\n",
       "Name: Ridge, dtype: float64"
      ]
     },
     "execution_count": 101,
     "metadata": {},
     "output_type": "execute_result"
    }
   ],
   "source": [
    "Impfeature.Ridge"
   ]
  },
  {
   "cell_type": "markdown",
   "metadata": {},
   "source": [
    "## variables describe the price of a house 69% correctly  (Check)"
   ]
  },
  {
   "cell_type": "markdown",
   "metadata": {},
   "source": [
    "## Alpha values\n",
    "- Ridge Model : 2\n",
    "- Lasso Model : 0.0001"
   ]
  },
  {
   "cell_type": "markdown",
   "metadata": {},
   "source": [
    "## Subjective Questions:"
   ]
  },
  {
   "cell_type": "markdown",
   "metadata": {},
   "source": [
    "- Question 1\n",
    "- Doubling values of alpha"
   ]
  },
  {
   "cell_type": "code",
   "execution_count": 80,
   "metadata": {},
   "outputs": [
    {
     "name": "stdout",
     "output_type": "stream",
     "text": [
      "[ 0.0979436   0.05201365  0.00921471  0.0104444  -0.00615694  0.00720422\n",
      "  0.0478604   0.04819682  0.0890163   0.05912039 -0.05222185  0.06645388\n",
      "  0.04306258  0.16120219  0.1076053  -0.00768257  0.02126211  0.02863373\n",
      "  0.02758085  0.01325264  0.01873862  0.02670137 -0.02134759  0.01724539\n",
      "  0.03229614  0.02960514  0.02533363 -0.02285997 -0.02205144 -0.02024118\n",
      " -0.05010128 -0.04160815 -0.0293935  -0.02629768 -0.04255498 -0.04528309\n",
      " -0.01540535 -0.00669046  0.01768    -0.01053983 -0.02618108 -0.00701367\n",
      " -0.02724721 -0.0214891  -0.00851105  0.01508508  0.0118722   0.02953349\n",
      "  0.00920237  0.01508508]\n"
     ]
    }
   ],
   "source": [
    "#Fitting Ridge model for alpha = 200 and printing coefficients which have been penalised\n",
    "alpha = alpha_ridge\n",
    "ridge = Ridge(alpha=alpha)\n",
    "\n",
    "ridge.fit(X_train, y_train)\n",
    "print(ridge.coef_)"
   ]
  },
  {
   "cell_type": "markdown",
   "metadata": {},
   "source": [
    "- Calculating evaluation parameter of a model like R2 score, RSS and MSE on both training and test"
   ]
  },
  {
   "cell_type": "code",
   "execution_count": 81,
   "metadata": {},
   "outputs": [
    {
     "name": "stdout",
     "output_type": "stream",
     "text": [
      "R2 Score Train :  0.89\n",
      "R2 Score Test :  0.69\n",
      "RSS of Train :  16.86\n",
      "RSS of Test :  22.4\n",
      "MSE of Train :  0.02\n",
      "MSE of Test :  0.05\n"
     ]
    }
   ],
   "source": [
    "y_pred_train = ridge.predict(X_train)\n",
    "y_pred_test = ridge.predict(X_test)\n",
    "\n",
    "metric5 = []\n",
    "r2_train = r2_score(y_train, y_pred_train)\n",
    "print(\"R2 Score Train : \",round(r2_train,2))\n",
    "metric5.append(r2_train)\n",
    "\n",
    "r2_test = r2_score(y_test, y_pred_test)\n",
    "print(\"R2 Score Test : \",round(r2_test,2))\n",
    "metric5.append(r2_test)\n",
    "\n",
    "rss1 = np.sum(np.square(y_train - y_pred_train))\n",
    "print(\"RSS of Train : \",round(rss1,2))\n",
    "metric5.append(rss1)\n",
    "\n",
    "rss2 = np.sum(np.square(y_test - y_pred_test))\n",
    "print(\"RSS of Test : \",round(rss2,2))\n",
    "metric5.append(rss2)\n",
    "\n",
    "mse_train = mean_squared_error(y_train, y_pred_train)\n",
    "print(\"MSE of Train : \",round(mse_train,2))\n",
    "metric5.append(mse_train**0.5)\n",
    "\n",
    "mse_test = mean_squared_error(y_test, y_pred_test)\n",
    "print(\"MSE of Test : \",round(mse_test,2))\n",
    "metric5.append(mse_test**0.5)"
   ]
  },
  {
   "cell_type": "code",
   "execution_count": 82,
   "metadata": {},
   "outputs": [
    {
     "name": "stdout",
     "output_type": "stream",
     "text": [
      "[ 0.09822201  0.05184447  0.01552805  0.01261485 -0.          0.00035169\n",
      "  0.04045332  0.03937994  0.09935118  0.05928005 -0.05221941  0.07120779\n",
      "  0.04534685  0.17025922  0.11543212 -0.00758074  0.02116406  0.02868976\n",
      "  0.02740501  0.01320801  0.01857282  0.02657459 -0.02130353  0.01718683\n",
      "  0.03221935  0.02929462  0.02529433 -0.02286439 -0.02184837 -0.01954838\n",
      " -0.0490643  -0.04042272 -0.02894673 -0.02552318 -0.04106577 -0.04424958\n",
      " -0.01495541 -0.00653005  0.01740252 -0.01052944 -0.02620433 -0.00695974\n",
      " -0.02737328 -0.0215048  -0.00833621  0.0106671   0.01183935  0.02894639\n",
      "  0.00899456  0.01903213]\n"
     ]
    }
   ],
   "source": [
    "#Fitting Lasso model for alpha = 0.002 and printing coefficients which have been penalised\n",
    "alpha = alpha_lasso\n",
    "\n",
    "lasso = Lasso(alpha=alpha)\n",
    "        \n",
    "lasso.fit(X_train, y_train) \n",
    "print(lasso.coef_)"
   ]
  },
  {
   "cell_type": "markdown",
   "metadata": {},
   "source": [
    "- Calculating evaluation parameter of a model like R2 score, RSS and MSE on both training and test"
   ]
  },
  {
   "cell_type": "code",
   "execution_count": 83,
   "metadata": {},
   "outputs": [
    {
     "name": "stdout",
     "output_type": "stream",
     "text": [
      "R2 Score Train :  0.89\n",
      "R2 Score Test :  0.67\n",
      "RSS of Train :  16.85\n",
      "RSS of Test :  23.69\n",
      "MSE of Train :  0.02\n",
      "MSE of Test :  0.05\n"
     ]
    }
   ],
   "source": [
    "y_pred_train = lasso.predict(X_train)\n",
    "y_pred_test = lasso.predict(X_test)\n",
    "\n",
    "metric6 = []\n",
    "r2_train = r2_score(y_train, y_pred_train)\n",
    "print(\"R2 Score Train : \",round(r2_train,2))\n",
    "metric6.append(r2_train)\n",
    "\n",
    "r2_test = r2_score(y_test, y_pred_test)\n",
    "print(\"R2 Score Test : \",round(r2_test,2))\n",
    "metric6.append(r2_test)\n",
    "\n",
    "rss1 = np.sum(np.square(y_train - y_pred_train))\n",
    "print(\"RSS of Train : \",round(rss1,2))\n",
    "metric6.append(rss1)\n",
    "\n",
    "rss2 = np.sum(np.square(y_test - y_pred_test))\n",
    "print(\"RSS of Test : \",round(rss2,2))\n",
    "metric6.append(rss2)\n",
    "\n",
    "mse_train = mean_squared_error(y_train, y_pred_train)\n",
    "print(\"MSE of Train : \",round(mse_train,2))\n",
    "metric6.append(mse_train**0.5)\n",
    "\n",
    "mse_test = mean_squared_error(y_test, y_pred_test)\n",
    "print(\"MSE of Test : \",round(mse_test,2))\n",
    "metric6.append(mse_test**0.5)"
   ]
  },
  {
   "cell_type": "code",
   "execution_count": 84,
   "metadata": {},
   "outputs": [],
   "source": [
    "ridge_metric1 = pd.Series(metric5, name = 'Ridge Regression 2*Alpha')\n",
    "lasso_metric1 = pd.Series(metric6, name = 'Lasso Regression 2*Alpha')"
   ]
  },
  {
   "cell_type": "markdown",
   "metadata": {},
   "source": [
    "- Conactinating old score metric with new one."
   ]
  },
  {
   "cell_type": "code",
   "execution_count": 85,
   "metadata": {},
   "outputs": [
    {
     "data": {
      "text/html": [
       "<div>\n",
       "<style scoped>\n",
       "    .dataframe tbody tr th:only-of-type {\n",
       "        vertical-align: middle;\n",
       "    }\n",
       "\n",
       "    .dataframe tbody tr th {\n",
       "        vertical-align: top;\n",
       "    }\n",
       "\n",
       "    .dataframe thead th {\n",
       "        text-align: right;\n",
       "    }\n",
       "</style>\n",
       "<table border=\"1\" class=\"dataframe\">\n",
       "  <thead>\n",
       "    <tr style=\"text-align: right;\">\n",
       "      <th></th>\n",
       "      <th>Metric</th>\n",
       "      <th>Ridge Regression</th>\n",
       "      <th>Lasso Regression</th>\n",
       "      <th>Ridge Regression 2*Alpha</th>\n",
       "      <th>Lasso Regression 2*Alpha</th>\n",
       "    </tr>\n",
       "  </thead>\n",
       "  <tbody>\n",
       "    <tr>\n",
       "      <th>0</th>\n",
       "      <td>R2 Score (Train)</td>\n",
       "      <td>0.894927</td>\n",
       "      <td>0.894965</td>\n",
       "      <td>0.894927</td>\n",
       "      <td>0.894965</td>\n",
       "    </tr>\n",
       "    <tr>\n",
       "      <th>1</th>\n",
       "      <td>R2 Score (Test)</td>\n",
       "      <td>0.690404</td>\n",
       "      <td>0.672607</td>\n",
       "      <td>0.690404</td>\n",
       "      <td>0.672607</td>\n",
       "    </tr>\n",
       "    <tr>\n",
       "      <th>2</th>\n",
       "      <td>RSS (Train)</td>\n",
       "      <td>16.858315</td>\n",
       "      <td>16.852275</td>\n",
       "      <td>16.858315</td>\n",
       "      <td>16.852275</td>\n",
       "    </tr>\n",
       "    <tr>\n",
       "      <th>3</th>\n",
       "      <td>RSS (Test)</td>\n",
       "      <td>22.400382</td>\n",
       "      <td>23.688126</td>\n",
       "      <td>22.400382</td>\n",
       "      <td>23.688126</td>\n",
       "    </tr>\n",
       "    <tr>\n",
       "      <th>4</th>\n",
       "      <td>MSE (Train)</td>\n",
       "      <td>0.128497</td>\n",
       "      <td>0.128474</td>\n",
       "      <td>0.128497</td>\n",
       "      <td>0.128474</td>\n",
       "    </tr>\n",
       "    <tr>\n",
       "      <th>5</th>\n",
       "      <td>MSE (Test)</td>\n",
       "      <td>0.225889</td>\n",
       "      <td>0.232291</td>\n",
       "      <td>0.225889</td>\n",
       "      <td>0.232291</td>\n",
       "    </tr>\n",
       "  </tbody>\n",
       "</table>\n",
       "</div>"
      ],
      "text/plain": [
       "             Metric  Ridge Regression  Lasso Regression  \\\n",
       "0  R2 Score (Train)          0.894927          0.894965   \n",
       "1   R2 Score (Test)          0.690404          0.672607   \n",
       "2       RSS (Train)         16.858315         16.852275   \n",
       "3        RSS (Test)         22.400382         23.688126   \n",
       "4       MSE (Train)          0.128497          0.128474   \n",
       "5        MSE (Test)          0.225889          0.232291   \n",
       "\n",
       "   Ridge Regression 2*Alpha  Lasso Regression 2*Alpha  \n",
       "0                  0.894927                  0.894965  \n",
       "1                  0.690404                  0.672607  \n",
       "2                 16.858315                 16.852275  \n",
       "3                 22.400382                 23.688126  \n",
       "4                  0.128497                  0.128474  \n",
       "5                  0.225889                  0.232291  "
      ]
     },
     "execution_count": 85,
     "metadata": {},
     "output_type": "execute_result"
    }
   ],
   "source": [
    "final_metric = pd.concat([ final_metric,ridge_metric1, lasso_metric1], axis = 1)\n",
    "final_metric"
   ]
  },
  {
   "cell_type": "markdown",
   "metadata": {},
   "source": [
    "- Adding ridge and lasso coefficint to old data"
   ]
  },
  {
   "cell_type": "code",
   "execution_count": 86,
   "metadata": {},
   "outputs": [],
   "source": [
    "betas['Ridge1'] = ridge.coef_\n",
    "betas['Lasso1'] = lasso.coef_"
   ]
  },
  {
   "cell_type": "code",
   "execution_count": 87,
   "metadata": {},
   "outputs": [
    {
     "data": {
      "text/html": [
       "<div>\n",
       "<style scoped>\n",
       "    .dataframe tbody tr th:only-of-type {\n",
       "        vertical-align: middle;\n",
       "    }\n",
       "\n",
       "    .dataframe tbody tr th {\n",
       "        vertical-align: top;\n",
       "    }\n",
       "\n",
       "    .dataframe thead th {\n",
       "        text-align: right;\n",
       "    }\n",
       "</style>\n",
       "<table border=\"1\" class=\"dataframe\">\n",
       "  <thead>\n",
       "    <tr style=\"text-align: right;\">\n",
       "      <th></th>\n",
       "      <th>Ridge</th>\n",
       "      <th>Lasso</th>\n",
       "      <th>Ridge1</th>\n",
       "      <th>Lasso1</th>\n",
       "    </tr>\n",
       "  </thead>\n",
       "  <tbody>\n",
       "    <tr>\n",
       "      <th>OverallQual</th>\n",
       "      <td>0.097944</td>\n",
       "      <td>0.098222</td>\n",
       "      <td>0.097944</td>\n",
       "      <td>0.098222</td>\n",
       "    </tr>\n",
       "    <tr>\n",
       "      <th>OverallCond</th>\n",
       "      <td>0.052014</td>\n",
       "      <td>0.051844</td>\n",
       "      <td>0.052014</td>\n",
       "      <td>0.051844</td>\n",
       "    </tr>\n",
       "    <tr>\n",
       "      <th>BsmtFinSF1</th>\n",
       "      <td>0.009215</td>\n",
       "      <td>0.015528</td>\n",
       "      <td>0.009215</td>\n",
       "      <td>0.015528</td>\n",
       "    </tr>\n",
       "    <tr>\n",
       "      <th>BsmtFinSF2</th>\n",
       "      <td>0.010444</td>\n",
       "      <td>0.012615</td>\n",
       "      <td>0.010444</td>\n",
       "      <td>0.012615</td>\n",
       "    </tr>\n",
       "    <tr>\n",
       "      <th>BsmtUnfSF</th>\n",
       "      <td>-0.006157</td>\n",
       "      <td>-0.000000</td>\n",
       "      <td>-0.006157</td>\n",
       "      <td>-0.000000</td>\n",
       "    </tr>\n",
       "    <tr>\n",
       "      <th>TotalBsmtSF</th>\n",
       "      <td>0.007204</td>\n",
       "      <td>0.000352</td>\n",
       "      <td>0.007204</td>\n",
       "      <td>0.000352</td>\n",
       "    </tr>\n",
       "    <tr>\n",
       "      <th>1stFlrSF</th>\n",
       "      <td>0.047860</td>\n",
       "      <td>0.040453</td>\n",
       "      <td>0.047860</td>\n",
       "      <td>0.040453</td>\n",
       "    </tr>\n",
       "    <tr>\n",
       "      <th>2ndFlrSF</th>\n",
       "      <td>0.048197</td>\n",
       "      <td>0.039380</td>\n",
       "      <td>0.048197</td>\n",
       "      <td>0.039380</td>\n",
       "    </tr>\n",
       "    <tr>\n",
       "      <th>GrLivArea</th>\n",
       "      <td>0.089016</td>\n",
       "      <td>0.099351</td>\n",
       "      <td>0.089016</td>\n",
       "      <td>0.099351</td>\n",
       "    </tr>\n",
       "    <tr>\n",
       "      <th>GarageCars</th>\n",
       "      <td>0.059120</td>\n",
       "      <td>0.059280</td>\n",
       "      <td>0.059120</td>\n",
       "      <td>0.059280</td>\n",
       "    </tr>\n",
       "    <tr>\n",
       "      <th>Age</th>\n",
       "      <td>-0.052222</td>\n",
       "      <td>-0.052219</td>\n",
       "      <td>-0.052222</td>\n",
       "      <td>-0.052219</td>\n",
       "    </tr>\n",
       "    <tr>\n",
       "      <th>MSZoning_FV</th>\n",
       "      <td>0.066454</td>\n",
       "      <td>0.071208</td>\n",
       "      <td>0.066454</td>\n",
       "      <td>0.071208</td>\n",
       "    </tr>\n",
       "    <tr>\n",
       "      <th>MSZoning_RH</th>\n",
       "      <td>0.043063</td>\n",
       "      <td>0.045347</td>\n",
       "      <td>0.043063</td>\n",
       "      <td>0.045347</td>\n",
       "    </tr>\n",
       "    <tr>\n",
       "      <th>MSZoning_RL</th>\n",
       "      <td>0.161202</td>\n",
       "      <td>0.170259</td>\n",
       "      <td>0.161202</td>\n",
       "      <td>0.170259</td>\n",
       "    </tr>\n",
       "    <tr>\n",
       "      <th>MSZoning_RM</th>\n",
       "      <td>0.107605</td>\n",
       "      <td>0.115432</td>\n",
       "      <td>0.107605</td>\n",
       "      <td>0.115432</td>\n",
       "    </tr>\n",
       "    <tr>\n",
       "      <th>LotShape_IR3</th>\n",
       "      <td>-0.007683</td>\n",
       "      <td>-0.007581</td>\n",
       "      <td>-0.007683</td>\n",
       "      <td>-0.007581</td>\n",
       "    </tr>\n",
       "    <tr>\n",
       "      <th>LandContour_HLS</th>\n",
       "      <td>0.021262</td>\n",
       "      <td>0.021164</td>\n",
       "      <td>0.021262</td>\n",
       "      <td>0.021164</td>\n",
       "    </tr>\n",
       "    <tr>\n",
       "      <th>LandContour_Low</th>\n",
       "      <td>0.028634</td>\n",
       "      <td>0.028690</td>\n",
       "      <td>0.028634</td>\n",
       "      <td>0.028690</td>\n",
       "    </tr>\n",
       "    <tr>\n",
       "      <th>LandContour_Lvl</th>\n",
       "      <td>0.027581</td>\n",
       "      <td>0.027405</td>\n",
       "      <td>0.027581</td>\n",
       "      <td>0.027405</td>\n",
       "    </tr>\n",
       "    <tr>\n",
       "      <th>LotConfig_CulDSac</th>\n",
       "      <td>0.013253</td>\n",
       "      <td>0.013208</td>\n",
       "      <td>0.013253</td>\n",
       "      <td>0.013208</td>\n",
       "    </tr>\n",
       "    <tr>\n",
       "      <th>Neighborhood_ClearCr</th>\n",
       "      <td>0.018739</td>\n",
       "      <td>0.018573</td>\n",
       "      <td>0.018739</td>\n",
       "      <td>0.018573</td>\n",
       "    </tr>\n",
       "    <tr>\n",
       "      <th>Neighborhood_Crawfor</th>\n",
       "      <td>0.026701</td>\n",
       "      <td>0.026575</td>\n",
       "      <td>0.026701</td>\n",
       "      <td>0.026575</td>\n",
       "    </tr>\n",
       "    <tr>\n",
       "      <th>Neighborhood_Edwards</th>\n",
       "      <td>-0.021348</td>\n",
       "      <td>-0.021304</td>\n",
       "      <td>-0.021348</td>\n",
       "      <td>-0.021304</td>\n",
       "    </tr>\n",
       "    <tr>\n",
       "      <th>Neighborhood_NoRidge</th>\n",
       "      <td>0.017245</td>\n",
       "      <td>0.017187</td>\n",
       "      <td>0.017245</td>\n",
       "      <td>0.017187</td>\n",
       "    </tr>\n",
       "    <tr>\n",
       "      <th>Neighborhood_NridgHt</th>\n",
       "      <td>0.032296</td>\n",
       "      <td>0.032219</td>\n",
       "      <td>0.032296</td>\n",
       "      <td>0.032219</td>\n",
       "    </tr>\n",
       "    <tr>\n",
       "      <th>Neighborhood_Somerst</th>\n",
       "      <td>0.029605</td>\n",
       "      <td>0.029295</td>\n",
       "      <td>0.029605</td>\n",
       "      <td>0.029295</td>\n",
       "    </tr>\n",
       "    <tr>\n",
       "      <th>Condition1_Norm</th>\n",
       "      <td>0.025334</td>\n",
       "      <td>0.025294</td>\n",
       "      <td>0.025334</td>\n",
       "      <td>0.025294</td>\n",
       "    </tr>\n",
       "    <tr>\n",
       "      <th>BldgType_Twnhs</th>\n",
       "      <td>-0.022860</td>\n",
       "      <td>-0.022864</td>\n",
       "      <td>-0.022860</td>\n",
       "      <td>-0.022864</td>\n",
       "    </tr>\n",
       "    <tr>\n",
       "      <th>HouseStyle_2Story</th>\n",
       "      <td>-0.022051</td>\n",
       "      <td>-0.021848</td>\n",
       "      <td>-0.022051</td>\n",
       "      <td>-0.021848</td>\n",
       "    </tr>\n",
       "    <tr>\n",
       "      <th>Exterior1st_CemntBd</th>\n",
       "      <td>-0.020241</td>\n",
       "      <td>-0.019548</td>\n",
       "      <td>-0.020241</td>\n",
       "      <td>-0.019548</td>\n",
       "    </tr>\n",
       "    <tr>\n",
       "      <th>Exterior1st_HdBoard</th>\n",
       "      <td>-0.050101</td>\n",
       "      <td>-0.049064</td>\n",
       "      <td>-0.050101</td>\n",
       "      <td>-0.049064</td>\n",
       "    </tr>\n",
       "    <tr>\n",
       "      <th>Exterior1st_MetalSd</th>\n",
       "      <td>-0.041608</td>\n",
       "      <td>-0.040423</td>\n",
       "      <td>-0.041608</td>\n",
       "      <td>-0.040423</td>\n",
       "    </tr>\n",
       "    <tr>\n",
       "      <th>Exterior1st_OthersExterior1st</th>\n",
       "      <td>-0.029394</td>\n",
       "      <td>-0.028947</td>\n",
       "      <td>-0.029394</td>\n",
       "      <td>-0.028947</td>\n",
       "    </tr>\n",
       "    <tr>\n",
       "      <th>Exterior1st_Plywood</th>\n",
       "      <td>-0.026298</td>\n",
       "      <td>-0.025523</td>\n",
       "      <td>-0.026298</td>\n",
       "      <td>-0.025523</td>\n",
       "    </tr>\n",
       "    <tr>\n",
       "      <th>Exterior1st_VinylSd</th>\n",
       "      <td>-0.042555</td>\n",
       "      <td>-0.041066</td>\n",
       "      <td>-0.042555</td>\n",
       "      <td>-0.041066</td>\n",
       "    </tr>\n",
       "    <tr>\n",
       "      <th>Exterior1st_Wd Sdng</th>\n",
       "      <td>-0.045283</td>\n",
       "      <td>-0.044250</td>\n",
       "      <td>-0.045283</td>\n",
       "      <td>-0.044250</td>\n",
       "    </tr>\n",
       "    <tr>\n",
       "      <th>Exterior2nd_OthersExterior2nd</th>\n",
       "      <td>-0.015405</td>\n",
       "      <td>-0.014955</td>\n",
       "      <td>-0.015405</td>\n",
       "      <td>-0.014955</td>\n",
       "    </tr>\n",
       "    <tr>\n",
       "      <th>Exterior2nd_Wd Shng</th>\n",
       "      <td>-0.006690</td>\n",
       "      <td>-0.006530</td>\n",
       "      <td>-0.006690</td>\n",
       "      <td>-0.006530</td>\n",
       "    </tr>\n",
       "    <tr>\n",
       "      <th>Foundation_PConc</th>\n",
       "      <td>0.017680</td>\n",
       "      <td>0.017403</td>\n",
       "      <td>0.017680</td>\n",
       "      <td>0.017403</td>\n",
       "    </tr>\n",
       "    <tr>\n",
       "      <th>BsmtFinType1_LwQ</th>\n",
       "      <td>-0.010540</td>\n",
       "      <td>-0.010529</td>\n",
       "      <td>-0.010540</td>\n",
       "      <td>-0.010529</td>\n",
       "    </tr>\n",
       "    <tr>\n",
       "      <th>BsmtFinType1_Unf</th>\n",
       "      <td>-0.026181</td>\n",
       "      <td>-0.026204</td>\n",
       "      <td>-0.026181</td>\n",
       "      <td>-0.026204</td>\n",
       "    </tr>\n",
       "    <tr>\n",
       "      <th>BsmtFinType2_BLQ</th>\n",
       "      <td>-0.007014</td>\n",
       "      <td>-0.006960</td>\n",
       "      <td>-0.007014</td>\n",
       "      <td>-0.006960</td>\n",
       "    </tr>\n",
       "    <tr>\n",
       "      <th>BsmtFinType2_NoBasementFinType2</th>\n",
       "      <td>-0.027247</td>\n",
       "      <td>-0.027373</td>\n",
       "      <td>-0.027247</td>\n",
       "      <td>-0.027373</td>\n",
       "    </tr>\n",
       "    <tr>\n",
       "      <th>GarageFinish_Unf</th>\n",
       "      <td>-0.021489</td>\n",
       "      <td>-0.021505</td>\n",
       "      <td>-0.021489</td>\n",
       "      <td>-0.021505</td>\n",
       "    </tr>\n",
       "    <tr>\n",
       "      <th>Fence_GdWo</th>\n",
       "      <td>-0.008511</td>\n",
       "      <td>-0.008336</td>\n",
       "      <td>-0.008511</td>\n",
       "      <td>-0.008336</td>\n",
       "    </tr>\n",
       "    <tr>\n",
       "      <th>SaleType_New</th>\n",
       "      <td>0.015085</td>\n",
       "      <td>0.010667</td>\n",
       "      <td>0.015085</td>\n",
       "      <td>0.010667</td>\n",
       "    </tr>\n",
       "    <tr>\n",
       "      <th>SaleType_OthersSaleType</th>\n",
       "      <td>0.011872</td>\n",
       "      <td>0.011839</td>\n",
       "      <td>0.011872</td>\n",
       "      <td>0.011839</td>\n",
       "    </tr>\n",
       "    <tr>\n",
       "      <th>SaleCondition_Normal</th>\n",
       "      <td>0.029533</td>\n",
       "      <td>0.028946</td>\n",
       "      <td>0.029533</td>\n",
       "      <td>0.028946</td>\n",
       "    </tr>\n",
       "    <tr>\n",
       "      <th>SaleCondition_OthersSaleCondition</th>\n",
       "      <td>0.009202</td>\n",
       "      <td>0.008995</td>\n",
       "      <td>0.009202</td>\n",
       "      <td>0.008995</td>\n",
       "    </tr>\n",
       "    <tr>\n",
       "      <th>SaleCondition_Partial</th>\n",
       "      <td>0.015085</td>\n",
       "      <td>0.019032</td>\n",
       "      <td>0.015085</td>\n",
       "      <td>0.019032</td>\n",
       "    </tr>\n",
       "  </tbody>\n",
       "</table>\n",
       "</div>"
      ],
      "text/plain": [
       "                                      Ridge     Lasso    Ridge1    Lasso1\n",
       "OverallQual                        0.097944  0.098222  0.097944  0.098222\n",
       "OverallCond                        0.052014  0.051844  0.052014  0.051844\n",
       "BsmtFinSF1                         0.009215  0.015528  0.009215  0.015528\n",
       "BsmtFinSF2                         0.010444  0.012615  0.010444  0.012615\n",
       "BsmtUnfSF                         -0.006157 -0.000000 -0.006157 -0.000000\n",
       "TotalBsmtSF                        0.007204  0.000352  0.007204  0.000352\n",
       "1stFlrSF                           0.047860  0.040453  0.047860  0.040453\n",
       "2ndFlrSF                           0.048197  0.039380  0.048197  0.039380\n",
       "GrLivArea                          0.089016  0.099351  0.089016  0.099351\n",
       "GarageCars                         0.059120  0.059280  0.059120  0.059280\n",
       "Age                               -0.052222 -0.052219 -0.052222 -0.052219\n",
       "MSZoning_FV                        0.066454  0.071208  0.066454  0.071208\n",
       "MSZoning_RH                        0.043063  0.045347  0.043063  0.045347\n",
       "MSZoning_RL                        0.161202  0.170259  0.161202  0.170259\n",
       "MSZoning_RM                        0.107605  0.115432  0.107605  0.115432\n",
       "LotShape_IR3                      -0.007683 -0.007581 -0.007683 -0.007581\n",
       "LandContour_HLS                    0.021262  0.021164  0.021262  0.021164\n",
       "LandContour_Low                    0.028634  0.028690  0.028634  0.028690\n",
       "LandContour_Lvl                    0.027581  0.027405  0.027581  0.027405\n",
       "LotConfig_CulDSac                  0.013253  0.013208  0.013253  0.013208\n",
       "Neighborhood_ClearCr               0.018739  0.018573  0.018739  0.018573\n",
       "Neighborhood_Crawfor               0.026701  0.026575  0.026701  0.026575\n",
       "Neighborhood_Edwards              -0.021348 -0.021304 -0.021348 -0.021304\n",
       "Neighborhood_NoRidge               0.017245  0.017187  0.017245  0.017187\n",
       "Neighborhood_NridgHt               0.032296  0.032219  0.032296  0.032219\n",
       "Neighborhood_Somerst               0.029605  0.029295  0.029605  0.029295\n",
       "Condition1_Norm                    0.025334  0.025294  0.025334  0.025294\n",
       "BldgType_Twnhs                    -0.022860 -0.022864 -0.022860 -0.022864\n",
       "HouseStyle_2Story                 -0.022051 -0.021848 -0.022051 -0.021848\n",
       "Exterior1st_CemntBd               -0.020241 -0.019548 -0.020241 -0.019548\n",
       "Exterior1st_HdBoard               -0.050101 -0.049064 -0.050101 -0.049064\n",
       "Exterior1st_MetalSd               -0.041608 -0.040423 -0.041608 -0.040423\n",
       "Exterior1st_OthersExterior1st     -0.029394 -0.028947 -0.029394 -0.028947\n",
       "Exterior1st_Plywood               -0.026298 -0.025523 -0.026298 -0.025523\n",
       "Exterior1st_VinylSd               -0.042555 -0.041066 -0.042555 -0.041066\n",
       "Exterior1st_Wd Sdng               -0.045283 -0.044250 -0.045283 -0.044250\n",
       "Exterior2nd_OthersExterior2nd     -0.015405 -0.014955 -0.015405 -0.014955\n",
       "Exterior2nd_Wd Shng               -0.006690 -0.006530 -0.006690 -0.006530\n",
       "Foundation_PConc                   0.017680  0.017403  0.017680  0.017403\n",
       "BsmtFinType1_LwQ                  -0.010540 -0.010529 -0.010540 -0.010529\n",
       "BsmtFinType1_Unf                  -0.026181 -0.026204 -0.026181 -0.026204\n",
       "BsmtFinType2_BLQ                  -0.007014 -0.006960 -0.007014 -0.006960\n",
       "BsmtFinType2_NoBasementFinType2   -0.027247 -0.027373 -0.027247 -0.027373\n",
       "GarageFinish_Unf                  -0.021489 -0.021505 -0.021489 -0.021505\n",
       "Fence_GdWo                        -0.008511 -0.008336 -0.008511 -0.008336\n",
       "SaleType_New                       0.015085  0.010667  0.015085  0.010667\n",
       "SaleType_OthersSaleType            0.011872  0.011839  0.011872  0.011839\n",
       "SaleCondition_Normal               0.029533  0.028946  0.029533  0.028946\n",
       "SaleCondition_OthersSaleCondition  0.009202  0.008995  0.009202  0.008995\n",
       "SaleCondition_Partial              0.015085  0.019032  0.015085  0.019032"
      ]
     },
     "execution_count": 87,
     "metadata": {},
     "output_type": "execute_result"
    }
   ],
   "source": [
    "betas.head(50)"
   ]
  },
  {
   "cell_type": "markdown",
   "metadata": {},
   "source": [
    "- Top 5 features of lasso model"
   ]
  },
  {
   "cell_type": "code",
   "execution_count": 88,
   "metadata": {},
   "outputs": [
    {
     "data": {
      "text/html": [
       "<div>\n",
       "<style scoped>\n",
       "    .dataframe tbody tr th:only-of-type {\n",
       "        vertical-align: middle;\n",
       "    }\n",
       "\n",
       "    .dataframe tbody tr th {\n",
       "        vertical-align: top;\n",
       "    }\n",
       "\n",
       "    .dataframe thead th {\n",
       "        text-align: right;\n",
       "    }\n",
       "</style>\n",
       "<table border=\"1\" class=\"dataframe\">\n",
       "  <thead>\n",
       "    <tr style=\"text-align: right;\">\n",
       "      <th></th>\n",
       "      <th>Ridge</th>\n",
       "      <th>Lasso</th>\n",
       "      <th>Ridge1</th>\n",
       "      <th>Lasso1</th>\n",
       "    </tr>\n",
       "  </thead>\n",
       "  <tbody>\n",
       "    <tr>\n",
       "      <th>MSZoning_RL</th>\n",
       "      <td>0.161202</td>\n",
       "      <td>0.170259</td>\n",
       "      <td>0.161202</td>\n",
       "      <td>0.170259</td>\n",
       "    </tr>\n",
       "    <tr>\n",
       "      <th>MSZoning_RM</th>\n",
       "      <td>0.107605</td>\n",
       "      <td>0.115432</td>\n",
       "      <td>0.107605</td>\n",
       "      <td>0.115432</td>\n",
       "    </tr>\n",
       "    <tr>\n",
       "      <th>GrLivArea</th>\n",
       "      <td>0.089016</td>\n",
       "      <td>0.099351</td>\n",
       "      <td>0.089016</td>\n",
       "      <td>0.099351</td>\n",
       "    </tr>\n",
       "    <tr>\n",
       "      <th>OverallQual</th>\n",
       "      <td>0.097944</td>\n",
       "      <td>0.098222</td>\n",
       "      <td>0.097944</td>\n",
       "      <td>0.098222</td>\n",
       "    </tr>\n",
       "    <tr>\n",
       "      <th>MSZoning_FV</th>\n",
       "      <td>0.066454</td>\n",
       "      <td>0.071208</td>\n",
       "      <td>0.066454</td>\n",
       "      <td>0.071208</td>\n",
       "    </tr>\n",
       "  </tbody>\n",
       "</table>\n",
       "</div>"
      ],
      "text/plain": [
       "                Ridge     Lasso    Ridge1    Lasso1\n",
       "MSZoning_RL  0.161202  0.170259  0.161202  0.170259\n",
       "MSZoning_RM  0.107605  0.115432  0.107605  0.115432\n",
       "GrLivArea    0.089016  0.099351  0.089016  0.099351\n",
       "OverallQual  0.097944  0.098222  0.097944  0.098222\n",
       "MSZoning_FV  0.066454  0.071208  0.066454  0.071208"
      ]
     },
     "execution_count": 88,
     "metadata": {},
     "output_type": "execute_result"
    }
   ],
   "source": [
    "betas.sort_values(ascending=False,by=['Lasso1']).head(5)"
   ]
  },
  {
   "cell_type": "markdown",
   "metadata": {},
   "source": [
    "- Top 5 features of ridge model"
   ]
  },
  {
   "cell_type": "code",
   "execution_count": 89,
   "metadata": {},
   "outputs": [
    {
     "data": {
      "text/html": [
       "<div>\n",
       "<style scoped>\n",
       "    .dataframe tbody tr th:only-of-type {\n",
       "        vertical-align: middle;\n",
       "    }\n",
       "\n",
       "    .dataframe tbody tr th {\n",
       "        vertical-align: top;\n",
       "    }\n",
       "\n",
       "    .dataframe thead th {\n",
       "        text-align: right;\n",
       "    }\n",
       "</style>\n",
       "<table border=\"1\" class=\"dataframe\">\n",
       "  <thead>\n",
       "    <tr style=\"text-align: right;\">\n",
       "      <th></th>\n",
       "      <th>Ridge</th>\n",
       "      <th>Lasso</th>\n",
       "      <th>Ridge1</th>\n",
       "      <th>Lasso1</th>\n",
       "    </tr>\n",
       "  </thead>\n",
       "  <tbody>\n",
       "    <tr>\n",
       "      <th>MSZoning_RL</th>\n",
       "      <td>0.161202</td>\n",
       "      <td>0.170259</td>\n",
       "      <td>0.161202</td>\n",
       "      <td>0.170259</td>\n",
       "    </tr>\n",
       "    <tr>\n",
       "      <th>MSZoning_RM</th>\n",
       "      <td>0.107605</td>\n",
       "      <td>0.115432</td>\n",
       "      <td>0.107605</td>\n",
       "      <td>0.115432</td>\n",
       "    </tr>\n",
       "    <tr>\n",
       "      <th>OverallQual</th>\n",
       "      <td>0.097944</td>\n",
       "      <td>0.098222</td>\n",
       "      <td>0.097944</td>\n",
       "      <td>0.098222</td>\n",
       "    </tr>\n",
       "    <tr>\n",
       "      <th>GrLivArea</th>\n",
       "      <td>0.089016</td>\n",
       "      <td>0.099351</td>\n",
       "      <td>0.089016</td>\n",
       "      <td>0.099351</td>\n",
       "    </tr>\n",
       "    <tr>\n",
       "      <th>MSZoning_FV</th>\n",
       "      <td>0.066454</td>\n",
       "      <td>0.071208</td>\n",
       "      <td>0.066454</td>\n",
       "      <td>0.071208</td>\n",
       "    </tr>\n",
       "  </tbody>\n",
       "</table>\n",
       "</div>"
      ],
      "text/plain": [
       "                Ridge     Lasso    Ridge1    Lasso1\n",
       "MSZoning_RL  0.161202  0.170259  0.161202  0.170259\n",
       "MSZoning_RM  0.107605  0.115432  0.107605  0.115432\n",
       "OverallQual  0.097944  0.098222  0.097944  0.098222\n",
       "GrLivArea    0.089016  0.099351  0.089016  0.099351\n",
       "MSZoning_FV  0.066454  0.071208  0.066454  0.071208"
      ]
     },
     "execution_count": 89,
     "metadata": {},
     "output_type": "execute_result"
    }
   ],
   "source": [
    "betas.sort_values(ascending=False,by=['Ridge1']).head(5)"
   ]
  },
  {
   "cell_type": "markdown",
   "metadata": {},
   "source": [
    "- Question 3"
   ]
  },
  {
   "cell_type": "markdown",
   "metadata": {},
   "source": [
    "- removing top 5 features from our data to "
   ]
  },
  {
   "cell_type": "code",
   "execution_count": 90,
   "metadata": {},
   "outputs": [],
   "source": [
    "\n",
    "X_train=X_train.drop(['GrLivArea','OverallQual','OverallCond','GarageCars','MSZoning_RL'], axis =1)\n",
    "X_test=X_test.drop(['GrLivArea','OverallQual','OverallCond','GarageCars','MSZoning_RL'], axis =1)"
   ]
  },
  {
   "cell_type": "code",
   "execution_count": 91,
   "metadata": {},
   "outputs": [
    {
     "data": {
      "text/plain": [
       "(1021, 45)"
      ]
     },
     "execution_count": 91,
     "metadata": {},
     "output_type": "execute_result"
    }
   ],
   "source": [
    "X_train.shape"
   ]
  },
  {
   "cell_type": "markdown",
   "metadata": {},
   "source": [
    "- Hyperparameter tunning for new lasso model"
   ]
  },
  {
   "cell_type": "code",
   "execution_count": 92,
   "metadata": {},
   "outputs": [
    {
     "name": "stdout",
     "output_type": "stream",
     "text": [
      "Fitting 5 folds for each of 29 candidates, totalling 145 fits\n"
     ]
    },
    {
     "data": {
      "text/plain": [
       "GridSearchCV(cv=5, estimator=Lasso(),\n",
       "             param_grid={'alpha': [1e-05, 0.0001, 0.001, 0.01, 0.05, 0.1, 0.2,\n",
       "                                   0.3, 0.4, 0.5, 0.6, 0.7, 0.8, 0.9, 1.0, 2.0,\n",
       "                                   3.0, 4.0, 5.0, 6.0, 7.0, 8.0, 9.0, 10.0, 20,\n",
       "                                   50, 100, 500, 1000]},\n",
       "             return_train_score=True, scoring='neg_mean_absolute_error',\n",
       "             verbose=1)"
      ]
     },
     "execution_count": 92,
     "metadata": {},
     "output_type": "execute_result"
    }
   ],
   "source": [
    "lasso = Lasso()\n",
    "\n",
    "# cross validation\n",
    "model_cv = GridSearchCV(estimator = lasso, \n",
    "                        param_grid = params, \n",
    "                        scoring= 'neg_mean_absolute_error', \n",
    "                        cv = folds, \n",
    "                        return_train_score=True,\n",
    "                        verbose = 1)            \n",
    "\n",
    "model_cv.fit(X_train, y_train) "
   ]
  },
  {
   "cell_type": "code",
   "execution_count": 93,
   "metadata": {},
   "outputs": [
    {
     "name": "stdout",
     "output_type": "stream",
     "text": [
      "{'alpha': 0.001}\n"
     ]
    }
   ],
   "source": [
    "# Printing the best hyperparameter alpha\n",
    "print(model_cv.best_params_)"
   ]
  },
  {
   "cell_type": "code",
   "execution_count": 94,
   "metadata": {},
   "outputs": [
    {
     "data": {
      "text/plain": [
       "Lasso(alpha=0.001)"
      ]
     },
     "execution_count": 94,
     "metadata": {},
     "output_type": "execute_result"
    }
   ],
   "source": [
    "#Fitting Ridge model for alpha = 0.001 and printing coefficients which have been penalised\n",
    "\n",
    "alpha = model_cv.best_params_[\"alpha\"]\n",
    "\n",
    "lasso = Lasso(alpha=alpha)\n",
    "        \n",
    "lasso.fit(X_train, y_train) "
   ]
  },
  {
   "cell_type": "markdown",
   "metadata": {},
   "source": [
    "- Looking at coefficient we get from lasso model"
   ]
  },
  {
   "cell_type": "code",
   "execution_count": 95,
   "metadata": {},
   "outputs": [
    {
     "data": {
      "text/plain": [
       "array([ 0.01576318,  0.01540793, -0.00393155,  0.        ,  0.17917474,\n",
       "        0.15704888, -0.08816173, -0.0115161 , -0.00447152, -0.01744237,\n",
       "       -0.01216577,  0.03012279,  0.02735927,  0.03261769,  0.02047741,\n",
       "        0.01392854,  0.03681122, -0.03692564,  0.02049244,  0.05152945,\n",
       "        0.03926653,  0.02564929, -0.03220722, -0.01227678, -0.00678603,\n",
       "       -0.01916944, -0.0120778 , -0.0125464 , -0.00630196, -0.00227774,\n",
       "       -0.01521287, -0.0156609 , -0.001061  ,  0.03224748, -0.01232516,\n",
       "       -0.02184371, -0.00464762, -0.03997382, -0.0136354 , -0.01342483,\n",
       "        0.01408033,  0.00212144,  0.04401915,  0.0041383 ,  0.02420325])"
      ]
     },
     "execution_count": 95,
     "metadata": {},
     "output_type": "execute_result"
    }
   ],
   "source": [
    "lasso.coef_"
   ]
  },
  {
   "cell_type": "code",
   "execution_count": 96,
   "metadata": {},
   "outputs": [
    {
     "name": "stdout",
     "output_type": "stream",
     "text": [
      "R2 Score Train :  0.83\n",
      "R2 Score Test :  0.7\n",
      "RSS of Train :  27.64\n",
      "RSS of Test :  21.76\n",
      "MSE of Train :  0.03\n",
      "MSE of Test :  0.05\n"
     ]
    }
   ],
   "source": [
    "# Lets calculate some metrics such as R2 score, RSS and RMSE\n",
    "\n",
    "y_pred_train = lasso.predict(X_train)\n",
    "y_pred_test = lasso.predict(X_test)\n",
    "\n",
    "metric7 = []\n",
    "r2_train = r2_score(y_train, y_pred_train)\n",
    "print(\"R2 Score Train : \",round(r2_train,2))\n",
    "metric7.append(r2_train)\n",
    "\n",
    "r2_test = r2_score(y_test, y_pred_test)\n",
    "print(\"R2 Score Test : \",round(r2_test,2))\n",
    "metric7.append(r2_test)\n",
    "\n",
    "rss1 = np.sum(np.square(y_train - y_pred_train))\n",
    "print(\"RSS of Train : \",round(rss1,2))\n",
    "metric7.append(rss1)\n",
    "\n",
    "rss2 = np.sum(np.square(y_test - y_pred_test))\n",
    "print(\"RSS of Test : \",round(rss2,2))\n",
    "metric7.append(rss2)\n",
    "\n",
    "mse_train = mean_squared_error(y_train, y_pred_train)\n",
    "print(\"MSE of Train : \",round(mse_train,2))\n",
    "metric7.append(mse_train**0.5)\n",
    "\n",
    "mse_test = mean_squared_error(y_test, y_pred_test)\n",
    "print(\"MSE of Test : \",round(mse_test,2))\n",
    "metric7.append(mse_test**0.5)"
   ]
  },
  {
   "cell_type": "code",
   "execution_count": 97,
   "metadata": {},
   "outputs": [
    {
     "data": {
      "text/html": [
       "<div>\n",
       "<style scoped>\n",
       "    .dataframe tbody tr th:only-of-type {\n",
       "        vertical-align: middle;\n",
       "    }\n",
       "\n",
       "    .dataframe tbody tr th {\n",
       "        vertical-align: top;\n",
       "    }\n",
       "\n",
       "    .dataframe thead th {\n",
       "        text-align: right;\n",
       "    }\n",
       "</style>\n",
       "<table border=\"1\" class=\"dataframe\">\n",
       "  <thead>\n",
       "    <tr style=\"text-align: right;\">\n",
       "      <th></th>\n",
       "      <th>Lasso</th>\n",
       "    </tr>\n",
       "  </thead>\n",
       "  <tbody>\n",
       "    <tr>\n",
       "      <th>BsmtFinSF1</th>\n",
       "      <td>0.015763</td>\n",
       "    </tr>\n",
       "    <tr>\n",
       "      <th>BsmtFinSF2</th>\n",
       "      <td>0.015408</td>\n",
       "    </tr>\n",
       "    <tr>\n",
       "      <th>BsmtUnfSF</th>\n",
       "      <td>-0.003932</td>\n",
       "    </tr>\n",
       "    <tr>\n",
       "      <th>TotalBsmtSF</th>\n",
       "      <td>0.000000</td>\n",
       "    </tr>\n",
       "    <tr>\n",
       "      <th>1stFlrSF</th>\n",
       "      <td>0.179175</td>\n",
       "    </tr>\n",
       "  </tbody>\n",
       "</table>\n",
       "</div>"
      ],
      "text/plain": [
       "                Lasso\n",
       "BsmtFinSF1   0.015763\n",
       "BsmtFinSF2   0.015408\n",
       "BsmtUnfSF   -0.003932\n",
       "TotalBsmtSF  0.000000\n",
       "1stFlrSF     0.179175"
      ]
     },
     "execution_count": 97,
     "metadata": {},
     "output_type": "execute_result"
    }
   ],
   "source": [
    "betas1 = pd.DataFrame(index=X_train.columns)\n",
    "betas1.rows = X_train.columns\n",
    "betas1['Lasso'] = lasso.coef_\n",
    "betas1.head()"
   ]
  },
  {
   "cell_type": "markdown",
   "metadata": {},
   "source": [
    "- Top 5 features of new Lasso model most important."
   ]
  },
  {
   "cell_type": "code",
   "execution_count": 98,
   "metadata": {},
   "outputs": [
    {
     "data": {
      "text/html": [
       "<div>\n",
       "<style scoped>\n",
       "    .dataframe tbody tr th:only-of-type {\n",
       "        vertical-align: middle;\n",
       "    }\n",
       "\n",
       "    .dataframe tbody tr th {\n",
       "        vertical-align: top;\n",
       "    }\n",
       "\n",
       "    .dataframe thead th {\n",
       "        text-align: right;\n",
       "    }\n",
       "</style>\n",
       "<table border=\"1\" class=\"dataframe\">\n",
       "  <thead>\n",
       "    <tr style=\"text-align: right;\">\n",
       "      <th></th>\n",
       "      <th>Lasso</th>\n",
       "    </tr>\n",
       "  </thead>\n",
       "  <tbody>\n",
       "    <tr>\n",
       "      <th>1stFlrSF</th>\n",
       "      <td>0.179175</td>\n",
       "    </tr>\n",
       "    <tr>\n",
       "      <th>2ndFlrSF</th>\n",
       "      <td>0.157049</td>\n",
       "    </tr>\n",
       "    <tr>\n",
       "      <th>Neighborhood_NridgHt</th>\n",
       "      <td>0.051529</td>\n",
       "    </tr>\n",
       "    <tr>\n",
       "      <th>SaleCondition_Normal</th>\n",
       "      <td>0.044019</td>\n",
       "    </tr>\n",
       "    <tr>\n",
       "      <th>Neighborhood_Somerst</th>\n",
       "      <td>0.039267</td>\n",
       "    </tr>\n",
       "  </tbody>\n",
       "</table>\n",
       "</div>"
      ],
      "text/plain": [
       "                         Lasso\n",
       "1stFlrSF              0.179175\n",
       "2ndFlrSF              0.157049\n",
       "Neighborhood_NridgHt  0.051529\n",
       "SaleCondition_Normal  0.044019\n",
       "Neighborhood_Somerst  0.039267"
      ]
     },
     "execution_count": 98,
     "metadata": {},
     "output_type": "execute_result"
    }
   ],
   "source": [
    "betas1.sort_values(ascending=False,by=['Lasso']).head(5)"
   ]
  },
  {
   "cell_type": "code",
   "execution_count": null,
   "metadata": {},
   "outputs": [],
   "source": []
  }
 ],
 "metadata": {
  "kernelspec": {
   "display_name": "Python 3",
   "language": "python",
   "name": "python3"
  },
  "language_info": {
   "codemirror_mode": {
    "name": "ipython",
    "version": 3
   },
   "file_extension": ".py",
   "mimetype": "text/x-python",
   "name": "python",
   "nbconvert_exporter": "python",
   "pygments_lexer": "ipython3",
   "version": "3.8.8"
  }
 },
 "nbformat": 4,
 "nbformat_minor": 2
}
